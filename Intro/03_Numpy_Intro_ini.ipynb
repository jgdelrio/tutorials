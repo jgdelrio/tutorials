{
 "cells": [
  {
   "cell_type": "markdown",
   "metadata": {},
   "source": [
    "# Numpy Intro\n",
    "\n",
    "### Load basic libraries"
   ]
  },
  {
   "cell_type": "code",
   "execution_count": 1,
   "metadata": {},
   "outputs": [],
   "source": [
    "%load_ext autoreload\n",
    "%autoreload 2\n",
    "%matplotlib inline\n",
    "\n",
    "import numpy as np\n",
    "import pandas as pd\n",
    "import matplotlib.pyplot as plt"
   ]
  },
  {
   "cell_type": "markdown",
   "metadata": {},
   "source": [
    "### Numpy basic operations\n",
    "\n",
    "What provides Numpy:\n",
    "\n",
    "- ndarray --> fast and space-efficient multidimensional array with vectorized arithmetic operations and sophisticated broadcasting capabilities\n",
    "\n",
    "- Standard mathematical functions for fast operations on entire arrays of data without using loops\n",
    "\n",
    "- Read/Write tools for transfering data to disk or working with memory-mapped files\n",
    "\n",
    "- Linear algebra, random number generation and Fourier transform capabilities\n",
    "\n",
    "- Tools for integrating code written in C, C++, and Fortran\n",
    "\n",
    "While NumPy by itself does not provide very much high-level data analytical functionality, having an understanding of NumPy arrays and array-oriented computing will help you use tools like pandas much more effectively."
   ]
  },
  {
   "cell_type": "code",
   "execution_count": 2,
   "metadata": {},
   "outputs": [],
   "source": [
    "# Create a rank 1 array\n",
    "\n",
    "# Print its type and shape\n",
    "\n",
    "# Update an element within the array\n",
    "\n",
    "# Create a rank 2 array\n"
   ]
  },
  {
   "cell_type": "code",
   "execution_count": 3,
   "metadata": {},
   "outputs": [],
   "source": [
    "np.zeros?"
   ]
  },
  {
   "cell_type": "code",
   "execution_count": 4,
   "metadata": {},
   "outputs": [],
   "source": [
    "# Create an array of zeros\n",
    "\n",
    "# Create an array of ones\n",
    "\n",
    "# Create a constant array\n",
    "\n",
    "# Create an identity matrix\n",
    "\n",
    "# Create a matrix filled with random values\n",
    "\n",
    "# Allocate matrix without initializing values\n"
   ]
  },
  {
   "cell_type": "markdown",
   "metadata": {},
   "source": [
    "<font color=red>NOTE: It’s not safe to assume that np.empty will return an array of all zeros. In many cases, as previously shown, it will return uninitialized garbage values.</font>"
   ]
  },
  {
   "cell_type": "markdown",
   "metadata": {},
   "source": [
    "### Array Indexing and Slicing\n",
    "\n",
    "Nested sequences, like a list of equal-length lists, will be converted into a multidimensional array.\n",
    "\n",
    "Note that np.array tries to infer a good data type for the array that it creates. The data type is stored in a special dtype object."
   ]
  },
  {
   "cell_type": "code",
   "execution_count": 5,
   "metadata": {},
   "outputs": [],
   "source": [
    "# Create a sequence from 0 to 9\n",
    "\n",
    "# Select value at index 5\n",
    "\n",
    "# Slice from 5 to 8\n",
    "\n",
    "# Slice last 2 elements\n",
    "\n",
    "# Create a copy of the array\n",
    "\n",
    "# Overwrite values 5, 6 and 7 with a different value in the copy\n",
    "\n",
    "# Verify original array\n"
   ]
  },
  {
   "cell_type": "code",
   "execution_count": 6,
   "metadata": {},
   "outputs": [],
   "source": [
    "# Create the rank 2 array 'x' with shape (3, 4)\n",
    "# [[ 1  2  3  4]\n",
    "#  [ 5  6  7  8]\n",
    "#  [ 9 10 11 12]]\n",
    "\n",
    "x = None"
   ]
  },
  {
   "cell_type": "code",
   "execution_count": 7,
   "metadata": {},
   "outputs": [],
   "source": [
    "# Use slicing to pull out the subarray consisting of the first 2 rows\n",
    "# and columns 1 and 2; 'y' is the following array of shape (2, 2):\n",
    "# [[2 3]\n",
    "#  [6 7]]\n",
    "y = None\n",
    "\n",
    "# A slice of an array is a view into the same data, so modifying it will modify the original array.\n",
    "# Print position [0,1] of 'x'\n",
    "\n",
    "# Update value of 'y' at [0,0]\n",
    "\n",
    "# Print x\n"
   ]
  },
  {
   "cell_type": "code",
   "execution_count": 8,
   "metadata": {},
   "outputs": [],
   "source": [
    "x = np.array([[1,2,3,4], [5,6,7,8], [9,10,11,12]])\n",
    "\n",
    "# Two ways of accessing the data in the middle row of the array.\n",
    "# Mixing integer indexing with slices yields an array of lower rank,\n",
    "# while using only slices yields an array of the same rank as the original array:\n",
    "\n",
    "# Get a rank 1 view of the second row\n",
    "\n",
    "# Get a rank 2 view of the second row\n",
    "\n",
    "# Verify ranks (shape)\n",
    "\n",
    "# Repeat for the second column\n"
   ]
  },
  {
   "cell_type": "code",
   "execution_count": null,
   "metadata": {},
   "outputs": [],
   "source": []
  },
  {
   "cell_type": "markdown",
   "metadata": {},
   "source": [
    "### Last Session"
   ]
  },
  {
   "cell_type": "markdown",
   "metadata": {},
   "source": [
    "**Integer array indexing:** When you index into numpy arrays using slicing, the resulting array view will always be a subarray of the original array. In contrast, integer array indexing allows you to construct arbitrary arrays using the data from another array. Here is an example:"
   ]
  },
  {
   "cell_type": "code",
   "execution_count": 8,
   "metadata": {},
   "outputs": [
    {
     "name": "stdout",
     "output_type": "stream",
     "text": [
      "[1 4 5]\n"
     ]
    }
   ],
   "source": [
    "x = np.array([[1,2], [3, 4], [5, 6]])\n",
    "\n",
    "# An example of integer array indexing. The returned array will have shape (3,) and Prints \"[1 4 5]\"\n",
    "print(x[[0, 1, 2], [0, 1, 0]])\n",
    "\n",
    "# Create a similar array referencing each value individually\n",
    "\n",
    "\n",
    "# When using integer array indexing, you can reuse the same element from the source array.\n",
    "# Return and array that index multiple times the value at [0, 1]\n"
   ]
  },
  {
   "cell_type": "markdown",
   "metadata": {},
   "source": [
    "Using array indexing we can select or mutate one element from each row of a matrix:"
   ]
  },
  {
   "cell_type": "code",
   "execution_count": 9,
   "metadata": {},
   "outputs": [],
   "source": [
    "x = np.array([[1,2,3], [4,5,6], [7,8,9], [10, 11, 12]])\n",
    "# Create an array of indices for positions 0, 2, 0, 1\n",
    "idx = None\n",
    "\n",
    "# Select one element from each row using the indices in idx for selecting the value within the row\n",
    "\n",
    "\n",
    "# Mutate one element from each row using the indices in idx.\n",
    "\n",
    "\n",
    "# Print final result of 'x'\n"
   ]
  },
  {
   "cell_type": "markdown",
   "metadata": {},
   "source": [
    "**Boolean array indexing:** Boolean array indexing lets you pick out arbitrary elements of an array. Frequently this type of indexing is used to select the elements of an array that satisfy some condition."
   ]
  },
  {
   "cell_type": "code",
   "execution_count": 10,
   "metadata": {},
   "outputs": [],
   "source": [
    "x = np.array([[1,2], [3, 4], [5, 6]])\n",
    "\n",
    "# Create a boolean index for values > 2\n",
    "\n",
    "\n",
    "# Print the boolean index\n",
    "\n",
    "\n",
    "# Create a rank 1 array using the boolean index\n",
    "\n",
    "\n",
    "# Repeat all the steps in a single statement\n"
   ]
  },
  {
   "cell_type": "markdown",
   "metadata": {},
   "source": [
    "## Datatypes\n",
    "\n",
    "Every numpy array is a grid of *elements of the same type*. Numpy provides a large set of numeric datatypes that you can use to construct arrays. Numpy tries to guess a datatype when you create an array, but functions that construct arrays usually also include an optional argument to explicitly specify the datatype."
   ]
  },
  {
   "cell_type": "code",
   "execution_count": 12,
   "metadata": {},
   "outputs": [],
   "source": [
    "x = np.array([1, 2])                   # Let numpy choose the datatype\n",
    "# Print the data type of x\n",
    "\n",
    "# Create an array similar to x but with floats\n",
    "\n",
    "\n",
    "# Create an array similar to x specifying datatype int64 (dtype)\n"
   ]
  },
  {
   "cell_type": "markdown",
   "metadata": {},
   "source": [
    "Valid datatypes include:\n",
    "- int8, uint8\n",
    "- int16, uint16\n",
    "- int32, uint32\n",
    "- int64, uint64\n",
    "- float16\n",
    "- float32\n",
    "- float64\n",
    "- float128\n",
    "- complex64, complex128, complex256\n",
    "- bool\n",
    "- object\n",
    "- string_\n",
    "- unicode_\n",
    "\n",
    "<font color=red>It’s worth keeping in mind that floating point numbers, such as those in float64 and float32 arrays, are only capable of approximating fractional quantities. In complex computations, you may accrue some floating point error, making comparisons only valid up to a certain number of decimal places.</font>"
   ]
  },
  {
   "cell_type": "markdown",
   "metadata": {},
   "source": [
    "## Math\n",
    "\n",
    "Basic mathematical functions operate elementwise on arrays and are available both as operator overloads and as functions in the numpy module:"
   ]
  },
  {
   "cell_type": "code",
   "execution_count": 13,
   "metadata": {},
   "outputs": [],
   "source": [
    "z = np.array([[0.1,0.2,0.3],[0.4,0.5,0.6]], dtype=np.float64)\n",
    "\n",
    "# Multiply all elements of the array by 10\n"
   ]
  },
  {
   "cell_type": "code",
   "execution_count": 14,
   "metadata": {},
   "outputs": [],
   "source": [
    "# Elementwise operations:\n",
    "x = np.array([[1,2],[3,4]], dtype=np.float64)\n",
    "y = np.array([[5,6],[7,8]], dtype=np.float64)\n",
    "\n",
    "# Obtain the results of the element wise operations +, -, *, / \n",
    "# using the operators as well as the existing numpy functions\n",
    "\n",
    "\n",
    "\n",
    "\n",
    "# Calculate the elementwise square root of 'x'\n"
   ]
  },
  {
   "cell_type": "markdown",
   "metadata": {},
   "source": [
    "**\\*** is elementwise multiplication, not matrix multiplication. We instead use the **dot** function to compute inner products of vectors, to multiply a vector by a matrix, and to multiply matrices. dot is available both as a function in the numpy module and as an instance method of array objects:"
   ]
  },
  {
   "cell_type": "code",
   "execution_count": 15,
   "metadata": {},
   "outputs": [],
   "source": [
    "v = np.array([9,10])\n",
    "w = np.array([11, 12])\n",
    "\n",
    "# Obtain the inner product of vectors 'v' and 'w' using the dot function as well as the instance method\n",
    "\n",
    "\n",
    "\n",
    "\n",
    "x = np.array([[1,2],[3,4]])\n",
    "y = np.array([[5,6],[7,8]])\n",
    "\n",
    "# Matrix / vector product; calculate the product of 'x' and 'v' (both methods)\n",
    "# [29 67]\n",
    "\n",
    "\n",
    "# Matrix / matrix product; calculate the product of 'x' and 'y' (both methods)\n",
    "# [[19 22]\n",
    "#  [43 50]]\n"
   ]
  },
  {
   "cell_type": "code",
   "execution_count": 16,
   "metadata": {},
   "outputs": [],
   "source": [
    "x = np.array([[1,2],[3,4]])\n",
    "\n",
    "# Compute sum of all elements; prints \"10\"\n",
    "\n",
    "\n",
    "# Compute sum of each column; prints \"[4 6]\"\n",
    "\n",
    "\n",
    "# Compute sum of each row; prints \"[3 7]\"\n",
    "\n",
    "\n",
    "# Print x transposed\n",
    "\n",
    "\n",
    "# What happens if you transpose 'v'?\n",
    "v = np.array([1,2,3])\n"
   ]
  },
  {
   "cell_type": "markdown",
   "metadata": {},
   "source": [
    "## Broadcasting\n",
    "\n",
    "Broadcasting allows numpy to work with arrays of different shapes when performing arithmetic operations. Frequently we have a smaller array and a larger array, and we want to use the smaller array multiple times to perform some operation on the larger array.\n",
    "\n",
    "For example suppose that we want to add a constant vector to each row of a matrix. "
   ]
  },
  {
   "cell_type": "code",
   "execution_count": 17,
   "metadata": {},
   "outputs": [],
   "source": [
    "# We will add the vector v to each row of the matrix x, storing the result in the matrix y\n",
    "x = np.array([[1,2,3], [4,5,6], [7,8,9], [10, 11, 12]])\n",
    "v = np.array([1, 0, 1])\n",
    "y = np.empty_like(x)        # Create an empty matrix with the same shape as x\n",
    "\n",
    "# Add the vector v to each row of the matrix x with an explicit loop\n",
    "\n",
    "\n",
    "\n",
    "# Now y is the following\n",
    "# [[ 2  2  4]\n",
    "#  [ 5  5  7]\n",
    "#  [ 8  8 10]\n",
    "#  [11 11 13]]\n"
   ]
  },
  {
   "cell_type": "markdown",
   "metadata": {},
   "source": [
    "However when the matrix x is very large, computing an explicit loop in Python could be slow. Note that adding the vector v to each row of the matrix x is equivalent to forming a matrix vv by stacking multiple copies of v vertically, then performing elementwise summation of x and vv."
   ]
  },
  {
   "cell_type": "code",
   "execution_count": 18,
   "metadata": {},
   "outputs": [],
   "source": [
    "# We will add the vector v to each row of the matrix x, storing the result in the matrix y\n",
    "x = np.array([[1,2,3], [4,5,6], [7,8,9], [10, 11, 12]])\n",
    "v = np.array([1, 0, 1])\n",
    "\n",
    "# Use tile to stack copies of v\n",
    "\n",
    "\n",
    "# Add x and vv elementwise\n"
   ]
  },
  {
   "cell_type": "markdown",
   "metadata": {},
   "source": [
    "Numpy broadcasting allows us to perform this computation without actually creating multiple copies of v."
   ]
  },
  {
   "cell_type": "code",
   "execution_count": 19,
   "metadata": {},
   "outputs": [],
   "source": [
    "# Add the vector v to each row of the matrix x, storing the result in the matrix y\n",
    "x = np.array([[1,2,3], [4,5,6], [7,8,9], [10, 11, 12]])\n",
    "v = np.array([1, 0, 1])\n",
    "y = "
   ]
  },
  {
   "cell_type": "markdown",
   "metadata": {},
   "source": [
    "Broadcasting two arrays together follows these rules:\n",
    "\n",
    "- If the arrays do not have the same rank, prepend the shape of the lower rank array with 1s until both shapes have the same length.\n",
    "- The two arrays are said to be compatible in a dimension if they have the same size in the dimension, or if one of the arrays has size 1 in that dimension.\n",
    "- The arrays can be broadcast together if they are compatible in all dimensions.\n",
    "- After broadcasting, each array behaves as if it had shape equal to the elementwise maximum of shapes of the two input arrays.\n",
    "- In any dimension where one array had size 1 and the other array had size greater than 1, the first array behaves as if it were copied along that dimension\n",
    "\n",
    "Functions that support broadcasting are known as **[Universal Functions](https://docs.scipy.org/doc/numpy/reference/ufuncs.html#available-ufuncs)**\n",
    "\n",
    "Some applications of broadcasting include:"
   ]
  },
  {
   "cell_type": "code",
   "execution_count": 19,
   "metadata": {},
   "outputs": [
    {
     "name": "stdout",
     "output_type": "stream",
     "text": [
      "[[ 4  5]\n",
      " [ 8 10]\n",
      " [12 15]]\n",
      "[[2 4 6]\n",
      " [5 7 9]]\n",
      "[[ 5  6  7]\n",
      " [ 9 10 11]]\n",
      "[[ 5  6  7]\n",
      " [ 9 10 11]]\n",
      "[[ 2  4  6]\n",
      " [ 8 10 12]]\n"
     ]
    }
   ],
   "source": [
    "# Compute outer product of vectors\n",
    "v = np.array([1,2,3])  # v has shape (3,)\n",
    "w = np.array([4,5])    # w has shape (2,)\n",
    "# To compute an outer product, we first reshape v to be a column\n",
    "# vector of shape (3, 1); we can then broadcast it against w to yield\n",
    "# an output of shape (3, 2), which is the outer product of v and w:\n",
    "# [[ 4  5]\n",
    "#  [ 8 10]\n",
    "#  [12 15]]\n",
    "print(np.reshape(v, (3, 1)) * w)\n",
    "\n",
    "# Add a vector to each row of a matrix\n",
    "x = np.array([[1,2,3], [4,5,6]])\n",
    "# x has shape (2, 3) and v has shape (3,) so they broadcast to (2, 3),\n",
    "# giving the following matrix:\n",
    "# [[2 4 6]\n",
    "#  [5 7 9]]\n",
    "print(x + v)\n",
    "\n",
    "# Add a vector to each column of a matrix\n",
    "# x has shape (2, 3) and w has shape (2,).\n",
    "# If we transpose x then it has shape (3, 2) and can be broadcast\n",
    "# against w to yield a result of shape (3, 2); transposing this result\n",
    "# yields the final result of shape (2, 3) which is the matrix x with\n",
    "# the vector w added to each column. Gives the following matrix:\n",
    "# [[ 5  6  7]\n",
    "#  [ 9 10 11]]\n",
    "print((x.T + w).T)\n",
    "# Another solution is to reshape w to be a column vector of shape (2, 1);\n",
    "# we can then broadcast it directly against x to produce the same\n",
    "# output.\n",
    "print(x + np.reshape(w, (2, 1)))\n",
    "\n",
    "# Multiply a matrix by a constant:\n",
    "# x has shape (2, 3). Numpy treats scalars as arrays of shape ();\n",
    "# these can be broadcast together to shape (2, 3), producing the\n",
    "# following array:\n",
    "# [[ 2  4  6]\n",
    "#  [ 8 10 12]]\n",
    "print(x * 2)"
   ]
  },
  {
   "cell_type": "markdown",
   "metadata": {},
   "source": [
    "Check out the [numpy reference](http://docs.scipy.org/doc/numpy/reference/) to find out much more about numpy."
   ]
  },
  {
   "cell_type": "markdown",
   "metadata": {},
   "source": [
    "## Scipy\n",
    "\n",
    "Numpy provides a high-performance multidimensional array and basic tools to compute with and manipulate these arrays.\n",
    "\n",
    "SciPy builds on this and provides a large number of functions that operate on numpy arrays and are useful for different types of scientific and engineering applications.\n",
    "\n",
    "For example SciPy provides some basic functions to work with images. Read images from disk into numpy arrays, write numpy arrays to disk as images and resize images."
   ]
  },
  {
   "cell_type": "code",
   "execution_count": 3,
   "metadata": {},
   "outputs": [],
   "source": [
    "# if you don't have the package...\n",
    "# !pip install scipy\n",
    "import scipy\n",
    "\n",
    "scipy?"
   ]
  },
  {
   "cell_type": "markdown",
   "metadata": {},
   "source": [
    "### Distance between points\n",
    "\n",
    "The function scipy.spatial.distance.pdist computes the distance between all pairs of points in a given set:"
   ]
  },
  {
   "cell_type": "code",
   "execution_count": 20,
   "metadata": {},
   "outputs": [
    {
     "name": "stdout",
     "output_type": "stream",
     "text": [
      "[[0 1]\n",
      " [1 0]\n",
      " [2 0]]\n",
      "[[0.         1.41421356 2.23606798]\n",
      " [1.41421356 0.         1.        ]\n",
      " [2.23606798 1.         0.        ]]\n"
     ]
    }
   ],
   "source": [
    "from scipy.spatial.distance import pdist, squareform\n",
    "\n",
    "# Create the following array where each row is a point in 2D space:\n",
    "# [[0 1]\n",
    "#  [1 0]\n",
    "#  [2 0]]\n",
    "\n",
    "\n",
    "# Compute the Euclidean distance between all rows of x.\n",
    "# d[i, j] is the Euclidean distance between x[i, :] and x[j, :],\n",
    "# and d is the following array:\n",
    "# [[ 0.          1.41421356  2.23606798]\n",
    "#  [ 1.41421356  0.          1.        ]\n",
    "#  [ 2.23606798  1.          0.        ]]\n"
   ]
  },
  {
   "cell_type": "code",
   "execution_count": null,
   "metadata": {},
   "outputs": [],
   "source": []
  }
 ],
 "metadata": {
  "kernelspec": {
   "display_name": "Python [conda env:tensorflow2] *",
   "language": "python",
   "name": "conda-env-tensorflow2-py"
  },
  "language_info": {
   "codemirror_mode": {
    "name": "ipython",
    "version": 3
   },
   "file_extension": ".py",
   "mimetype": "text/x-python",
   "name": "python",
   "nbconvert_exporter": "python",
   "pygments_lexer": "ipython3",
   "version": "3.7.5"
  }
 },
 "nbformat": 4,
 "nbformat_minor": 2
}
