{
 "cells": [
  {
   "cell_type": "markdown",
   "metadata": {},
   "source": [
    "# Multi-Class Multi-Label text Classification with Spacy"
   ]
  },
  {
   "cell_type": "markdown",
   "metadata": {},
   "source": [
    "We are going to use the dataframe created in the previous notebook and use Spacy to create a model. <br>\n",
    "Use one of the following to install the package: <br>\n",
    "* conda install -c conda-forge spacy\n",
    "* pip install -U spacy\n",
    "\n",
    "To download one of the pre-trained models:\n",
    "* python -m spacy download en_core_web_md"
   ]
  },
  {
   "cell_type": "markdown",
   "metadata": {},
   "source": [
    "Loading general libraries...."
   ]
  },
  {
   "cell_type": "code",
   "execution_count": 1,
   "metadata": {
    "scrolled": true
   },
   "outputs": [
    {
     "name": "stdout",
     "output_type": "stream",
     "text": [
      "CPython 3.7.3\n",
      "IPython 7.8.0\n",
      "\n",
      "numpy 1.16.4\n",
      "pandas 0.25.0\n",
      "skmultilearn not installed\n",
      "spacy 2.0.16\n",
      "\n",
      "compiler   : Clang 4.0.1 (tags/RELEASE_401/final)\n",
      "system     : Darwin\n",
      "release    : 18.7.0\n",
      "machine    : x86_64\n",
      "processor  : i386\n",
      "CPU cores  : 16\n",
      "interpreter: 64bit\n",
      "Git hash   : b60f9edf55f3d414bbd7c746001deefe1e20d78f\n"
     ]
    }
   ],
   "source": [
    "%load_ext autoreload\n",
    "%autoreload 2\n",
    "%matplotlib inline\n",
    "%load_ext watermark\n",
    "%watermark -v -m -p numpy,pandas,skmultilearn,spacy -g\n",
    "\n",
    "import os\n",
    "import sys\n",
    "import re\n",
    "from tqdm import tqdm_notebook as tqdm\n",
    "from tqdm import trange\n",
    "import random\n",
    "import json\n",
    "import watermark\n",
    "from pprint import pprint as pp\n",
    "import numpy as np\n",
    "import pandas as pd\n",
    "import matplotlib.pyplot as plt\n",
    "import seaborn as sns\n",
    "import pandas_profiling\n",
    "from pandas.plotting import register_matplotlib_converters    # for pandas_profiling\n",
    "\n",
    "register_matplotlib_converters()                              # for pandas_profiling\n",
    "sys.path.append(os.pardir)"
   ]
  },
  {
   "cell_type": "markdown",
   "metadata": {},
   "source": [
    "As well as the specific libraries that we are going to use...."
   ]
  },
  {
   "cell_type": "code",
   "execution_count": 2,
   "metadata": {},
   "outputs": [
    {
     "ename": "ModuleNotFoundError",
     "evalue": "No module named 'textblob'",
     "output_type": "error",
     "traceback": [
      "\u001b[0;31m---------------------------------------------------------------------------\u001b[0m",
      "\u001b[0;31mModuleNotFoundError\u001b[0m                       Traceback (most recent call last)",
      "\u001b[0;32m<ipython-input-2-135278555170>\u001b[0m in \u001b[0;36m<module>\u001b[0;34m\u001b[0m\n\u001b[0;32m----> 1\u001b[0;31m \u001b[0;32mfrom\u001b[0m \u001b[0msrc\u001b[0m\u001b[0;34m.\u001b[0m\u001b[0mnlp_func\u001b[0m \u001b[0;32mimport\u001b[0m \u001b[0;34m*\u001b[0m\u001b[0;34m\u001b[0m\u001b[0;34m\u001b[0m\u001b[0m\n\u001b[0m\u001b[1;32m      2\u001b[0m \u001b[0;32mfrom\u001b[0m \u001b[0msklearn\u001b[0m\u001b[0;34m.\u001b[0m\u001b[0mbase\u001b[0m \u001b[0;32mimport\u001b[0m \u001b[0mBaseEstimator\u001b[0m\u001b[0;34m,\u001b[0m \u001b[0mTransformerMixin\u001b[0m\u001b[0;34m\u001b[0m\u001b[0;34m\u001b[0m\u001b[0m\n\u001b[1;32m      3\u001b[0m \u001b[0;32mfrom\u001b[0m \u001b[0msklearn\u001b[0m\u001b[0;34m.\u001b[0m\u001b[0mpipeline\u001b[0m \u001b[0;32mimport\u001b[0m \u001b[0mPipeline\u001b[0m\u001b[0;34m\u001b[0m\u001b[0;34m\u001b[0m\u001b[0m\n\u001b[1;32m      4\u001b[0m \u001b[0;32mfrom\u001b[0m \u001b[0msklearn\u001b[0m\u001b[0;34m.\u001b[0m\u001b[0mmodel_selection\u001b[0m \u001b[0;32mimport\u001b[0m \u001b[0mtrain_test_split\u001b[0m\u001b[0;34m,\u001b[0m \u001b[0mcross_val_score\u001b[0m\u001b[0;34m\u001b[0m\u001b[0;34m\u001b[0m\u001b[0m\n\u001b[1;32m      5\u001b[0m \u001b[0;32mfrom\u001b[0m \u001b[0msklearn\u001b[0m\u001b[0;34m.\u001b[0m\u001b[0mmetrics\u001b[0m \u001b[0;32mimport\u001b[0m \u001b[0mclassification_report\u001b[0m\u001b[0;34m,\u001b[0m \u001b[0mconfusion_matrix\u001b[0m\u001b[0;34m,\u001b[0m \u001b[0mroc_curve\u001b[0m\u001b[0;34m,\u001b[0m \u001b[0mauc\u001b[0m\u001b[0;34m\u001b[0m\u001b[0;34m\u001b[0m\u001b[0m\n",
      "\u001b[0;32m~/projects/tutorials/src/nlp_func.py\u001b[0m in \u001b[0;36m<module>\u001b[0;34m\u001b[0m\n\u001b[1;32m      8\u001b[0m \u001b[0;32mfrom\u001b[0m \u001b[0mnltk\u001b[0m\u001b[0;34m.\u001b[0m\u001b[0mcorpus\u001b[0m \u001b[0;32mimport\u001b[0m \u001b[0mwordnet\u001b[0m\u001b[0;34m\u001b[0m\u001b[0;34m\u001b[0m\u001b[0m\n\u001b[1;32m      9\u001b[0m \u001b[0;32mimport\u001b[0m \u001b[0mspacy\u001b[0m\u001b[0;34m\u001b[0m\u001b[0;34m\u001b[0m\u001b[0m\n\u001b[0;32m---> 10\u001b[0;31m \u001b[0;32mfrom\u001b[0m \u001b[0mtextblob\u001b[0m \u001b[0;32mimport\u001b[0m \u001b[0mTextBlob\u001b[0m\u001b[0;34m\u001b[0m\u001b[0;34m\u001b[0m\u001b[0m\n\u001b[0m\u001b[1;32m     11\u001b[0m \u001b[0;34m\u001b[0m\u001b[0m\n\u001b[1;32m     12\u001b[0m \u001b[0;34m\u001b[0m\u001b[0m\n",
      "\u001b[0;31mModuleNotFoundError\u001b[0m: No module named 'textblob'"
     ]
    }
   ],
   "source": [
    "from src.nlp_func import *\n",
    "from sklearn.base import BaseEstimator, TransformerMixin\n",
    "from sklearn.pipeline import Pipeline\n",
    "from sklearn.model_selection import train_test_split, cross_val_score\n",
    "from sklearn.metrics import classification_report, confusion_matrix, roc_curve, auc\n",
    "import spacy\n",
    "from spacy.lang.en import English\n",
    "from spacy.util import minibatch, compounding"
   ]
  },
  {
   "cell_type": "markdown",
   "metadata": {},
   "source": [
    "Load or install and load the pre-trained model for English language:"
   ]
  },
  {
   "cell_type": "code",
   "execution_count": 3,
   "metadata": {},
   "outputs": [],
   "source": [
    "try:\n",
    "    import en_core_web_md\n",
    "except ImportError:\n",
    "    import os\n",
    "\n",
    "    os.system(\"python -m spacy download en_core_web_md\")\n",
    "    import en_core_web_md"
   ]
  },
  {
   "cell_type": "markdown",
   "metadata": {},
   "source": [
    "### Constants"
   ]
  },
  {
   "cell_type": "code",
   "execution_count": 4,
   "metadata": {},
   "outputs": [],
   "source": [
    "INPUT_DATA = \"./data/processed/reuters.csv\"\n",
    "CATEGORIES_DATA = \"./data/processed/reuters_categories.csv\"\n",
    "CLS_Model1 = \"./models/Spacy_cls_01.csv\"\n",
    "CLS_Model2 = \"./models/Spacy_cls_02.csv\""
   ]
  },
  {
   "cell_type": "markdown",
   "metadata": {},
   "source": [
    "### Load the dataset"
   ]
  },
  {
   "cell_type": "code",
   "execution_count": 5,
   "metadata": {},
   "outputs": [],
   "source": [
    "df = pd.read_csv(INPUT_DATA)\n",
    "df['categories'] = df.categories.apply(json.loads)\n",
    "df_categories = pd.read_csv(CATEGORIES_DATA)"
   ]
  },
  {
   "cell_type": "markdown",
   "metadata": {},
   "source": [
    "Observe that we have the data we expected:"
   ]
  },
  {
   "cell_type": "code",
   "execution_count": 6,
   "metadata": {},
   "outputs": [
    {
     "data": {
      "text/html": [
       "<div>\n",
       "<style scoped>\n",
       "    .dataframe tbody tr th:only-of-type {\n",
       "        vertical-align: middle;\n",
       "    }\n",
       "\n",
       "    .dataframe tbody tr th {\n",
       "        vertical-align: top;\n",
       "    }\n",
       "\n",
       "    .dataframe thead th {\n",
       "        text-align: right;\n",
       "    }\n",
       "</style>\n",
       "<table border=\"1\" class=\"dataframe\">\n",
       "  <thead>\n",
       "    <tr style=\"text-align: right;\">\n",
       "      <th></th>\n",
       "      <th>doc_Id</th>\n",
       "      <th>text</th>\n",
       "      <th>categories</th>\n",
       "      <th>doc_set</th>\n",
       "      <th>processed_text</th>\n",
       "      <th>lematized</th>\n",
       "      <th>n_words</th>\n",
       "    </tr>\n",
       "  </thead>\n",
       "  <tbody>\n",
       "    <tr>\n",
       "      <th>0</th>\n",
       "      <td>test/14826</td>\n",
       "      <td>ASIAN EXPORTERS FEAR DAMAGE FROM U.S.-JAPAN RI...</td>\n",
       "      <td>[trade]</td>\n",
       "      <td>test</td>\n",
       "      <td>asian exporters fear damage united states japa...</td>\n",
       "      <td>asian exporters fear damage unite state japan ...</td>\n",
       "      <td>477</td>\n",
       "    </tr>\n",
       "    <tr>\n",
       "      <th>1</th>\n",
       "      <td>test/14828</td>\n",
       "      <td>CHINA DAILY SAYS VERMIN EAT 7-12 PCT GRAIN STO...</td>\n",
       "      <td>[grain]</td>\n",
       "      <td>test</td>\n",
       "      <td>china daily says vermin eat percentage grain s...</td>\n",
       "      <td>china daily say vermin eat percentage grain st...</td>\n",
       "      <td>64</td>\n",
       "    </tr>\n",
       "    <tr>\n",
       "      <th>2</th>\n",
       "      <td>test/14829</td>\n",
       "      <td>JAPAN TO REVISE LONG-TERM ENERGY DEMAND DOWNWA...</td>\n",
       "      <td>[crude, nat-gas]</td>\n",
       "      <td>test</td>\n",
       "      <td>japan revise long term energy demand downwards...</td>\n",
       "      <td>japan revise long term energy demand downwards...</td>\n",
       "      <td>114</td>\n",
       "    </tr>\n",
       "  </tbody>\n",
       "</table>\n",
       "</div>"
      ],
      "text/plain": [
       "       doc_Id                                               text  \\\n",
       "0  test/14826  ASIAN EXPORTERS FEAR DAMAGE FROM U.S.-JAPAN RI...   \n",
       "1  test/14828  CHINA DAILY SAYS VERMIN EAT 7-12 PCT GRAIN STO...   \n",
       "2  test/14829  JAPAN TO REVISE LONG-TERM ENERGY DEMAND DOWNWA...   \n",
       "\n",
       "         categories doc_set  \\\n",
       "0           [trade]    test   \n",
       "1           [grain]    test   \n",
       "2  [crude, nat-gas]    test   \n",
       "\n",
       "                                      processed_text  \\\n",
       "0  asian exporters fear damage united states japa...   \n",
       "1  china daily says vermin eat percentage grain s...   \n",
       "2  japan revise long term energy demand downwards...   \n",
       "\n",
       "                                           lematized  n_words  \n",
       "0  asian exporters fear damage unite state japan ...      477  \n",
       "1  china daily say vermin eat percentage grain st...       64  \n",
       "2  japan revise long term energy demand downwards...      114  "
      ]
     },
     "execution_count": 6,
     "metadata": {},
     "output_type": "execute_result"
    }
   ],
   "source": [
    "df.head(3)"
   ]
  },
  {
   "cell_type": "code",
   "execution_count": 7,
   "metadata": {},
   "outputs": [
    {
     "name": "stdout",
     "output_type": "stream",
     "text": [
      "<class 'pandas.core.frame.DataFrame'>\n",
      "RangeIndex: 10788 entries, 0 to 10787\n",
      "Data columns (total 7 columns):\n",
      "doc_Id            10788 non-null object\n",
      "text              10788 non-null object\n",
      "categories        10788 non-null object\n",
      "doc_set           10788 non-null object\n",
      "processed_text    10788 non-null object\n",
      "lematized         10788 non-null object\n",
      "n_words           10788 non-null int64\n",
      "dtypes: int64(1), object(6)\n",
      "memory usage: 590.0+ KB\n"
     ]
    }
   ],
   "source": [
    "df.info()"
   ]
  },
  {
   "cell_type": "code",
   "execution_count": 8,
   "metadata": {},
   "outputs": [
    {
     "data": {
      "text/html": [
       "<div>\n",
       "<style scoped>\n",
       "    .dataframe tbody tr th:only-of-type {\n",
       "        vertical-align: middle;\n",
       "    }\n",
       "\n",
       "    .dataframe tbody tr th {\n",
       "        vertical-align: top;\n",
       "    }\n",
       "\n",
       "    .dataframe thead th {\n",
       "        text-align: right;\n",
       "    }\n",
       "</style>\n",
       "<table border=\"1\" class=\"dataframe\">\n",
       "  <thead>\n",
       "    <tr style=\"text-align: right;\">\n",
       "      <th></th>\n",
       "      <th>n_words</th>\n",
       "    </tr>\n",
       "  </thead>\n",
       "  <tbody>\n",
       "    <tr>\n",
       "      <th>count</th>\n",
       "      <td>10788.000000</td>\n",
       "    </tr>\n",
       "    <tr>\n",
       "      <th>mean</th>\n",
       "      <td>81.630979</td>\n",
       "    </tr>\n",
       "    <tr>\n",
       "      <th>std</th>\n",
       "      <td>81.450745</td>\n",
       "    </tr>\n",
       "    <tr>\n",
       "      <th>min</th>\n",
       "      <td>2.000000</td>\n",
       "    </tr>\n",
       "    <tr>\n",
       "      <th>25%</th>\n",
       "      <td>32.000000</td>\n",
       "    </tr>\n",
       "    <tr>\n",
       "      <th>50%</th>\n",
       "      <td>55.000000</td>\n",
       "    </tr>\n",
       "    <tr>\n",
       "      <th>75%</th>\n",
       "      <td>99.000000</td>\n",
       "    </tr>\n",
       "    <tr>\n",
       "      <th>max</th>\n",
       "      <td>888.000000</td>\n",
       "    </tr>\n",
       "  </tbody>\n",
       "</table>\n",
       "</div>"
      ],
      "text/plain": [
       "            n_words\n",
       "count  10788.000000\n",
       "mean      81.630979\n",
       "std       81.450745\n",
       "min        2.000000\n",
       "25%       32.000000\n",
       "50%       55.000000\n",
       "75%       99.000000\n",
       "max      888.000000"
      ]
     },
     "execution_count": 8,
     "metadata": {},
     "output_type": "execute_result"
    }
   ],
   "source": [
    "df.describe()"
   ]
  },
  {
   "cell_type": "markdown",
   "metadata": {},
   "source": [
    "As we have already analysed the documents in the previous stage, let's use the new model to create a classifier."
   ]
  },
  {
   "cell_type": "markdown",
   "metadata": {},
   "source": [
    "## Classifier Model"
   ]
  },
  {
   "cell_type": "markdown",
   "metadata": {},
   "source": [
    "The 'en_core_web_md' model is a pre-trained model of medium size that we can download and comes with many features build-in"
   ]
  },
  {
   "cell_type": "code",
   "execution_count": 9,
   "metadata": {},
   "outputs": [
    {
     "data": {
      "application/vnd.jupyter.widget-view+json": {
       "model_id": "32feb85bb6a642beab26130841ea9e01",
       "version_major": 2,
       "version_minor": 0
      },
      "text/plain": [
       "HBox(children=(IntProgress(value=0, max=90), HTML(value='')))"
      ]
     },
     "metadata": {},
     "output_type": "display_data"
    },
    {
     "name": "stdout",
     "output_type": "stream",
     "text": [
      "\n"
     ]
    }
   ],
   "source": [
    "def apply_textcat_to_model(model, set_of_categories):\n",
    "    # Add the text classifier to the pipeline if it doesn't exist\n",
    "    if \"textcat\" not in model.pipe_names:\n",
    "        # model.create_pipe works for built-ins that are registered with spaCy\n",
    "        textcat = model.create_pipe(\n",
    "                \"textcat\",\n",
    "                config={\n",
    "                    \"choise_stype\": 'multiple',\n",
    "                    \"exclusive_classes\": False,\n",
    "                    \"architecture\": \"simple_cnn\"}\n",
    "        )\n",
    "        model.add_pipe(textcat, last=True)\n",
    "\n",
    "    # otherwise get it to add labels to it\n",
    "    else:\n",
    "        textcat = model.get_pipe(\"textcat\")\n",
    "\n",
    "    # Add the list of labels of the classifier\n",
    "    for cat in tqdm(set_of_categories):\n",
    "        textcat.add_label(cat)\n",
    "    return model, textcat\n",
    "\n",
    "\n",
    "# Load existing spacy model\n",
    "nlp = spacy.load('en_core_web_md')\n",
    "\n",
    "all_categories = df_categories.categories.unique()\n",
    "\n",
    "# Add the text categories to the model\n",
    "nlp, textcat = apply_textcat_to_model(nlp, all_categories)"
   ]
  },
  {
   "cell_type": "code",
   "execution_count": 10,
   "metadata": {},
   "outputs": [],
   "source": [
    "# Create list of training data pairing it with the corresponding labels\n",
    "X_all_packed = list(zip(df.lematized.tolist(), df.categories.tolist()))\n",
    "label_list = df_categories.categories.unique().tolist()\n",
    "\n",
    "# Now we need to transform the labels into a dictionary of labels with values True or False\n",
    "def unpack_labels(data):\n",
    "    training_data = []\n",
    "    \n",
    "    for eg in data:\n",
    "        text = eg[0]\n",
    "        accepted = eg[1]\n",
    "        \n",
    "        if not isinstance(text, str):\n",
    "            raise TypeError('The doc must be a string')\n",
    "        if not isinstance(accepted, list):\n",
    "            raise TypeError('The accepted labels must be a list')\n",
    "            \n",
    "        # dictionary of all labels – if label is in accepted list, value is\n",
    "        # set to True, otherwise it's set to False\n",
    "        cats = {label: label in accepted for label in label_list}\n",
    "        training_data.append((text, {'cats': cats}))\n",
    "    \n",
    "    return training_data\n",
    "\n",
    "X_all = unpack_labels(X_all_packed)"
   ]
  },
  {
   "cell_type": "code",
   "execution_count": 11,
   "metadata": {},
   "outputs": [],
   "source": [
    "X_train, X_test = train_test_split(X_all, test_size=0.2, random_state=42)\n",
    "X_eval_doc, X_eval_cat = map(list, zip(*X_test))"
   ]
  },
  {
   "cell_type": "markdown",
   "metadata": {},
   "source": [
    "We create as well a function to evaluate the progress of the model during training:"
   ]
  },
  {
   "cell_type": "code",
   "execution_count": 12,
   "metadata": {},
   "outputs": [],
   "source": [
    "def evaluate(tokenizer, textcat, texts, cats):\n",
    "    docs = (tokenizer(text) for text in texts)\n",
    "    tp = 0.0  # True positives\n",
    "    fp = 1e-8  # False positives\n",
    "    fn = 1e-8  # False negatives\n",
    "    tn = 0.0  # True negatives\n",
    "    \n",
    "    for i, doc in enumerate(textcat.pipe(docs)):\n",
    "        gold = cats[i]['cats']\n",
    "        for label, score in doc.cats.items():\n",
    "            if label not in gold:\n",
    "                continue\n",
    "\n",
    "            if score >= 0.5 and gold[label] >= 0.5:\n",
    "                tp += 1.0\n",
    "            elif score >= 0.5 and gold[label] < 0.5:\n",
    "                fp += 1.0\n",
    "            elif score < 0.5 and gold[label] < 0.5:\n",
    "                tn += 1\n",
    "            elif score < 0.5 and gold[label] >= 0.5:\n",
    "                fn += 1\n",
    "                \n",
    "    precision = tp / (tp + fp)\n",
    "    recall = tp / (tp + fn)\n",
    "    if (precision + recall) == 0:\n",
    "        f_score = 0.0\n",
    "    else:\n",
    "        f_score = 2 * (precision * recall) / (precision + recall)\n",
    "        \n",
    "    return {\"textcat_p\": precision, \"textcat_r\": recall, \"textcat_f\": f_score}"
   ]
  },
  {
   "cell_type": "code",
   "execution_count": 13,
   "metadata": {},
   "outputs": [
    {
     "name": "stdout",
     "output_type": "stream",
     "text": [
      "Training the model...\n",
      "LOSS \t  P  \t  R  \t  F  \n"
     ]
    },
    {
     "data": {
      "application/vnd.jupyter.widget-view+json": {
       "model_id": "6d4280dab90843cfaba815c1169398db",
       "version_major": 2,
       "version_minor": 0
      },
      "text/plain": [
       "HBox(children=(IntProgress(value=0, max=10), HTML(value='')))"
      ]
     },
     "metadata": {},
     "output_type": "display_data"
    },
    {
     "name": "stdout",
     "output_type": "stream",
     "text": [
      "43.149\t0.964\t0.450\t0.613\n",
      "1.288\t0.959\t0.491\t0.650\n",
      "0.288\t0.946\t0.561\t0.704\n",
      "0.123\t0.948\t0.604\t0.738\n",
      "0.112\t0.933\t0.654\t0.769\n",
      "0.107\t0.933\t0.679\t0.786\n",
      "0.101\t0.929\t0.691\t0.792\n",
      "0.095\t0.927\t0.697\t0.795\n",
      "0.090\t0.927\t0.707\t0.802\n",
      "0.086\t0.929\t0.713\t0.807\n",
      "\n"
     ]
    }
   ],
   "source": [
    "# Get the list of other pipes to disable them during the training\n",
    "other_pipes = [pipe for pipe in nlp.pipe_names if pipe != \"textcat\"]\n",
    "\n",
    "N_ITER = 10\n",
    "\n",
    "with nlp.disable_pipes(*other_pipes):                              # only train TEXTCAT\n",
    "    optimizer = nlp.begin_training()\n",
    "    batch_sizes = compounding(4.0, 32.0, 1.001)\n",
    "    print('Training the model...')\n",
    "    print(\"{:^5}\\t{:^5}\\t{:^5}\\t{:^5}\".format(\"LOSS\", \"P\", \"R\", \"F\"))\n",
    "\n",
    "    for itn in tqdm(range(N_ITER)):\n",
    "        losses = {}\n",
    "        random.shuffle(X_train)\n",
    "        batches = minibatch(X_train, size=batch_sizes)                  # batch of the set\n",
    "        \n",
    "        for batch in batches:\n",
    "            texts, annotations = zip(*batch)\n",
    "            nlp.update(texts, annotations, sgd=optimizer, drop=0.2, losses=losses)\n",
    "        \n",
    "        with textcat.model.use_params(optimizer.averages):\n",
    "            # evaluate on the dev data split off in load_data()\n",
    "            scores = evaluate(nlp.tokenizer, textcat, X_eval_doc, X_eval_cat)\n",
    "            print(\"{0:.3f}\\t{1:.3f}\\t{2:.3f}\\t{3:.3f}\".format(         # print a simple table\n",
    "                losses[\"textcat\"],\n",
    "                scores[\"textcat_p\"],\n",
    "                scores[\"textcat_r\"],\n",
    "                scores[\"textcat_f\"],\n",
    "            ))"
   ]
  },
  {
   "cell_type": "markdown",
   "metadata": {},
   "source": [
    "Now we test the resulting model:"
   ]
  },
  {
   "cell_type": "code",
   "execution_count": 14,
   "metadata": {},
   "outputs": [
    {
     "name": "stdout",
     "output_type": "stream",
     "text": [
      "Document 1\n",
      "\tPredicted categories: ['earn(1.0)']\n",
      "\tExpected categories: ['earn(1.0)']\n",
      "Document 2\n",
      "\tPredicted categories: ['earn(1.0)']\n",
      "\tExpected categories: ['earn(1.0)']\n",
      "Document 3\n",
      "\tPredicted categories: ['earn(1.0)']\n",
      "\tExpected categories: ['earn(1.0)']\n",
      "Document 4\n",
      "\tPredicted categories: ['crude(1.0)', 'ship(0.99)']\n",
      "\tExpected categories: ['ship(1.0)']\n",
      "Document 5\n",
      "\tPredicted categories: ['earn(1.0)']\n",
      "\tExpected categories: ['earn(1.0)']\n",
      "Document 6\n",
      "\tPredicted categories: ['earn(1.0)']\n",
      "\tExpected categories: ['earn(1.0)']\n",
      "Document 7\n",
      "\tPredicted categories: ['money-fx(0.6)', 'money-supply(0.65)']\n",
      "\tExpected categories: ['reserves(1.0)']\n",
      "Document 8\n",
      "\tPredicted categories: ['acq(1.0)']\n",
      "\tExpected categories: ['acq(1.0)']\n",
      "Document 9\n",
      "\tPredicted categories: ['earn(1.0)']\n",
      "\tExpected categories: ['earn(1.0)']\n",
      "Document 10\n",
      "\tPredicted categories: ['acq(1.0)']\n",
      "\tExpected categories: ['acq(1.0)']\n"
     ]
    }
   ],
   "source": [
    "def format_categories(cat, threshold=0.5):\n",
    "    output = []\n",
    "    for key, val in cat.items():\n",
    "        if val > threshold:\n",
    "            output.append(key + '(' + str(round(float(val), 2)) + ')')\n",
    "    return output\n",
    "\n",
    "test_text = X_eval_doc[:10]\n",
    "cats = X_eval_cat[:10]\n",
    "test_cats = [k['cats'] for k in cats]\n",
    "counter = 1\n",
    "\n",
    "for text, cat in zip(test_text, test_cats):\n",
    "    print('Document {}'.format(counter))\n",
    "    doc = nlp(text)\n",
    "    print('\\tPredicted categories: {}\\n\\tExpected categories: {}'.format(\n",
    "        format_categories(doc.cats), \n",
    "        format_categories(cat)))\n",
    "    counter += 1"
   ]
  },
  {
   "cell_type": "code",
   "execution_count": 15,
   "metadata": {},
   "outputs": [],
   "source": [
    "# Rename and save model to disk\n",
    "nlp_clf1 = nlp\n",
    "nlp_clf1.to_disk(CLS_Model1)"
   ]
  },
  {
   "cell_type": "markdown",
   "metadata": {},
   "source": [
    "## Full Spacy Model\n",
    "\n",
    "In the previous model we have made use of the existing processed data but we can use spacy to do the processing from the raw entries to evaluate if the stopwords and other elements have a better implementation."
   ]
  },
  {
   "cell_type": "code",
   "execution_count": 16,
   "metadata": {},
   "outputs": [],
   "source": [
    "# We could use 'nlp = English()' for the basic model as well\n",
    "nlp = spacy.load('en_core_web_md')  \n",
    "spacy_stopwords = spacy.lang.en.stop_words.STOP_WORDS"
   ]
  },
  {
   "cell_type": "markdown",
   "metadata": {},
   "source": [
    "In this ocasion we are going to define a transformer to perform the cleaning operations"
   ]
  },
  {
   "cell_type": "code",
   "execution_count": 17,
   "metadata": {},
   "outputs": [],
   "source": [
    "# Custom transformer\n",
    "class TextProcessing(BaseEstimator, TransformerMixin):\n",
    "    def __init__(self, model, text_field='text', cat_field='categories'):\n",
    "        self.model = model\n",
    "        self.text_field = text_field\n",
    "        self.cat_field = cat_field\n",
    "\n",
    "    def fit(self, X, y=None, **fit_params):\n",
    "        return self\n",
    "        \n",
    "    def transform(self, X, y=None, **transform_params):\n",
    "        output = pd.DataFrame()\n",
    "        output[self.cat_field] = X[self.cat_field]\n",
    "        \n",
    "        # Apply common cleaning operations\n",
    "        cleaned = X[self.text_field].apply(text_replacements)\n",
    "        cleaned = cleaned.apply(remove_accents)\n",
    "        cleaned = cleaned.apply(remove_special)\n",
    "        cleaned = cleaned.apply(remove_accents)\n",
    "        # Remove stopwords and apply lemmatization\n",
    "        output[self.text_field] = [' '.join(\n",
    "            [word.lemma_ for word in self.model(text) if word.is_stop == False]) \n",
    "                  for text in cleaned]\n",
    "        return output\n",
    "\n",
    "    def get_params(self, deep=True):\n",
    "        return {}\n",
    "\n",
    "# Ex to create the pipeline object:    data_pipeline = TextProcessing(nlp, 'text', 'categories')"
   ]
  },
  {
   "cell_type": "markdown",
   "metadata": {},
   "source": [
    "Create train and test datasets"
   ]
  },
  {
   "cell_type": "code",
   "execution_count": 18,
   "metadata": {},
   "outputs": [],
   "source": [
    "X_tr, X_te = train_test_split(df, test_size=0.2, random_state=42)\n",
    "tp = TextProcessing(nlp, 'text', 'categories')\n",
    "x_te = tp.transform(X_te)"
   ]
  },
  {
   "cell_type": "code",
   "execution_count": 19,
   "metadata": {},
   "outputs": [],
   "source": [
    "class Classifier(BaseEstimator, TransformerMixin):\n",
    "    def __init__(self, model, n, textf='text', labelf='categories'):\n",
    "        if model is None:\n",
    "            self.model = spacy.load('en_core_web_md')\n",
    "        else:\n",
    "            self.model = model\n",
    "        self.n = n                        # Number of iterations\n",
    "        self.textf = textf\n",
    "        self.labelf = labelf\n",
    "\n",
    "    def fit(self, X, y=None, **fit_params):\n",
    "        self.model, textcat = apply_textcat_to_model(self.model, all_categories)\n",
    "        other_pipes = [pipe for pipe in self.model.pipe_names if pipe != \"textcat\"]\n",
    "        \n",
    "        # Transform the dataset into a list of tuples (doc-labels)\n",
    "        X_all_packed = list(zip(X[self.textf].tolist(), X[self.labelf].tolist()))\n",
    "        # Define the labels as a dictionary ready for spacy to use\n",
    "        X = unpack_labels(X_all_packed)\n",
    "        \n",
    "        if y is not None:\n",
    "            y = list(zip(y[self.textf].tolist(), y[self.labelf].tolist()))\n",
    "            y = unpack_labels(y)\n",
    "            y_doc, y_cat = map(list, zip(*y))\n",
    "        \n",
    "        with self.model.disable_pipes(*other_pipes):                            # only train TEXTCAT\n",
    "            optimizer = self.model.begin_training()\n",
    "            batch_sizes = compounding(4.0, 32.0, 1.001)\n",
    "            print('Training the model...')\n",
    "            print(\"{:^5}\\t{:^5}\\t{:^5}\\t{:^5}\".format(\"LOSS\", \"P\", \"R\", \"F\"))\n",
    "\n",
    "            for itn in tqdm(range(self.n)):\n",
    "                losses = {}\n",
    "                random.shuffle(X)\n",
    "                batches = minibatch(X, size=batch_sizes)                        # batch of the set\n",
    "\n",
    "                for batch in batches:\n",
    "                    texts, annotations = zip(*batch)\n",
    "                    self.model.update(texts, annotations, sgd=optimizer, drop=0.2, losses=losses)\n",
    "                \n",
    "                if y is not None:\n",
    "                    with textcat.model.use_params(optimizer.averages):\n",
    "                        # evaluate on the dev data split off in load_data()\n",
    "                        scores = evaluate(self.model.tokenizer, textcat, y_doc, y_cat)\n",
    "                        print(\"{0:.3f}\\t{1:.3f}\\t{2:.3f}\\t{3:.3f}\".format(         # print a simple table\n",
    "                            losses[\"textcat\"],\n",
    "                            scores[\"textcat_p\"],\n",
    "                            scores[\"textcat_r\"],\n",
    "                            scores[\"textcat_f\"],\n",
    "                        ))\n",
    "        \n",
    "        return self\n",
    "        \n",
    "    def transform(self, X, **transform_params):\n",
    "        return X[self.textf].apply(nlp)\n",
    "        \n",
    "    def predict(self, X, **transform_params):\n",
    "        docs = X[self.textf].apply(nlp)\n",
    "        return docs.apply(lambda x: x.cats)\n",
    "\n",
    "    def get_params(self, deep=True):\n",
    "        return {}"
   ]
  },
  {
   "cell_type": "code",
   "execution_count": 20,
   "metadata": {},
   "outputs": [],
   "source": [
    "# Create pipeline with the data transformation and the classifier model\n",
    "# nlp = spacy.load('en_core_web_md')\n",
    "\n",
    "spacy_clf = Pipeline([\n",
    "    ('cleaning', TextProcessing(nlp, 'text', 'categories')),\n",
    "    ('clf', Classifier(None, 10, textf='text', labelf='categories')),\n",
    "])"
   ]
  },
  {
   "cell_type": "markdown",
   "metadata": {},
   "source": [
    "Train the model and obtain the scores while training:"
   ]
  },
  {
   "cell_type": "code",
   "execution_count": 21,
   "metadata": {},
   "outputs": [
    {
     "data": {
      "application/vnd.jupyter.widget-view+json": {
       "model_id": "f410d4e7ec9149b9943f2c6db04bb936",
       "version_major": 2,
       "version_minor": 0
      },
      "text/plain": [
       "HBox(children=(IntProgress(value=0, max=90), HTML(value='')))"
      ]
     },
     "metadata": {},
     "output_type": "display_data"
    },
    {
     "name": "stdout",
     "output_type": "stream",
     "text": [
      "\n",
      "Training the model...\n",
      "LOSS \t  P  \t  R  \t  F  \n"
     ]
    },
    {
     "data": {
      "application/vnd.jupyter.widget-view+json": {
       "model_id": "db58d4ea7c414d8d872caa332b961a40",
       "version_major": 2,
       "version_minor": 0
      },
      "text/plain": [
       "HBox(children=(IntProgress(value=0, max=10), HTML(value='')))"
      ]
     },
     "metadata": {},
     "output_type": "display_data"
    },
    {
     "name": "stdout",
     "output_type": "stream",
     "text": [
      "36.317\t0.952\t0.483\t0.641\n",
      "1.239\t0.947\t0.534\t0.683\n",
      "0.263\t0.940\t0.598\t0.731\n",
      "0.120\t0.934\t0.643\t0.762\n",
      "0.113\t0.929\t0.667\t0.776\n",
      "0.106\t0.930\t0.684\t0.788\n",
      "0.102\t0.930\t0.689\t0.791\n",
      "0.096\t0.931\t0.695\t0.796\n",
      "0.093\t0.932\t0.702\t0.801\n",
      "0.089\t0.932\t0.710\t0.806\n",
      "\n"
     ]
    },
    {
     "data": {
      "text/plain": [
       "Pipeline(memory=None,\n",
       "         steps=[('cleaning', TextProcessing()), ('clf', Classifier())],\n",
       "         verbose=False)"
      ]
     },
     "execution_count": 21,
     "metadata": {},
     "output_type": "execute_result"
    }
   ],
   "source": [
    "spacy_clf.fit(X_tr, x_te)"
   ]
  },
  {
   "cell_type": "code",
   "execution_count": 22,
   "metadata": {},
   "outputs": [],
   "source": [
    "nlp.to_disk(CLS_Model2)"
   ]
  },
  {
   "cell_type": "markdown",
   "metadata": {},
   "source": [
    "## Model Evaluation\n",
    "\n",
    "As in the previous exercise we are going to plot the confusion matrix as well as other relevant information of the model."
   ]
  },
  {
   "cell_type": "code",
   "execution_count": 23,
   "metadata": {},
   "outputs": [],
   "source": [
    "def apply_threshold(predictions, threshold=0.5, report_value=False):\n",
    "    \"\"\"Filter predicted labels that are greater than the set threshold\"\"\"\n",
    "    selected_labels = list(filter(lambda x: predictions[x] >= threshold, predictions.keys()))\n",
    "    \n",
    "    if report_value:\n",
    "        return [(k, predictions[k]) for k in selected_labels]\n",
    "    else:\n",
    "        return selected_labels"
   ]
  },
  {
   "cell_type": "code",
   "execution_count": 24,
   "metadata": {},
   "outputs": [],
   "source": [
    "te_pred = [nlp(doc) for doc in x_te['text'].tolist()]\n",
    "pd_comp = pd.DataFrame({'actual': x_te['categories'], 'predicted': te_pred})\n",
    "pd_comp['predicted'] = pd_comp['predicted'].apply(apply_threshold)"
   ]
  },
  {
   "cell_type": "code",
   "execution_count": 25,
   "metadata": {},
   "outputs": [],
   "source": [
    "def unpacking(row, actual, predicted):\n",
    "    unpack_found = []\n",
    "    unpack_missing = []\n",
    "    pred = row[predicted].copy()\n",
    "    for m in row[actual]:\n",
    "        if m in pred:\n",
    "            pred.remove(m)\n",
    "            unpack_found.append((m, m))\n",
    "        else:\n",
    "            unpack_missing.append((m, 'unknown'))\n",
    "    \n",
    "    n_pred = len(pred)\n",
    "    if n_pred == 1:\n",
    "        for i, m in enumerate(unpack_missing):\n",
    "            unpack_missing[i] = (m[0], pred[0])\n",
    "    elif (n_pred > 1) and (n_pred < len(unpack_missing)):\n",
    "        for i, m in enumerate(pred):\n",
    "            unpack_missing[i] = (m[0], pred[i])\n",
    "    elif (n_pred > 1) and (n_pred > len(unpack_missing)):\n",
    "        for i, m in enumerate(unpack_missing):\n",
    "            unpack_missing[i] = (m[0], pred[i])\n",
    "    unpack_found.extend(unpack_missing)\n",
    "    return unpack_found"
   ]
  },
  {
   "cell_type": "code",
   "execution_count": 26,
   "metadata": {},
   "outputs": [],
   "source": [
    "unpack_labels = []\n",
    "\n",
    "# Get the pairs of category-prediction\n",
    "pairs_df = pd_comp.apply(lambda row: unpacking(row, 'actual', 'predicted'), axis=1)\n",
    "# Flatten the list of lists\n",
    "flat_pairs = [item for sublist in pairs_df.values for item in sublist]\n",
    "# Create dataframe\n",
    "df_flat = pd.DataFrame(flat_pairs, columns=['actual', 'predicted'])"
   ]
  },
  {
   "cell_type": "markdown",
   "metadata": {},
   "source": [
    "### Confusion Matrix"
   ]
  },
  {
   "cell_type": "code",
   "execution_count": 27,
   "metadata": {},
   "outputs": [
    {
     "data": {
      "image/png": "[encoded data removed]",
      "text/plain": [
       "<Figure size 1440x1440 with 2 Axes>"
      ]
     },
     "metadata": {
      "needs_background": "light"
     },
     "output_type": "display_data"
    }
   ],
   "source": [
    "conf_mat = confusion_matrix(df_flat.actual, df_flat.predicted)\n",
    "\n",
    "fig, ax = plt.subplots(figsize=(20,20))\n",
    "matrix_labels = set([*df_flat.actual, *df_flat.predicted])\n",
    "sns.heatmap(conf_mat, annot=True, fmt='d',\n",
    "            xticklabels=matrix_labels, yticklabels=matrix_labels)\n",
    "plt.ylabel('Actual')\n",
    "plt.xlabel('Predicted')\n",
    "plt.show()"
   ]
  },
  {
   "cell_type": "markdown",
   "metadata": {},
   "source": [
    "### Classification Report"
   ]
  },
  {
   "cell_type": "code",
   "execution_count": 28,
   "metadata": {},
   "outputs": [
    {
     "name": "stderr",
     "output_type": "stream",
     "text": [
      "C:\\Users\\jdelrio\\anaconda3\\envs\\py37\\lib\\site-packages\\sklearn\\metrics\\classification.py:1437: UndefinedMetricWarning: Precision and F-score are ill-defined and being set to 0.0 in labels with no predicted samples.\n",
      "  'precision', 'predicted', average, warn_for)\n",
      "C:\\Users\\jdelrio\\anaconda3\\envs\\py37\\lib\\site-packages\\sklearn\\metrics\\classification.py:1439: UndefinedMetricWarning: Recall and F-score are ill-defined and being set to 0.0 in labels with no true samples.\n",
      "  'recall', 'true', average, warn_for)\n"
     ]
    },
    {
     "name": "stdout",
     "output_type": "stream",
     "text": [
      "                 precision    recall  f1-score   support\n",
      "\n",
      "         cotton       0.95      0.97      0.96       469\n",
      "        soy-oil       0.00      0.00      0.00         7\n",
      "        sun-oil       0.00      0.00      0.00         6\n",
      "         income       1.00      0.45      0.62        20\n",
      "           earn       0.00      0.00      0.00        15\n",
      "        soybean       0.00      0.00      0.00         2\n",
      "        veg-oil       0.00      0.00      0.00        17\n",
      "        unknown       0.00      0.00      0.00        28\n",
      "           zinc       0.00      0.00      0.00         9\n",
      "          nzdlr       0.83      0.64      0.72        53\n",
      "strategic-metal       0.00      0.00      0.00        11\n",
      "            acq       1.00      0.20      0.33        20\n",
      "            gas       0.00      0.00      0.00         1\n",
      "        housing       0.81      0.78      0.79       106\n",
      "            hog       1.00      0.41      0.58        34\n",
      "       interest       0.00      0.00      0.00         1\n",
      "         nickel       0.99      0.98      0.98       787\n",
      "           jobs       0.00      0.00      0.00         2\n",
      "          grain       0.00      0.00      0.00         3\n",
      "       sun-meal       1.00      0.56      0.72        34\n",
      "            oat       0.00      0.00      0.00        33\n",
      "       reserves       0.95      0.79      0.86       128\n",
      "            yen       0.00      0.00      0.00         1\n",
      "            cpi       0.00      0.00      0.00         8\n",
      "            lei       0.00      0.00      0.00         6\n",
      "           gold       0.00      0.00      0.00         3\n",
      "         orange       0.00      0.00      0.00         3\n",
      "       soy-meal       0.97      0.77      0.86       112\n",
      "       money-fx       0.00      0.00      0.00         8\n",
      "     castor-oil       0.00      0.00      0.00         4\n",
      "         retail       0.00      0.00      0.00         3\n",
      "      palladium       0.00      0.00      0.00        13\n",
      "     iron-steel       0.00      0.00      0.00         1\n",
      "   money-supply       0.00      0.00      0.00         5\n",
      "           lead       0.00      0.00      0.00         1\n",
      "          sugar       0.00      0.00      0.00        21\n",
      "            wpi       0.00      0.00      0.00         2\n",
      "       rapeseed       0.00      0.00      0.00         6\n",
      "       pet-chem       0.94      0.78      0.85       133\n",
      "           rice       0.96      0.74      0.83        34\n",
      "           corn       0.00      0.00      0.00         2\n",
      "        sunseed       0.00      0.00      0.00        31\n",
      "           heat       0.00      0.00      0.00         2\n",
      "         copper       0.00      0.00      0.00         2\n",
      "       l-cattle       0.00      0.00      0.00         1\n",
      "        carcass       0.67      0.16      0.26        25\n",
      "      groundnut       0.00      0.00      0.00         9\n",
      "       palm-oil       0.00      0.00      0.00         1\n",
      "           fuel       0.00      0.00      0.00         9\n",
      "        oilseed       0.00      0.00      0.00         8\n",
      "            gnp       0.00      0.00      0.00         3\n",
      "          wheat       0.00      0.00      0.00         2\n",
      "            dmk       0.00      0.00      0.00         3\n",
      "         lumber       0.00      0.00      0.00         2\n",
      "            tin       0.00      0.00      0.00        13\n",
      "            bop       0.00      0.00      0.00         5\n",
      "      livestock       0.00      0.00      0.00        19\n",
      "          cocoa       0.00      0.00      0.00        12\n",
      "         coffee       1.00      0.65      0.79        60\n",
      "           alum       0.00      0.00      0.00         4\n",
      "         silver       0.00      0.00      0.00         3\n",
      "            cpu       0.00      0.00      0.00         3\n",
      "            jet       0.00      0.00      0.00         1\n",
      "           rand       1.00      0.12      0.21        17\n",
      "          trade       0.00      0.00      0.00         4\n",
      "        propane       0.00      0.00      0.00        35\n",
      "        sorghum       0.00      0.00      0.00         1\n",
      "         barley       0.00      0.00      0.00         1\n",
      "            dlr       0.00      0.00      0.00         3\n",
      "       platinum       0.00      0.00      0.00         2\n",
      "           ship       0.00      0.00      0.00         9\n",
      "            tea       0.97      0.70      0.81        93\n",
      "            ipi       0.00      0.00      0.00         0\n",
      "          crude       0.00      0.00      0.00        22\n",
      "         rubber       0.90      0.63      0.75        60\n",
      "        naphtha       0.00      0.00      0.00         8\n",
      "      meal-feed       0.00      0.00      0.00        13\n",
      "        nat-gas       0.00      0.00      0.00         4\n",
      "\n",
      "       accuracy                           0.70      2642\n",
      "      macro avg       0.20      0.13      0.15      2642\n",
      "   weighted avg       0.79      0.70      0.73      2642\n",
      "\n"
     ]
    }
   ],
   "source": [
    "print(classification_report(df_flat.actual, df_flat.predicted, target_names=matrix_labels))"
   ]
  },
  {
   "cell_type": "markdown",
   "metadata": {},
   "source": [
    "As previously the results are dependent on the category and due to the inbalance of the train samples. It is worth noticing that some labels are not present in the test set..."
   ]
  },
  {
   "cell_type": "markdown",
   "metadata": {},
   "source": [
    "### ROC Curve & AUC"
   ]
  },
  {
   "cell_type": "markdown",
   "metadata": {},
   "source": [
    "First let's get all the corresponding catetories and predictions with their values. <br>\n",
    "After that we'll calculate the Receiver operating characteristic (ROC) and finally the Area under the curve (AUC)."
   ]
  },
  {
   "cell_type": "code",
   "execution_count": 29,
   "metadata": {},
   "outputs": [],
   "source": [
    "pd_comp = pd.DataFrame({'actual': x_te['categories'], 'predicted': te_pred})\n",
    "pd_comp['predicted'] = pd_comp['predicted'].apply(lambda x: apply_threshold(x, report_value=True))\n",
    "\n",
    "cat_actual = pd_comp['actual'].tolist()\n",
    "cat_predicted = pd_comp['predicted'].apply(dict)"
   ]
  },
  {
   "cell_type": "code",
   "execution_count": 30,
   "metadata": {},
   "outputs": [],
   "source": [
    "def get_score_list(tokenizer, textcat, cat_predicted, cat_actual):\n",
    "    pred = []\n",
    "    real = []\n",
    "    \n",
    "    for i, doc_cat in enumerate(cat_predicted):\n",
    "        gold = cat_actual[i]\n",
    "#         breakpoint()\n",
    "        for label, score in doc_cat.items():\n",
    "            pred.append(round(score, 2))\n",
    "            if label not in gold:\n",
    "                real.append(False)\n",
    "            else:\n",
    "                real.append(True)       # gold[label]\n",
    "                \n",
    "    return real, pred\n",
    "    \n",
    "scores_real, scores_prediction = get_score_list(nlp.tokenizer, textcat, cat_predicted, cat_actual)"
   ]
  },
  {
   "cell_type": "code",
   "execution_count": 31,
   "metadata": {},
   "outputs": [],
   "source": [
    "fpr, tpr, thresholds = roc_curve(scores_real, scores_prediction)"
   ]
  },
  {
   "cell_type": "code",
   "execution_count": 32,
   "metadata": {},
   "outputs": [
    {
     "data": {
      "image/png": "[encoded data removed]",
      "text/plain": [
       "<Figure size 432x288 with 1 Axes>"
      ]
     },
     "metadata": {
      "needs_background": "light"
     },
     "output_type": "display_data"
    }
   ],
   "source": [
    "plt.figure(1)\n",
    "plt.plot([0, 1], [0, 1], 'k--')\n",
    "plt.plot(fpr, tpr, label='AUC (area = {:.3f})'.format(auc))\n",
    "plt.xlabel('False positive rate')\n",
    "plt.ylabel('True positive rate')\n",
    "plt.title('ROC curve')\n",
    "plt.show()"
   ]
  },
  {
   "cell_type": "code",
   "execution_count": 33,
   "metadata": {},
   "outputs": [
    {
     "name": "stdout",
     "output_type": "stream",
     "text": [
      "AUC: 0.869\n"
     ]
    }
   ],
   "source": [
    "auc = auc(fpr, tpr)\n",
    "print('AUC: {0:.3f}'.format(auc))"
   ]
  },
  {
   "cell_type": "code",
   "execution_count": null,
   "metadata": {},
   "outputs": [],
   "source": []
  }
 ],
 "metadata": {
  "kernelspec": {
   "display_name": "Python 3",
   "language": "python",
   "name": "python3"
  },
  "language_info": {
   "codemirror_mode": {
    "name": "ipython",
    "version": 3
   },
   "file_extension": ".py",
   "mimetype": "text/x-python",
   "name": "python",
   "nbconvert_exporter": "python",
   "pygments_lexer": "ipython3",
   "version": "3.7.3"
  }
 },
 "nbformat": 4,
 "nbformat_minor": 2
}
