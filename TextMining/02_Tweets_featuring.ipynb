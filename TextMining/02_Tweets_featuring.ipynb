{
 "cells": [
  {
   "cell_type": "markdown",
   "metadata": {},
   "source": [
    "# Tweets Featuring"
   ]
  },
  {
   "cell_type": "markdown",
   "metadata": {},
   "source": [
    "Loading the file capturing tweets, create some new features"
   ]
  },
  {
   "cell_type": "code",
   "execution_count": 1,
   "metadata": {},
   "outputs": [
    {
     "name": "stdout",
     "output_type": "stream",
     "text": [
      "CPython 3.7.3\n",
      "IPython 7.5.0\n",
      "\n",
      "numpy 1.16.4\n",
      "pandas 0.24.2\n",
      "\n",
      "compiler   : GCC 7.3.0\n",
      "system     : Linux\n",
      "release    : 5.0.0-20-generic\n",
      "machine    : x86_64\n",
      "processor  : x86_64\n",
      "CPU cores  : 8\n",
      "interpreter: 64bit\n",
      "Git hash   : d1eab842e81cd46d3714e0d672775fbd88227b9c\n"
     ]
    }
   ],
   "source": [
    "%load_ext autoreload\n",
    "%autoreload 2\n",
    "%matplotlib inline\n",
    "%load_ext watermark\n",
    "%watermark -v -m -p numpy,pandas -g\n",
    "\n",
    "import re\n",
    "from tqdm import tqdm\n",
    "import yaml\n",
    "import pandas as pd\n",
    "import numpy as np\n",
    "import matplotlib.pyplot as plt\n",
    "import watermark\n",
    "import emoji"
   ]
  },
  {
   "cell_type": "markdown",
   "metadata": {},
   "source": [
    "### Constants\n",
    "\n",
    "Modify these values to update the config file, the query or the output file."
   ]
  },
  {
   "cell_type": "code",
   "execution_count": 2,
   "metadata": {},
   "outputs": [],
   "source": [
    "INPUT_FILE = \"tweets.csv\"\n",
    "OUTPUT_FILE = \"tweets-processed.csv\""
   ]
  },
  {
   "cell_type": "code",
   "execution_count": 3,
   "metadata": {},
   "outputs": [],
   "source": [
    "tweets_df = pd.read_csv(INPUT_FILE, parse_dates=['created_at'])"
   ]
  },
  {
   "cell_type": "code",
   "execution_count": 4,
   "metadata": {},
   "outputs": [
    {
     "data": {
      "text/html": [
       "<div>\n",
       "<style scoped>\n",
       "    .dataframe tbody tr th:only-of-type {\n",
       "        vertical-align: middle;\n",
       "    }\n",
       "\n",
       "    .dataframe tbody tr th {\n",
       "        vertical-align: top;\n",
       "    }\n",
       "\n",
       "    .dataframe thead th {\n",
       "        text-align: right;\n",
       "    }\n",
       "</style>\n",
       "<table border=\"1\" class=\"dataframe\">\n",
       "  <thead>\n",
       "    <tr style=\"text-align: right;\">\n",
       "      <th></th>\n",
       "      <th>screen_name</th>\n",
       "      <th>location</th>\n",
       "      <th>id</th>\n",
       "      <th>source</th>\n",
       "      <th>coordinates</th>\n",
       "      <th>favorite_count</th>\n",
       "      <th>favorited</th>\n",
       "      <th>lang</th>\n",
       "      <th>hashtags</th>\n",
       "      <th>created_at</th>\n",
       "      <th>text</th>\n",
       "    </tr>\n",
       "  </thead>\n",
       "  <tbody>\n",
       "    <tr>\n",
       "      <th>0</th>\n",
       "      <td>ONYXCONtruth</td>\n",
       "      <td>ATL &amp; The Universe</td>\n",
       "      <td>446395993</td>\n",
       "      <td>Instagram</td>\n",
       "      <td>NaN</td>\n",
       "      <td>0</td>\n",
       "      <td>False</td>\n",
       "      <td>en</td>\n",
       "      <td>[{'text': 'real', 'indices': [18, 23]}, {'text...</td>\n",
       "      <td>2019-07-04 22:57:55</td>\n",
       "      <td>Salute to all the #real #Artist that make #ONY...</td>\n",
       "    </tr>\n",
       "    <tr>\n",
       "      <th>1</th>\n",
       "      <td>CassiniFrank</td>\n",
       "      <td>Vancouver, British Columbia</td>\n",
       "      <td>997922612255703040</td>\n",
       "      <td>Twitter for iPhone</td>\n",
       "      <td>NaN</td>\n",
       "      <td>0</td>\n",
       "      <td>False</td>\n",
       "      <td>en</td>\n",
       "      <td>[{'text': 'UK', 'indices': [47, 50]}, {'text':...</td>\n",
       "      <td>2019-07-04 22:57:47</td>\n",
       "      <td>RT @volition_movie: Mighty chuffed to have our...</td>\n",
       "    </tr>\n",
       "    <tr>\n",
       "      <th>2</th>\n",
       "      <td>afriwomencinema</td>\n",
       "      <td>NaN</td>\n",
       "      <td>29717530</td>\n",
       "      <td>Twitter Web Client</td>\n",
       "      <td>NaN</td>\n",
       "      <td>0</td>\n",
       "      <td>False</td>\n",
       "      <td>en</td>\n",
       "      <td>[{'text': 'Senegal', 'indices': [107, 115]}]</td>\n",
       "      <td>2019-07-04 22:57:42</td>\n",
       "      <td>FROM THE AFRICAN WOMEN IN CINEMA BLOG ARCHIVES...</td>\n",
       "    </tr>\n",
       "    <tr>\n",
       "      <th>3</th>\n",
       "      <td>afriwomencinema</td>\n",
       "      <td>NaN</td>\n",
       "      <td>29717530</td>\n",
       "      <td>Twitter Web Client</td>\n",
       "      <td>NaN</td>\n",
       "      <td>1</td>\n",
       "      <td>False</td>\n",
       "      <td>en</td>\n",
       "      <td>[{'text': 'Senegal', 'indices': [107, 115]}]</td>\n",
       "      <td>2019-07-04 22:56:54</td>\n",
       "      <td>FROM THE AFRICAN WOMEN IN CINEMA BLOG ARCHIVES...</td>\n",
       "    </tr>\n",
       "    <tr>\n",
       "      <th>4</th>\n",
       "      <td>MissTraders</td>\n",
       "      <td>Worldwide</td>\n",
       "      <td>1062616274365145088</td>\n",
       "      <td>IFTTT</td>\n",
       "      <td>NaN</td>\n",
       "      <td>0</td>\n",
       "      <td>False</td>\n",
       "      <td>en</td>\n",
       "      <td>[{'text': 'MissTraders', 'indices': [0, 12]}, ...</td>\n",
       "      <td>2019-07-04 22:56:25</td>\n",
       "      <td>#MissTraders Alert: Thank you @fabfaridah for ...</td>\n",
       "    </tr>\n",
       "  </tbody>\n",
       "</table>\n",
       "</div>"
      ],
      "text/plain": [
       "       screen_name                     location                   id  \\\n",
       "0     ONYXCONtruth           ATL & The Universe            446395993   \n",
       "1     CassiniFrank  Vancouver, British Columbia   997922612255703040   \n",
       "2  afriwomencinema                          NaN             29717530   \n",
       "3  afriwomencinema                          NaN             29717530   \n",
       "4      MissTraders                    Worldwide  1062616274365145088   \n",
       "\n",
       "               source coordinates  favorite_count  favorited lang  \\\n",
       "0           Instagram         NaN               0      False   en   \n",
       "1  Twitter for iPhone         NaN               0      False   en   \n",
       "2  Twitter Web Client         NaN               0      False   en   \n",
       "3  Twitter Web Client         NaN               1      False   en   \n",
       "4               IFTTT         NaN               0      False   en   \n",
       "\n",
       "                                            hashtags          created_at  \\\n",
       "0  [{'text': 'real', 'indices': [18, 23]}, {'text... 2019-07-04 22:57:55   \n",
       "1  [{'text': 'UK', 'indices': [47, 50]}, {'text':... 2019-07-04 22:57:47   \n",
       "2       [{'text': 'Senegal', 'indices': [107, 115]}] 2019-07-04 22:57:42   \n",
       "3       [{'text': 'Senegal', 'indices': [107, 115]}] 2019-07-04 22:56:54   \n",
       "4  [{'text': 'MissTraders', 'indices': [0, 12]}, ... 2019-07-04 22:56:25   \n",
       "\n",
       "                                                text  \n",
       "0  Salute to all the #real #Artist that make #ONY...  \n",
       "1  RT @volition_movie: Mighty chuffed to have our...  \n",
       "2  FROM THE AFRICAN WOMEN IN CINEMA BLOG ARCHIVES...  \n",
       "3  FROM THE AFRICAN WOMEN IN CINEMA BLOG ARCHIVES...  \n",
       "4  #MissTraders Alert: Thank you @fabfaridah for ...  "
      ]
     },
     "execution_count": 4,
     "metadata": {},
     "output_type": "execute_result"
    }
   ],
   "source": [
    "tweets_df.head(5)"
   ]
  },
  {
   "cell_type": "code",
   "execution_count": 5,
   "metadata": {},
   "outputs": [
    {
     "name": "stdout",
     "output_type": "stream",
     "text": [
      "<class 'pandas.core.frame.DataFrame'>\n",
      "RangeIndex: 3000 entries, 0 to 2999\n",
      "Data columns (total 11 columns):\n",
      "screen_name       3000 non-null object\n",
      "location          2406 non-null object\n",
      "id                3000 non-null int64\n",
      "source            3000 non-null object\n",
      "coordinates       81 non-null object\n",
      "favorite_count    3000 non-null int64\n",
      "favorited         3000 non-null bool\n",
      "lang              3000 non-null object\n",
      "hashtags          3000 non-null object\n",
      "created_at        3000 non-null datetime64[ns]\n",
      "text              3000 non-null object\n",
      "dtypes: bool(1), datetime64[ns](1), int64(2), object(7)\n",
      "memory usage: 237.4+ KB\n"
     ]
    }
   ],
   "source": [
    "tweets_df.info()"
   ]
  },
  {
   "cell_type": "code",
   "execution_count": 6,
   "metadata": {},
   "outputs": [
    {
     "data": {
      "text/html": [
       "<div>\n",
       "<style scoped>\n",
       "    .dataframe tbody tr th:only-of-type {\n",
       "        vertical-align: middle;\n",
       "    }\n",
       "\n",
       "    .dataframe tbody tr th {\n",
       "        vertical-align: top;\n",
       "    }\n",
       "\n",
       "    .dataframe thead th {\n",
       "        text-align: right;\n",
       "    }\n",
       "</style>\n",
       "<table border=\"1\" class=\"dataframe\">\n",
       "  <thead>\n",
       "    <tr style=\"text-align: right;\">\n",
       "      <th></th>\n",
       "      <th>id</th>\n",
       "      <th>favorite_count</th>\n",
       "    </tr>\n",
       "  </thead>\n",
       "  <tbody>\n",
       "    <tr>\n",
       "      <th>count</th>\n",
       "      <td>3.000000e+03</td>\n",
       "      <td>3000.000000</td>\n",
       "    </tr>\n",
       "    <tr>\n",
       "      <th>mean</th>\n",
       "      <td>3.277400e+17</td>\n",
       "      <td>0.769000</td>\n",
       "    </tr>\n",
       "    <tr>\n",
       "      <th>std</th>\n",
       "      <td>4.604394e+17</td>\n",
       "      <td>4.222983</td>\n",
       "    </tr>\n",
       "    <tr>\n",
       "      <th>min</th>\n",
       "      <td>4.046681e+06</td>\n",
       "      <td>0.000000</td>\n",
       "    </tr>\n",
       "    <tr>\n",
       "      <th>25%</th>\n",
       "      <td>1.905869e+08</td>\n",
       "      <td>0.000000</td>\n",
       "    </tr>\n",
       "    <tr>\n",
       "      <th>50%</th>\n",
       "      <td>1.906807e+09</td>\n",
       "      <td>0.000000</td>\n",
       "    </tr>\n",
       "    <tr>\n",
       "      <th>75%</th>\n",
       "      <td>8.439787e+17</td>\n",
       "      <td>0.000000</td>\n",
       "    </tr>\n",
       "    <tr>\n",
       "      <th>max</th>\n",
       "      <td>1.146907e+18</td>\n",
       "      <td>113.000000</td>\n",
       "    </tr>\n",
       "  </tbody>\n",
       "</table>\n",
       "</div>"
      ],
      "text/plain": [
       "                 id  favorite_count\n",
       "count  3.000000e+03     3000.000000\n",
       "mean   3.277400e+17        0.769000\n",
       "std    4.604394e+17        4.222983\n",
       "min    4.046681e+06        0.000000\n",
       "25%    1.905869e+08        0.000000\n",
       "50%    1.906807e+09        0.000000\n",
       "75%    8.439787e+17        0.000000\n",
       "max    1.146907e+18      113.000000"
      ]
     },
     "execution_count": 6,
     "metadata": {},
     "output_type": "execute_result"
    }
   ],
   "source": [
    "tweets_df.describe()"
   ]
  },
  {
   "cell_type": "markdown",
   "metadata": {},
   "source": [
    "From previous information, location has a certain number of NaN which we can replace for the string 'unknown' and coordinates has very little information as it is mostly null values"
   ]
  },
  {
   "cell_type": "code",
   "execution_count": 7,
   "metadata": {},
   "outputs": [],
   "source": [
    "tweets_df['location'].fillna('unknown', inplace=True)"
   ]
  },
  {
   "cell_type": "code",
   "execution_count": 8,
   "metadata": {},
   "outputs": [
    {
     "name": "stdout",
     "output_type": "stream",
     "text": [
      "Kwnown coordinates: 1.6%\n"
     ]
    }
   ],
   "source": [
    "print('Kwnown coordinates: {}%'.format(100 * tweets_df.coordinates.count() / tweets_df.shape[0]))"
   ]
  },
  {
   "cell_type": "code",
   "execution_count": 9,
   "metadata": {},
   "outputs": [],
   "source": [
    "tweets_df.drop(['coordinates'], axis=1, inplace=True)"
   ]
  },
  {
   "cell_type": "markdown",
   "metadata": {},
   "source": [
    "## Create extra features"
   ]
  },
  {
   "cell_type": "markdown",
   "metadata": {},
   "source": [
    "* Extract tags embeded in the tweet:"
   ]
  },
  {
   "cell_type": "code",
   "execution_count": 10,
   "metadata": {},
   "outputs": [
    {
     "data": {
      "text/plain": [
       "'RT @DaviesWriter: At the touch of a lover, everyone becomes a poet.\\n― #Plato \\n\\n#poetry #amwriting #film #screenwriting #Hollywood #acting…'"
      ]
     },
     "execution_count": 10,
     "metadata": {},
     "output_type": "execute_result"
    }
   ],
   "source": [
    "tweets_df.text[0]"
   ]
  },
  {
   "cell_type": "code",
   "execution_count": 11,
   "metadata": {},
   "outputs": [],
   "source": [
    "tag_regex = re.compile(r'#[\\w]+')\n",
    "def get_tags(text, regex=tag_regex):\n",
    "    tags = regex.findall(text)\n",
    "    return [k.replace('#', '') for k in tags]"
   ]
  },
  {
   "cell_type": "code",
   "execution_count": 12,
   "metadata": {},
   "outputs": [],
   "source": [
    "tweets_df['tags'] = tweets_df.text.apply(get_tags, args = (tag_regex,))"
   ]
  },
  {
   "cell_type": "code",
   "execution_count": 13,
   "metadata": {},
   "outputs": [],
   "source": [
    "def clean_tags(text, tags):\n",
    "    # Eliminate tags from the text\n",
    "    for tag in tags:\n",
    "        text = re.sub(' +', ' ', text.replace('#' + tag, '').replace('\\n', ' ') \\\n",
    "                      .replace('\\r', '').replace(' ― ', '').replace(' …', ''))\n",
    "    \n",
    "    return text.strip()     # Clean up"
   ]
  },
  {
   "cell_type": "code",
   "execution_count": 14,
   "metadata": {},
   "outputs": [
    {
     "data": {
      "text/plain": [
       "'RT @DaviesWriter: At the touch of a lover, everyone becomes a poet.'"
      ]
     },
     "execution_count": 14,
     "metadata": {},
     "output_type": "execute_result"
    }
   ],
   "source": [
    "tweets_df['text'] = tweets_df[['text', 'tags']].apply(lambda x: clean_tags(*x), axis=1)\n",
    "tweets_df['text'][0]        # Verify updates..."
   ]
  },
  {
   "cell_type": "markdown",
   "metadata": {},
   "source": [
    "* Retweets"
   ]
  },
  {
   "cell_type": "code",
   "execution_count": 15,
   "metadata": {},
   "outputs": [],
   "source": [
    "retweet_regex = re.compile(r'RT\\s@[\\w]+:')\n",
    "def is_retweet(text, regex=retweet_regex):\n",
    "    retweet = regex.findall(text)\n",
    "    is_retweet = False\n",
    "    author = ''\n",
    "    if retweet:\n",
    "        text = text.replace(retweet[0], '').strip()\n",
    "        is_retweet = True\n",
    "        author = retweet[0].replace('RT @', '').replace(':', '')\n",
    "    return is_retweet, author, text"
   ]
  },
  {
   "cell_type": "code",
   "execution_count": 16,
   "metadata": {},
   "outputs": [],
   "source": [
    "is_retweet, authors, text = zip(*tweets_df.text.apply(is_retweet, args = (retweet_regex,)))"
   ]
  },
  {
   "cell_type": "code",
   "execution_count": 17,
   "metadata": {},
   "outputs": [],
   "source": [
    "tweets_df['is_retweet'], tweets_df['retweet_author'], tweets_df['text'] = [is_retweet, authors, text]"
   ]
  },
  {
   "cell_type": "code",
   "execution_count": 18,
   "metadata": {},
   "outputs": [
    {
     "data": {
      "text/html": [
       "<div>\n",
       "<style scoped>\n",
       "    .dataframe tbody tr th:only-of-type {\n",
       "        vertical-align: middle;\n",
       "    }\n",
       "\n",
       "    .dataframe tbody tr th {\n",
       "        vertical-align: top;\n",
       "    }\n",
       "\n",
       "    .dataframe thead th {\n",
       "        text-align: right;\n",
       "    }\n",
       "</style>\n",
       "<table border=\"1\" class=\"dataframe\">\n",
       "  <thead>\n",
       "    <tr style=\"text-align: right;\">\n",
       "      <th></th>\n",
       "      <th>screen_name</th>\n",
       "      <th>location</th>\n",
       "      <th>source</th>\n",
       "      <th>favorite_count</th>\n",
       "      <th>favorited</th>\n",
       "      <th>lang</th>\n",
       "      <th>hashtags</th>\n",
       "      <th>created_at</th>\n",
       "      <th>text</th>\n",
       "      <th>tags</th>\n",
       "      <th>is_retweet</th>\n",
       "      <th>retweet_author</th>\n",
       "    </tr>\n",
       "  </thead>\n",
       "  <tbody>\n",
       "    <tr>\n",
       "      <th>0</th>\n",
       "      <td>ccchapman3103</td>\n",
       "      <td>MN, AZ, TX, USA</td>\n",
       "      <td>Twitter Web Client</td>\n",
       "      <td>0</td>\n",
       "      <td>False</td>\n",
       "      <td>en</td>\n",
       "      <td>[{'text': 'Plato', 'indices': [70, 76]}, {'tex...</td>\n",
       "      <td>2019-07-02 07:50:54</td>\n",
       "      <td>At the touch of a lover, everyone becomes a poet.</td>\n",
       "      <td>[Plato, poetry, amwriting, film, screenwriting...</td>\n",
       "      <td>True</td>\n",
       "      <td>DaviesWriter</td>\n",
       "    </tr>\n",
       "    <tr>\n",
       "      <th>1</th>\n",
       "      <td>DonRon777</td>\n",
       "      <td>unknown</td>\n",
       "      <td>Twitter Web App</td>\n",
       "      <td>0</td>\n",
       "      <td>False</td>\n",
       "      <td>en</td>\n",
       "      <td>[]</td>\n",
       "      <td>2019-07-02 07:48:36</td>\n",
       "      <td>What do you think about the new series, \"The C...</td>\n",
       "      <td>[]</td>\n",
       "      <td>True</td>\n",
       "      <td>777Liquid</td>\n",
       "    </tr>\n",
       "    <tr>\n",
       "      <th>2</th>\n",
       "      <td>lavenderlens</td>\n",
       "      <td>sightseeing at the cathedral💀</td>\n",
       "      <td>Twitter for iPhone</td>\n",
       "      <td>0</td>\n",
       "      <td>False</td>\n",
       "      <td>en</td>\n",
       "      <td>[{'text': 'sfx', 'indices': [89, 93]}, {'text'...</td>\n",
       "      <td>2019-07-02 07:47:27</td>\n",
       "      <td>Time to write a new blog but too many interest...</td>\n",
       "      <td>[sfx, makeup, artist, film, workshop, immersiv...</td>\n",
       "      <td>True</td>\n",
       "      <td>katesfxmakeup</td>\n",
       "    </tr>\n",
       "  </tbody>\n",
       "</table>\n",
       "</div>"
      ],
      "text/plain": [
       "     screen_name                       location              source  \\\n",
       "0  ccchapman3103                MN, AZ, TX, USA  Twitter Web Client   \n",
       "1      DonRon777                        unknown     Twitter Web App   \n",
       "2   lavenderlens  sightseeing at the cathedral💀  Twitter for iPhone   \n",
       "\n",
       "   favorite_count  favorited lang  \\\n",
       "0               0      False   en   \n",
       "1               0      False   en   \n",
       "2               0      False   en   \n",
       "\n",
       "                                            hashtags          created_at  \\\n",
       "0  [{'text': 'Plato', 'indices': [70, 76]}, {'tex... 2019-07-02 07:50:54   \n",
       "1                                                 [] 2019-07-02 07:48:36   \n",
       "2  [{'text': 'sfx', 'indices': [89, 93]}, {'text'... 2019-07-02 07:47:27   \n",
       "\n",
       "                                                text  \\\n",
       "0  At the touch of a lover, everyone becomes a poet.   \n",
       "1  What do you think about the new series, \"The C...   \n",
       "2  Time to write a new blog but too many interest...   \n",
       "\n",
       "                                                tags  is_retweet  \\\n",
       "0  [Plato, poetry, amwriting, film, screenwriting...        True   \n",
       "1                                                 []        True   \n",
       "2  [sfx, makeup, artist, film, workshop, immersiv...        True   \n",
       "\n",
       "  retweet_author  \n",
       "0   DaviesWriter  \n",
       "1      777Liquid  \n",
       "2  katesfxmakeup  "
      ]
     },
     "execution_count": 18,
     "metadata": {},
     "output_type": "execute_result"
    }
   ],
   "source": [
    "tweets_df.head(3)"
   ]
  },
  {
   "cell_type": "markdown",
   "metadata": {},
   "source": [
    "* Number of words in the tweet"
   ]
  },
  {
   "cell_type": "code",
   "execution_count": 19,
   "metadata": {},
   "outputs": [],
   "source": [
    "tweets_df['n_words'] = tweets_df.text.apply(len)"
   ]
  },
  {
   "cell_type": "code",
   "execution_count": 20,
   "metadata": {},
   "outputs": [],
   "source": [
    "tweets_df['has_link'] = tweets_df.text.apply(lambda x: 'http' in x)"
   ]
  },
  {
   "cell_type": "code",
   "execution_count": 21,
   "metadata": {},
   "outputs": [],
   "source": [
    "emoji_regex = emoji.get_emoji_regexp()\n",
    "def capture_emojis(text):\n",
    "    emojis = emoji_regex.findall(text)\n",
    "    if emojis:\n",
    "        emoji_count = len(emojis)\n",
    "        for e in emojis:\n",
    "            text = text.replace(e, '')\n",
    "        text = text.strip()\n",
    "        emojis = ' '.join(emojis)\n",
    "    else:\n",
    "        emoji_count = 0\n",
    "        emojis = ''\n",
    "    \n",
    "    return emoji_count, emojis, text"
   ]
  },
  {
   "cell_type": "code",
   "execution_count": 22,
   "metadata": {},
   "outputs": [],
   "source": [
    "emoji_count, emojis, text = zip(*tweets_df.text.apply(capture_emojis))\n",
    "tweets_df['emoji_count'], tweets_df['emojis'], tweets_df['text'] = [emoji_count, emojis, text]"
   ]
  },
  {
   "cell_type": "code",
   "execution_count": 23,
   "metadata": {},
   "outputs": [
    {
     "data": {
      "text/html": [
       "<div>\n",
       "<style scoped>\n",
       "    .dataframe tbody tr th:only-of-type {\n",
       "        vertical-align: middle;\n",
       "    }\n",
       "\n",
       "    .dataframe tbody tr th {\n",
       "        vertical-align: top;\n",
       "    }\n",
       "\n",
       "    .dataframe thead th {\n",
       "        text-align: right;\n",
       "    }\n",
       "</style>\n",
       "<table border=\"1\" class=\"dataframe\">\n",
       "  <thead>\n",
       "    <tr style=\"text-align: right;\">\n",
       "      <th></th>\n",
       "      <th>screen_name</th>\n",
       "      <th>location</th>\n",
       "      <th>source</th>\n",
       "      <th>favorite_count</th>\n",
       "      <th>favorited</th>\n",
       "      <th>lang</th>\n",
       "      <th>hashtags</th>\n",
       "      <th>created_at</th>\n",
       "      <th>text</th>\n",
       "      <th>tags</th>\n",
       "      <th>is_retweet</th>\n",
       "      <th>retweet_author</th>\n",
       "      <th>n_words</th>\n",
       "      <th>has_link</th>\n",
       "      <th>emoji_count</th>\n",
       "      <th>emojis</th>\n",
       "    </tr>\n",
       "  </thead>\n",
       "  <tbody>\n",
       "    <tr>\n",
       "      <th>0</th>\n",
       "      <td>ccchapman3103</td>\n",
       "      <td>MN, AZ, TX, USA</td>\n",
       "      <td>Twitter Web Client</td>\n",
       "      <td>0</td>\n",
       "      <td>False</td>\n",
       "      <td>en</td>\n",
       "      <td>[{'text': 'Plato', 'indices': [70, 76]}, {'tex...</td>\n",
       "      <td>2019-07-02 07:50:54</td>\n",
       "      <td>At the touch of a lover, everyone becomes a poet.</td>\n",
       "      <td>[Plato, poetry, amwriting, film, screenwriting...</td>\n",
       "      <td>True</td>\n",
       "      <td>DaviesWriter</td>\n",
       "      <td>49</td>\n",
       "      <td>False</td>\n",
       "      <td>0</td>\n",
       "      <td></td>\n",
       "    </tr>\n",
       "    <tr>\n",
       "      <th>1</th>\n",
       "      <td>DonRon777</td>\n",
       "      <td>unknown</td>\n",
       "      <td>Twitter Web App</td>\n",
       "      <td>0</td>\n",
       "      <td>False</td>\n",
       "      <td>en</td>\n",
       "      <td>[]</td>\n",
       "      <td>2019-07-02 07:48:36</td>\n",
       "      <td>What do you think about the new series, \"The C...</td>\n",
       "      <td>[]</td>\n",
       "      <td>True</td>\n",
       "      <td>777Liquid</td>\n",
       "      <td>124</td>\n",
       "      <td>False</td>\n",
       "      <td>0</td>\n",
       "      <td></td>\n",
       "    </tr>\n",
       "    <tr>\n",
       "      <th>2</th>\n",
       "      <td>lavenderlens</td>\n",
       "      <td>sightseeing at the cathedral💀</td>\n",
       "      <td>Twitter for iPhone</td>\n",
       "      <td>0</td>\n",
       "      <td>False</td>\n",
       "      <td>en</td>\n",
       "      <td>[{'text': 'sfx', 'indices': [89, 93]}, {'text'...</td>\n",
       "      <td>2019-07-02 07:47:27</td>\n",
       "      <td>Time to write a new blog but too many interest...</td>\n",
       "      <td>[sfx, makeup, artist, film, workshop, immersiv...</td>\n",
       "      <td>True</td>\n",
       "      <td>katesfxmakeup</td>\n",
       "      <td>69</td>\n",
       "      <td>False</td>\n",
       "      <td>0</td>\n",
       "      <td></td>\n",
       "    </tr>\n",
       "    <tr>\n",
       "      <th>3</th>\n",
       "      <td>AYoungNegus</td>\n",
       "      <td>Chicago</td>\n",
       "      <td>Twitter for iPhone</td>\n",
       "      <td>0</td>\n",
       "      <td>False</td>\n",
       "      <td>en</td>\n",
       "      <td>[{'text': 'blackdynamite', 'indices': [97, 111...</td>\n",
       "      <td>2019-07-02 07:45:22</td>\n",
       "      <td>One of the greatest scenes from Black Dynamite...</td>\n",
       "      <td>[blackdynamite, comedy, classic, blaxploit]</td>\n",
       "      <td>True</td>\n",
       "      <td>jaiganticstudio</td>\n",
       "      <td>74</td>\n",
       "      <td>False</td>\n",
       "      <td>1</td>\n",
       "      <td>😂</td>\n",
       "    </tr>\n",
       "    <tr>\n",
       "      <th>4</th>\n",
       "      <td>EmpireDynamic</td>\n",
       "      <td>50 MILLION VIEWS MONTHLY</td>\n",
       "      <td>Twibble.io</td>\n",
       "      <td>0</td>\n",
       "      <td>False</td>\n",
       "      <td>en</td>\n",
       "      <td>[{'text': 'boxoffice', 'indices': [93, 103]}]</td>\n",
       "      <td>2019-07-02 07:45:11</td>\n",
       "      <td>Cineflix Acquires Global Rights to Israel-Iran...</td>\n",
       "      <td>[boxoffice]</td>\n",
       "      <td>False</td>\n",
       "      <td></td>\n",
       "      <td>116</td>\n",
       "      <td>True</td>\n",
       "      <td>0</td>\n",
       "      <td></td>\n",
       "    </tr>\n",
       "  </tbody>\n",
       "</table>\n",
       "</div>"
      ],
      "text/plain": [
       "     screen_name                       location              source  \\\n",
       "0  ccchapman3103                MN, AZ, TX, USA  Twitter Web Client   \n",
       "1      DonRon777                        unknown     Twitter Web App   \n",
       "2   lavenderlens  sightseeing at the cathedral💀  Twitter for iPhone   \n",
       "3    AYoungNegus                        Chicago  Twitter for iPhone   \n",
       "4  EmpireDynamic       50 MILLION VIEWS MONTHLY          Twibble.io   \n",
       "\n",
       "   favorite_count  favorited lang  \\\n",
       "0               0      False   en   \n",
       "1               0      False   en   \n",
       "2               0      False   en   \n",
       "3               0      False   en   \n",
       "4               0      False   en   \n",
       "\n",
       "                                            hashtags          created_at  \\\n",
       "0  [{'text': 'Plato', 'indices': [70, 76]}, {'tex... 2019-07-02 07:50:54   \n",
       "1                                                 [] 2019-07-02 07:48:36   \n",
       "2  [{'text': 'sfx', 'indices': [89, 93]}, {'text'... 2019-07-02 07:47:27   \n",
       "3  [{'text': 'blackdynamite', 'indices': [97, 111... 2019-07-02 07:45:22   \n",
       "4      [{'text': 'boxoffice', 'indices': [93, 103]}] 2019-07-02 07:45:11   \n",
       "\n",
       "                                                text  \\\n",
       "0  At the touch of a lover, everyone becomes a poet.   \n",
       "1  What do you think about the new series, \"The C...   \n",
       "2  Time to write a new blog but too many interest...   \n",
       "3  One of the greatest scenes from Black Dynamite...   \n",
       "4  Cineflix Acquires Global Rights to Israel-Iran...   \n",
       "\n",
       "                                                tags  is_retweet  \\\n",
       "0  [Plato, poetry, amwriting, film, screenwriting...        True   \n",
       "1                                                 []        True   \n",
       "2  [sfx, makeup, artist, film, workshop, immersiv...        True   \n",
       "3        [blackdynamite, comedy, classic, blaxploit]        True   \n",
       "4                                        [boxoffice]       False   \n",
       "\n",
       "    retweet_author  n_words  has_link  emoji_count emojis  \n",
       "0     DaviesWriter       49     False            0         \n",
       "1        777Liquid      124     False            0         \n",
       "2    katesfxmakeup       69     False            0         \n",
       "3  jaiganticstudio       74     False            1      😂  \n",
       "4                       116      True            0         "
      ]
     },
     "execution_count": 23,
     "metadata": {},
     "output_type": "execute_result"
    }
   ],
   "source": [
    "tweets_df.head()"
   ]
  },
  {
   "cell_type": "code",
   "execution_count": 29,
   "metadata": {},
   "outputs": [
    {
     "data": {
      "image/png": "[encoded data removed]",
      "text/plain": [
       "<Figure size 432x288 with 1 Axes>"
      ]
     },
     "metadata": {
      "needs_background": "light"
     },
     "output_type": "display_data"
    }
   ],
   "source": [
    "years = [k.year for k in tweets_df['created_at']]\n",
    "\n",
    "plt.hist(years, bins = len(set(years)) )\n",
    "plt.ticklabel_format(useOffset=False)"
   ]
  },
  {
   "cell_type": "code",
   "execution_count": 24,
   "metadata": {},
   "outputs": [],
   "source": [
    "tweets_df.to_csv(OUTPUT_FILE, index=False)"
   ]
  },
  {
   "cell_type": "code",
   "execution_count": null,
   "metadata": {},
   "outputs": [],
   "source": []
  }
 ],
 "metadata": {
  "kernelspec": {
   "display_name": "Python 3",
   "language": "python",
   "name": "python3"
  },
  "language_info": {
   "codemirror_mode": {
    "name": "ipython",
    "version": 3
   },
   "file_extension": ".py",
   "mimetype": "text/x-python",
   "name": "python",
   "nbconvert_exporter": "python",
   "pygments_lexer": "ipython3",
   "version": "3.7.3"
  }
 },
 "nbformat": 4,
 "nbformat_minor": 2
}
