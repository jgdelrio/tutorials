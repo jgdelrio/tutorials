{
 "cells": [
  {
   "cell_type": "markdown",
   "metadata": {},
   "source": [
    "# Tweets Featuring"
   ]
  },
  {
   "cell_type": "markdown",
   "metadata": {},
   "source": [
    "Loading some of the data captured in the previous Jupyter notebook \"Read_tweets\", let's create some new features."
   ]
  },
  {
   "cell_type": "code",
   "execution_count": 1,
   "metadata": {},
   "outputs": [
    {
     "name": "stdout",
     "output_type": "stream",
     "text": [
      "CPython 3.7.3\n",
      "IPython 7.6.1\n",
      "\n",
      "numpy 1.16.4\n",
      "pandas 0.24.2\n",
      "\n",
      "compiler   : MSC v.1900 64 bit (AMD64)\n",
      "system     : Windows\n",
      "release    : 7\n",
      "machine    : AMD64\n",
      "processor  : Intel64 Family 6 Model 78 Stepping 3, GenuineIntel\n",
      "CPU cores  : 4\n",
      "interpreter: 64bit\n",
      "Git hash   : b15a3f632e9233ec78c35a8cbe1da876e727bfc5\n"
     ]
    }
   ],
   "source": [
    "%load_ext autoreload\n",
    "%autoreload 2\n",
    "%matplotlib inline\n",
    "%load_ext watermark\n",
    "%watermark -v -m -p numpy,pandas -g\n",
    "\n",
    "import re\n",
    "from tqdm import tqdm\n",
    "import yaml\n",
    "import watermark\n",
    "import emoji                      # conda install -c conda-forge emoji\n",
    "import pandas as pd\n",
    "import numpy as np"
   ]
  },
  {
   "cell_type": "markdown",
   "metadata": {},
   "source": [
    "### Constants"
   ]
  },
  {
   "cell_type": "code",
   "execution_count": 2,
   "metadata": {},
   "outputs": [],
   "source": [
    "TWEETS_INPUT = \"tweets.csv\"\n",
    "PROCESSED_TWEETS = \"tweets-processed.csv\"\n",
    "TWITER_USERS_FILE = 'twitter_users.csv'"
   ]
  },
  {
   "cell_type": "markdown",
   "metadata": {},
   "source": [
    "### Load Data"
   ]
  },
  {
   "cell_type": "code",
   "execution_count": 3,
   "metadata": {},
   "outputs": [],
   "source": [
    "tweets_df = pd.read_csv(TWEETS_INPUT, parse_dates=['created_at'])\n",
    "users_df = pd.read_csv(TWITER_USERS_FILE, parse_dates=['created_at'])"
   ]
  },
  {
   "cell_type": "code",
   "execution_count": 4,
   "metadata": {},
   "outputs": [
    {
     "data": {
      "text/html": [
       "<div>\n",
       "<style scoped>\n",
       "    .dataframe tbody tr th:only-of-type {\n",
       "        vertical-align: middle;\n",
       "    }\n",
       "\n",
       "    .dataframe tbody tr th {\n",
       "        vertical-align: top;\n",
       "    }\n",
       "\n",
       "    .dataframe thead th {\n",
       "        text-align: right;\n",
       "    }\n",
       "</style>\n",
       "<table border=\"1\" class=\"dataframe\">\n",
       "  <thead>\n",
       "    <tr style=\"text-align: right;\">\n",
       "      <th></th>\n",
       "      <th>screen_name</th>\n",
       "      <th>location</th>\n",
       "      <th>id</th>\n",
       "      <th>source</th>\n",
       "      <th>coordinates</th>\n",
       "      <th>favorite_count</th>\n",
       "      <th>favorited</th>\n",
       "      <th>lang</th>\n",
       "      <th>hashtags</th>\n",
       "      <th>created_at</th>\n",
       "      <th>text</th>\n",
       "    </tr>\n",
       "  </thead>\n",
       "  <tbody>\n",
       "    <tr>\n",
       "      <th>0</th>\n",
       "      <td>ONYXCONtruth</td>\n",
       "      <td>ATL &amp; The Universe</td>\n",
       "      <td>446395993</td>\n",
       "      <td>Instagram</td>\n",
       "      <td>NaN</td>\n",
       "      <td>0</td>\n",
       "      <td>False</td>\n",
       "      <td>en</td>\n",
       "      <td>[{'text': 'real', 'indices': [18, 23]}, {'text...</td>\n",
       "      <td>2019-07-04 22:57:55</td>\n",
       "      <td>Salute to all the #real #Artist that make #ONY...</td>\n",
       "    </tr>\n",
       "    <tr>\n",
       "      <th>1</th>\n",
       "      <td>CassiniFrank</td>\n",
       "      <td>Vancouver, British Columbia</td>\n",
       "      <td>997922612255703040</td>\n",
       "      <td>Twitter for iPhone</td>\n",
       "      <td>NaN</td>\n",
       "      <td>0</td>\n",
       "      <td>False</td>\n",
       "      <td>en</td>\n",
       "      <td>[{'text': 'UK', 'indices': [47, 50]}, {'text':...</td>\n",
       "      <td>2019-07-04 22:57:47</td>\n",
       "      <td>RT @volition_movie: Mighty chuffed to have our...</td>\n",
       "    </tr>\n",
       "    <tr>\n",
       "      <th>2</th>\n",
       "      <td>afriwomencinema</td>\n",
       "      <td>NaN</td>\n",
       "      <td>29717530</td>\n",
       "      <td>Twitter Web Client</td>\n",
       "      <td>NaN</td>\n",
       "      <td>0</td>\n",
       "      <td>False</td>\n",
       "      <td>en</td>\n",
       "      <td>[{'text': 'Senegal', 'indices': [107, 115]}]</td>\n",
       "      <td>2019-07-04 22:57:42</td>\n",
       "      <td>FROM THE AFRICAN WOMEN IN CINEMA BLOG ARCHIVES...</td>\n",
       "    </tr>\n",
       "  </tbody>\n",
       "</table>\n",
       "</div>"
      ],
      "text/plain": [
       "       screen_name                     location                  id  \\\n",
       "0     ONYXCONtruth           ATL & The Universe           446395993   \n",
       "1     CassiniFrank  Vancouver, British Columbia  997922612255703040   \n",
       "2  afriwomencinema                          NaN            29717530   \n",
       "\n",
       "               source coordinates  favorite_count  favorited lang  \\\n",
       "0           Instagram         NaN               0      False   en   \n",
       "1  Twitter for iPhone         NaN               0      False   en   \n",
       "2  Twitter Web Client         NaN               0      False   en   \n",
       "\n",
       "                                            hashtags          created_at  \\\n",
       "0  [{'text': 'real', 'indices': [18, 23]}, {'text... 2019-07-04 22:57:55   \n",
       "1  [{'text': 'UK', 'indices': [47, 50]}, {'text':... 2019-07-04 22:57:47   \n",
       "2       [{'text': 'Senegal', 'indices': [107, 115]}] 2019-07-04 22:57:42   \n",
       "\n",
       "                                                text  \n",
       "0  Salute to all the #real #Artist that make #ONY...  \n",
       "1  RT @volition_movie: Mighty chuffed to have our...  \n",
       "2  FROM THE AFRICAN WOMEN IN CINEMA BLOG ARCHIVES...  "
      ]
     },
     "execution_count": 4,
     "metadata": {},
     "output_type": "execute_result"
    }
   ],
   "source": [
    "tweets_df.head(3)"
   ]
  },
  {
   "cell_type": "code",
   "execution_count": 5,
   "metadata": {},
   "outputs": [
    {
     "name": "stdout",
     "output_type": "stream",
     "text": [
      "<class 'pandas.core.frame.DataFrame'>\n",
      "RangeIndex: 3000 entries, 0 to 2999\n",
      "Data columns (total 11 columns):\n",
      "screen_name       3000 non-null object\n",
      "location          2406 non-null object\n",
      "id                3000 non-null int64\n",
      "source            3000 non-null object\n",
      "coordinates       81 non-null object\n",
      "favorite_count    3000 non-null int64\n",
      "favorited         3000 non-null bool\n",
      "lang              3000 non-null object\n",
      "hashtags          3000 non-null object\n",
      "created_at        3000 non-null datetime64[ns]\n",
      "text              3000 non-null object\n",
      "dtypes: bool(1), datetime64[ns](1), int64(2), object(7)\n",
      "memory usage: 237.4+ KB\n"
     ]
    }
   ],
   "source": [
    "tweets_df.info()"
   ]
  },
  {
   "cell_type": "code",
   "execution_count": 6,
   "metadata": {},
   "outputs": [
    {
     "data": {
      "text/html": [
       "<div>\n",
       "<style scoped>\n",
       "    .dataframe tbody tr th:only-of-type {\n",
       "        vertical-align: middle;\n",
       "    }\n",
       "\n",
       "    .dataframe tbody tr th {\n",
       "        vertical-align: top;\n",
       "    }\n",
       "\n",
       "    .dataframe thead th {\n",
       "        text-align: right;\n",
       "    }\n",
       "</style>\n",
       "<table border=\"1\" class=\"dataframe\">\n",
       "  <thead>\n",
       "    <tr style=\"text-align: right;\">\n",
       "      <th></th>\n",
       "      <th>id</th>\n",
       "      <th>favorite_count</th>\n",
       "    </tr>\n",
       "  </thead>\n",
       "  <tbody>\n",
       "    <tr>\n",
       "      <th>count</th>\n",
       "      <td>3.000000e+03</td>\n",
       "      <td>3000.000000</td>\n",
       "    </tr>\n",
       "    <tr>\n",
       "      <th>mean</th>\n",
       "      <td>3.277400e+17</td>\n",
       "      <td>0.769000</td>\n",
       "    </tr>\n",
       "    <tr>\n",
       "      <th>std</th>\n",
       "      <td>4.604394e+17</td>\n",
       "      <td>4.222983</td>\n",
       "    </tr>\n",
       "    <tr>\n",
       "      <th>min</th>\n",
       "      <td>4.046681e+06</td>\n",
       "      <td>0.000000</td>\n",
       "    </tr>\n",
       "    <tr>\n",
       "      <th>25%</th>\n",
       "      <td>1.905869e+08</td>\n",
       "      <td>0.000000</td>\n",
       "    </tr>\n",
       "    <tr>\n",
       "      <th>50%</th>\n",
       "      <td>1.906807e+09</td>\n",
       "      <td>0.000000</td>\n",
       "    </tr>\n",
       "    <tr>\n",
       "      <th>75%</th>\n",
       "      <td>8.439787e+17</td>\n",
       "      <td>0.000000</td>\n",
       "    </tr>\n",
       "    <tr>\n",
       "      <th>max</th>\n",
       "      <td>1.146907e+18</td>\n",
       "      <td>113.000000</td>\n",
       "    </tr>\n",
       "  </tbody>\n",
       "</table>\n",
       "</div>"
      ],
      "text/plain": [
       "                 id  favorite_count\n",
       "count  3.000000e+03     3000.000000\n",
       "mean   3.277400e+17        0.769000\n",
       "std    4.604394e+17        4.222983\n",
       "min    4.046681e+06        0.000000\n",
       "25%    1.905869e+08        0.000000\n",
       "50%    1.906807e+09        0.000000\n",
       "75%    8.439787e+17        0.000000\n",
       "max    1.146907e+18      113.000000"
      ]
     },
     "execution_count": 6,
     "metadata": {},
     "output_type": "execute_result"
    }
   ],
   "source": [
    "tweets_df.describe()"
   ]
  },
  {
   "cell_type": "markdown",
   "metadata": {},
   "source": [
    "From previous information, location has a certain number of NaN which we can replace for the string 'unknown'. <br>\n",
    "Coordinates on the other side is almost completely null values."
   ]
  },
  {
   "cell_type": "code",
   "execution_count": 7,
   "metadata": {},
   "outputs": [],
   "source": [
    "tweets_df['location'].fillna('unknown', inplace=True)"
   ]
  },
  {
   "cell_type": "code",
   "execution_count": 8,
   "metadata": {},
   "outputs": [
    {
     "name": "stdout",
     "output_type": "stream",
     "text": [
      "Kwnown coordinates: 2.7%\n"
     ]
    }
   ],
   "source": [
    "print('Kwnown coordinates: {}%'.format(100 * tweets_df.coordinates.count() / tweets_df.shape[0]))"
   ]
  },
  {
   "cell_type": "code",
   "execution_count": 9,
   "metadata": {},
   "outputs": [],
   "source": [
    "tweets_df.drop(['coordinates'], axis=1, inplace=True)"
   ]
  },
  {
   "cell_type": "markdown",
   "metadata": {},
   "source": [
    "## Extra features: tweets"
   ]
  },
  {
   "cell_type": "markdown",
   "metadata": {},
   "source": [
    "* Extract tags embeded in the tweet:"
   ]
  },
  {
   "cell_type": "code",
   "execution_count": 10,
   "metadata": {},
   "outputs": [
    {
     "data": {
      "text/plain": [
       "'Salute to all the #real #Artist that make #ONYXCON POSSIBLE ‼️ #popularArts #Film #ComicBooks #Gaming #HipHop… https://t.co/vFtdbfXvMn'"
      ]
     },
     "execution_count": 10,
     "metadata": {},
     "output_type": "execute_result"
    }
   ],
   "source": [
    "tweets_df.text[0]"
   ]
  },
  {
   "cell_type": "code",
   "execution_count": 11,
   "metadata": {},
   "outputs": [],
   "source": [
    "tag_regex = re.compile(r'#[\\w]+')\n",
    "def get_tags(text, regex=tag_regex):\n",
    "    tags = regex.findall(text)\n",
    "    return [k.replace('#', '') for k in tags]"
   ]
  },
  {
   "cell_type": "code",
   "execution_count": 12,
   "metadata": {},
   "outputs": [],
   "source": [
    "tweets_df['tags'] = tweets_df.text.apply(get_tags, args = (tag_regex,))"
   ]
  },
  {
   "cell_type": "code",
   "execution_count": 13,
   "metadata": {},
   "outputs": [],
   "source": [
    "def clean_tags(text, tags):\n",
    "    # Eliminate tags from the text\n",
    "    for tag in tags:\n",
    "        text = re.sub(' +', ' ', text.replace('#' + tag, '').replace('\\n', ' ') \\\n",
    "                      .replace('\\r', '').replace(' ― ', '').replace(' …', ''))\n",
    "    \n",
    "    return text.strip()     # Clean up"
   ]
  },
  {
   "cell_type": "code",
   "execution_count": 14,
   "metadata": {},
   "outputs": [
    {
     "data": {
      "text/plain": [
       "'Salute to all the that make POSSIBLE ‼️ https://t.co/vFtdbfXvMn'"
      ]
     },
     "execution_count": 14,
     "metadata": {},
     "output_type": "execute_result"
    }
   ],
   "source": [
    "tweets_df['text'] = tweets_df[['text', 'tags']].apply(lambda x: clean_tags(*x), axis=1)\n",
    "tweets_df['text'][0]        # Verify updates..."
   ]
  },
  {
   "cell_type": "markdown",
   "metadata": {},
   "source": [
    "* Retweets"
   ]
  },
  {
   "cell_type": "code",
   "execution_count": 15,
   "metadata": {},
   "outputs": [],
   "source": [
    "retweet_regex = re.compile(r'RT\\s@[\\w]+:')\n",
    "def is_retweet(text, regex=retweet_regex):\n",
    "    retweet = regex.findall(text)\n",
    "    is_retweet = False\n",
    "    author = ''\n",
    "    if retweet:\n",
    "        text = text.replace(retweet[0], '').strip()\n",
    "        is_retweet = True\n",
    "        author = retweet[0].replace('RT @', '').replace(':', '')\n",
    "    return is_retweet, author, text"
   ]
  },
  {
   "cell_type": "code",
   "execution_count": 16,
   "metadata": {},
   "outputs": [],
   "source": [
    "is_retweet, authors, text = zip(*tweets_df.text.apply(is_retweet, args = (retweet_regex,)))"
   ]
  },
  {
   "cell_type": "code",
   "execution_count": 17,
   "metadata": {},
   "outputs": [],
   "source": [
    "tweets_df['is_retweet'], tweets_df['retweet_author'], tweets_df['text'] = [is_retweet, authors, text]"
   ]
  },
  {
   "cell_type": "code",
   "execution_count": 18,
   "metadata": {},
   "outputs": [
    {
     "data": {
      "text/html": [
       "<div>\n",
       "<style scoped>\n",
       "    .dataframe tbody tr th:only-of-type {\n",
       "        vertical-align: middle;\n",
       "    }\n",
       "\n",
       "    .dataframe tbody tr th {\n",
       "        vertical-align: top;\n",
       "    }\n",
       "\n",
       "    .dataframe thead th {\n",
       "        text-align: right;\n",
       "    }\n",
       "</style>\n",
       "<table border=\"1\" class=\"dataframe\">\n",
       "  <thead>\n",
       "    <tr style=\"text-align: right;\">\n",
       "      <th></th>\n",
       "      <th>screen_name</th>\n",
       "      <th>location</th>\n",
       "      <th>id</th>\n",
       "      <th>source</th>\n",
       "      <th>favorite_count</th>\n",
       "      <th>favorited</th>\n",
       "      <th>lang</th>\n",
       "      <th>hashtags</th>\n",
       "      <th>created_at</th>\n",
       "      <th>text</th>\n",
       "      <th>tags</th>\n",
       "      <th>is_retweet</th>\n",
       "      <th>retweet_author</th>\n",
       "    </tr>\n",
       "  </thead>\n",
       "  <tbody>\n",
       "    <tr>\n",
       "      <th>0</th>\n",
       "      <td>ONYXCONtruth</td>\n",
       "      <td>ATL &amp; The Universe</td>\n",
       "      <td>446395993</td>\n",
       "      <td>Instagram</td>\n",
       "      <td>0</td>\n",
       "      <td>False</td>\n",
       "      <td>en</td>\n",
       "      <td>[{'text': 'real', 'indices': [18, 23]}, {'text...</td>\n",
       "      <td>2019-07-04 22:57:55</td>\n",
       "      <td>Salute to all the that make POSSIBLE ‼️ https:...</td>\n",
       "      <td>[real, Artist, ONYXCON, popularArts, Film, Com...</td>\n",
       "      <td>False</td>\n",
       "      <td></td>\n",
       "    </tr>\n",
       "    <tr>\n",
       "      <th>1</th>\n",
       "      <td>CassiniFrank</td>\n",
       "      <td>Vancouver, British Columbia</td>\n",
       "      <td>997922612255703040</td>\n",
       "      <td>Twitter for iPhone</td>\n",
       "      <td>0</td>\n",
       "      <td>False</td>\n",
       "      <td>en</td>\n",
       "      <td>[{'text': 'UK', 'indices': [47, 50]}, {'text':...</td>\n",
       "      <td>2019-07-04 22:57:47</td>\n",
       "      <td>Mighty chuffed to have our at ’s legendary @Fr...</td>\n",
       "      <td>[UK, Premiere, London, WestEnd, Fright]</td>\n",
       "      <td>True</td>\n",
       "      <td>volition_movie</td>\n",
       "    </tr>\n",
       "    <tr>\n",
       "      <th>2</th>\n",
       "      <td>afriwomencinema</td>\n",
       "      <td>unknown</td>\n",
       "      <td>29717530</td>\n",
       "      <td>Twitter Web Client</td>\n",
       "      <td>0</td>\n",
       "      <td>False</td>\n",
       "      <td>en</td>\n",
       "      <td>[{'text': 'Senegal', 'indices': [107, 115]}]</td>\n",
       "      <td>2019-07-04 22:57:42</td>\n",
       "      <td>FROM THE AFRICAN WOMEN IN CINEMA BLOG ARCHIVES...</td>\n",
       "      <td>[Senegal]</td>\n",
       "      <td>False</td>\n",
       "      <td></td>\n",
       "    </tr>\n",
       "  </tbody>\n",
       "</table>\n",
       "</div>"
      ],
      "text/plain": [
       "       screen_name                     location                  id  \\\n",
       "0     ONYXCONtruth           ATL & The Universe           446395993   \n",
       "1     CassiniFrank  Vancouver, British Columbia  997922612255703040   \n",
       "2  afriwomencinema                      unknown            29717530   \n",
       "\n",
       "               source  favorite_count  favorited lang  \\\n",
       "0           Instagram               0      False   en   \n",
       "1  Twitter for iPhone               0      False   en   \n",
       "2  Twitter Web Client               0      False   en   \n",
       "\n",
       "                                            hashtags          created_at  \\\n",
       "0  [{'text': 'real', 'indices': [18, 23]}, {'text... 2019-07-04 22:57:55   \n",
       "1  [{'text': 'UK', 'indices': [47, 50]}, {'text':... 2019-07-04 22:57:47   \n",
       "2       [{'text': 'Senegal', 'indices': [107, 115]}] 2019-07-04 22:57:42   \n",
       "\n",
       "                                                text  \\\n",
       "0  Salute to all the that make POSSIBLE ‼️ https:...   \n",
       "1  Mighty chuffed to have our at ’s legendary @Fr...   \n",
       "2  FROM THE AFRICAN WOMEN IN CINEMA BLOG ARCHIVES...   \n",
       "\n",
       "                                                tags  is_retweet  \\\n",
       "0  [real, Artist, ONYXCON, popularArts, Film, Com...       False   \n",
       "1            [UK, Premiere, London, WestEnd, Fright]        True   \n",
       "2                                          [Senegal]       False   \n",
       "\n",
       "   retweet_author  \n",
       "0                  \n",
       "1  volition_movie  \n",
       "2                  "
      ]
     },
     "execution_count": 18,
     "metadata": {},
     "output_type": "execute_result"
    }
   ],
   "source": [
    "tweets_df.head(3)"
   ]
  },
  {
   "cell_type": "markdown",
   "metadata": {},
   "source": [
    "* Number of words in the tweet"
   ]
  },
  {
   "cell_type": "code",
   "execution_count": 19,
   "metadata": {},
   "outputs": [],
   "source": [
    "tweets_df['n_words'] = tweets_df.text.apply(len)"
   ]
  },
  {
   "cell_type": "code",
   "execution_count": 20,
   "metadata": {},
   "outputs": [],
   "source": [
    "tweets_df['has_link'] = tweets_df.text.apply(lambda x: 'http' in x)"
   ]
  },
  {
   "cell_type": "code",
   "execution_count": 21,
   "metadata": {},
   "outputs": [],
   "source": [
    "emoji_regex = emoji.get_emoji_regexp()\n",
    "def capture_emojis(text):\n",
    "    emojis = emoji_regex.findall(text)\n",
    "    if emojis:\n",
    "        emoji_count = len(emojis)\n",
    "        for e in emojis:\n",
    "            text = text.replace(e, '')\n",
    "        text = text.strip()\n",
    "        emojis = ' '.join(emojis)\n",
    "    else:\n",
    "        emoji_count = 0\n",
    "        emojis = ''\n",
    "    \n",
    "    return emoji_count, emojis, text"
   ]
  },
  {
   "cell_type": "code",
   "execution_count": 22,
   "metadata": {},
   "outputs": [],
   "source": [
    "emoji_count, emojis, text = zip(*tweets_df.text.apply(capture_emojis))\n",
    "tweets_df['emoji_count'], tweets_df['emojis'], tweets_df['text'] = [emoji_count, emojis, text]"
   ]
  },
  {
   "cell_type": "code",
   "execution_count": 23,
   "metadata": {},
   "outputs": [
    {
     "data": {
      "text/html": [
       "<div>\n",
       "<style scoped>\n",
       "    .dataframe tbody tr th:only-of-type {\n",
       "        vertical-align: middle;\n",
       "    }\n",
       "\n",
       "    .dataframe tbody tr th {\n",
       "        vertical-align: top;\n",
       "    }\n",
       "\n",
       "    .dataframe thead th {\n",
       "        text-align: right;\n",
       "    }\n",
       "</style>\n",
       "<table border=\"1\" class=\"dataframe\">\n",
       "  <thead>\n",
       "    <tr style=\"text-align: right;\">\n",
       "      <th></th>\n",
       "      <th>screen_name</th>\n",
       "      <th>location</th>\n",
       "      <th>id</th>\n",
       "      <th>source</th>\n",
       "      <th>favorite_count</th>\n",
       "      <th>favorited</th>\n",
       "      <th>lang</th>\n",
       "      <th>hashtags</th>\n",
       "      <th>created_at</th>\n",
       "      <th>text</th>\n",
       "      <th>tags</th>\n",
       "      <th>is_retweet</th>\n",
       "      <th>retweet_author</th>\n",
       "      <th>n_words</th>\n",
       "      <th>has_link</th>\n",
       "      <th>emoji_count</th>\n",
       "      <th>emojis</th>\n",
       "    </tr>\n",
       "  </thead>\n",
       "  <tbody>\n",
       "    <tr>\n",
       "      <th>0</th>\n",
       "      <td>ONYXCONtruth</td>\n",
       "      <td>ATL &amp; The Universe</td>\n",
       "      <td>446395993</td>\n",
       "      <td>Instagram</td>\n",
       "      <td>0</td>\n",
       "      <td>False</td>\n",
       "      <td>en</td>\n",
       "      <td>[{'text': 'real', 'indices': [18, 23]}, {'text...</td>\n",
       "      <td>2019-07-04 22:57:55</td>\n",
       "      <td>Salute to all the that make POSSIBLE ️ https:/...</td>\n",
       "      <td>[real, Artist, ONYXCON, popularArts, Film, Com...</td>\n",
       "      <td>False</td>\n",
       "      <td></td>\n",
       "      <td>63</td>\n",
       "      <td>True</td>\n",
       "      <td>1</td>\n",
       "      <td>‼</td>\n",
       "    </tr>\n",
       "    <tr>\n",
       "      <th>1</th>\n",
       "      <td>CassiniFrank</td>\n",
       "      <td>Vancouver, British Columbia</td>\n",
       "      <td>997922612255703040</td>\n",
       "      <td>Twitter for iPhone</td>\n",
       "      <td>0</td>\n",
       "      <td>False</td>\n",
       "      <td>en</td>\n",
       "      <td>[{'text': 'UK', 'indices': [47, 50]}, {'text':...</td>\n",
       "      <td>2019-07-04 22:57:47</td>\n",
       "      <td>Mighty chuffed to have our at ’s legendary @Fr...</td>\n",
       "      <td>[UK, Premiere, London, WestEnd, Fright]</td>\n",
       "      <td>True</td>\n",
       "      <td>volition_movie</td>\n",
       "      <td>81</td>\n",
       "      <td>False</td>\n",
       "      <td>0</td>\n",
       "      <td></td>\n",
       "    </tr>\n",
       "    <tr>\n",
       "      <th>2</th>\n",
       "      <td>afriwomencinema</td>\n",
       "      <td>unknown</td>\n",
       "      <td>29717530</td>\n",
       "      <td>Twitter Web Client</td>\n",
       "      <td>0</td>\n",
       "      <td>False</td>\n",
       "      <td>en</td>\n",
       "      <td>[{'text': 'Senegal', 'indices': [107, 115]}]</td>\n",
       "      <td>2019-07-04 22:57:42</td>\n",
       "      <td>FROM THE AFRICAN WOMEN IN CINEMA BLOG ARCHIVES...</td>\n",
       "      <td>[Senegal]</td>\n",
       "      <td>False</td>\n",
       "      <td></td>\n",
       "      <td>130</td>\n",
       "      <td>True</td>\n",
       "      <td>0</td>\n",
       "      <td></td>\n",
       "    </tr>\n",
       "  </tbody>\n",
       "</table>\n",
       "</div>"
      ],
      "text/plain": [
       "       screen_name                     location                  id  \\\n",
       "0     ONYXCONtruth           ATL & The Universe           446395993   \n",
       "1     CassiniFrank  Vancouver, British Columbia  997922612255703040   \n",
       "2  afriwomencinema                      unknown            29717530   \n",
       "\n",
       "               source  favorite_count  favorited lang  \\\n",
       "0           Instagram               0      False   en   \n",
       "1  Twitter for iPhone               0      False   en   \n",
       "2  Twitter Web Client               0      False   en   \n",
       "\n",
       "                                            hashtags          created_at  \\\n",
       "0  [{'text': 'real', 'indices': [18, 23]}, {'text... 2019-07-04 22:57:55   \n",
       "1  [{'text': 'UK', 'indices': [47, 50]}, {'text':... 2019-07-04 22:57:47   \n",
       "2       [{'text': 'Senegal', 'indices': [107, 115]}] 2019-07-04 22:57:42   \n",
       "\n",
       "                                                text  \\\n",
       "0  Salute to all the that make POSSIBLE ️ https:/...   \n",
       "1  Mighty chuffed to have our at ’s legendary @Fr...   \n",
       "2  FROM THE AFRICAN WOMEN IN CINEMA BLOG ARCHIVES...   \n",
       "\n",
       "                                                tags  is_retweet  \\\n",
       "0  [real, Artist, ONYXCON, popularArts, Film, Com...       False   \n",
       "1            [UK, Premiere, London, WestEnd, Fright]        True   \n",
       "2                                          [Senegal]       False   \n",
       "\n",
       "   retweet_author  n_words  has_link  emoji_count emojis  \n",
       "0                       63      True            1      ‼  \n",
       "1  volition_movie       81     False            0         \n",
       "2                      130      True            0         "
      ]
     },
     "execution_count": 23,
     "metadata": {},
     "output_type": "execute_result"
    }
   ],
   "source": [
    "tweets_df.head(3)"
   ]
  },
  {
   "cell_type": "code",
   "execution_count": 24,
   "metadata": {},
   "outputs": [],
   "source": [
    "tweets_df.to_csv(PROCESSED_TWEETS, index=False)"
   ]
  },
  {
   "cell_type": "markdown",
   "metadata": {},
   "source": [
    "## Extra features: Users Info"
   ]
  },
  {
   "cell_type": "code",
   "execution_count": 25,
   "metadata": {},
   "outputs": [
    {
     "data": {
      "text/html": [
       "<div>\n",
       "<style scoped>\n",
       "    .dataframe tbody tr th:only-of-type {\n",
       "        vertical-align: middle;\n",
       "    }\n",
       "\n",
       "    .dataframe tbody tr th {\n",
       "        vertical-align: top;\n",
       "    }\n",
       "\n",
       "    .dataframe thead th {\n",
       "        text-align: right;\n",
       "    }\n",
       "</style>\n",
       "<table border=\"1\" class=\"dataframe\">\n",
       "  <thead>\n",
       "    <tr style=\"text-align: right;\">\n",
       "      <th></th>\n",
       "      <th>name</th>\n",
       "      <th>screen_name</th>\n",
       "      <th>id</th>\n",
       "      <th>lang</th>\n",
       "      <th>followers_count</th>\n",
       "      <th>location</th>\n",
       "      <th>created_at</th>\n",
       "      <th>statuses_count</th>\n",
       "      <th>friends_count</th>\n",
       "      <th>description</th>\n",
       "    </tr>\n",
       "  </thead>\n",
       "  <tbody>\n",
       "    <tr>\n",
       "      <th>0</th>\n",
       "      <td>mohd akmal</td>\n",
       "      <td>cipanoss</td>\n",
       "      <td>631924707</td>\n",
       "      <td>NaN</td>\n",
       "      <td>3</td>\n",
       "      <td>NaN</td>\n",
       "      <td>2012-07-10 09:43:19</td>\n",
       "      <td>1</td>\n",
       "      <td>53</td>\n",
       "      <td>b''</td>\n",
       "    </tr>\n",
       "    <tr>\n",
       "      <th>1</th>\n",
       "      <td>basset bourouro</td>\n",
       "      <td>bassetbourouro</td>\n",
       "      <td>2184098312</td>\n",
       "      <td>NaN</td>\n",
       "      <td>0</td>\n",
       "      <td>NaN</td>\n",
       "      <td>2013-11-09 10:56:00</td>\n",
       "      <td>2</td>\n",
       "      <td>7</td>\n",
       "      <td>b''</td>\n",
       "    </tr>\n",
       "    <tr>\n",
       "      <th>2</th>\n",
       "      <td>سعود</td>\n",
       "      <td>SAUD9969</td>\n",
       "      <td>597529653</td>\n",
       "      <td>NaN</td>\n",
       "      <td>168</td>\n",
       "      <td>NaN</td>\n",
       "      <td>2012-06-02 14:16:50</td>\n",
       "      <td>11</td>\n",
       "      <td>524</td>\n",
       "      <td>b'\\xd9\\x85\\xd8\\xba\\xd8\\xb1\\xd8\\xaf \\xd8\\xb3\\xd...</td>\n",
       "    </tr>\n",
       "  </tbody>\n",
       "</table>\n",
       "</div>"
      ],
      "text/plain": [
       "              name     screen_name          id  lang  followers_count  \\\n",
       "0       mohd akmal        cipanoss   631924707   NaN                3   \n",
       "1  basset bourouro  bassetbourouro  2184098312   NaN                0   \n",
       "2             سعود        SAUD9969   597529653   NaN              168   \n",
       "\n",
       "  location          created_at  statuses_count  friends_count  \\\n",
       "0      NaN 2012-07-10 09:43:19               1             53   \n",
       "1      NaN 2013-11-09 10:56:00               2              7   \n",
       "2      NaN 2012-06-02 14:16:50              11            524   \n",
       "\n",
       "                                         description  \n",
       "0                                                b''  \n",
       "1                                                b''  \n",
       "2  b'\\xd9\\x85\\xd8\\xba\\xd8\\xb1\\xd8\\xaf \\xd8\\xb3\\xd...  "
      ]
     },
     "execution_count": 25,
     "metadata": {},
     "output_type": "execute_result"
    }
   ],
   "source": [
    "users_df.head(3)"
   ]
  },
  {
   "cell_type": "code",
   "execution_count": 26,
   "metadata": {},
   "outputs": [
    {
     "name": "stdout",
     "output_type": "stream",
     "text": [
      "<class 'pandas.core.frame.DataFrame'>\n",
      "RangeIndex: 548 entries, 0 to 547\n",
      "Data columns (total 10 columns):\n",
      "name               548 non-null object\n",
      "screen_name        548 non-null object\n",
      "id                 548 non-null int64\n",
      "lang               0 non-null float64\n",
      "followers_count    548 non-null int64\n",
      "location           173 non-null object\n",
      "created_at         548 non-null datetime64[ns]\n",
      "statuses_count     548 non-null int64\n",
      "friends_count      548 non-null int64\n",
      "description        548 non-null object\n",
      "dtypes: datetime64[ns](1), float64(1), int64(4), object(4)\n",
      "memory usage: 42.9+ KB\n"
     ]
    }
   ],
   "source": [
    "users_df.info()"
   ]
  },
  {
   "cell_type": "code",
   "execution_count": null,
   "metadata": {},
   "outputs": [],
   "source": []
  }
 ],
 "metadata": {
  "kernelspec": {
   "display_name": "Python 3",
   "language": "python",
   "name": "python3"
  },
  "language_info": {
   "codemirror_mode": {
    "name": "ipython",
    "version": 3
   },
   "file_extension": ".py",
   "mimetype": "text/x-python",
   "name": "python",
   "nbconvert_exporter": "python",
   "pygments_lexer": "ipython3",
   "version": "3.7.3"
  }
 },
 "nbformat": 4,
 "nbformat_minor": 2
}
