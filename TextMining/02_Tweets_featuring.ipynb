{
 "cells": [
  {
   "cell_type": "markdown",
   "metadata": {},
   "source": [
    "# Tweets Featuring"
   ]
  },
  {
   "cell_type": "markdown",
   "metadata": {},
   "source": [
    "Loading the file capturing tweets, create some new features"
   ]
  },
  {
   "cell_type": "code",
   "execution_count": 1,
   "metadata": {},
   "outputs": [
    {
     "name": "stdout",
     "output_type": "stream",
     "text": [
      "CPython 3.7.3\n",
      "IPython 7.5.0\n",
      "\n",
      "numpy 1.16.4\n",
      "pandas 0.24.2\n",
      "\n",
      "compiler   : GCC 7.3.0\n",
      "system     : Linux\n",
      "release    : 5.0.0-19-generic\n",
      "machine    : x86_64\n",
      "processor  : x86_64\n",
      "CPU cores  : 8\n",
      "interpreter: 64bit\n",
      "Git hash   : c077a50bb88d22f95b9db6e256624c4701eb7011\n"
     ]
    }
   ],
   "source": [
    "%load_ext autoreload\n",
    "%autoreload 2\n",
    "%matplotlib inline\n",
    "%load_ext watermark\n",
    "%watermark -v -m -p numpy,pandas -g\n",
    "\n",
    "import re\n",
    "from tqdm import tqdm\n",
    "import yaml\n",
    "import pandas as pd\n",
    "import numpy as np\n",
    "import matplotlib.pyplot as plt\n",
    "import watermark\n",
    "import emoji"
   ]
  },
  {
   "cell_type": "markdown",
   "metadata": {},
   "source": [
    "### Constants\n",
    "\n",
    "Modify these values to update the config file, the query or the output file."
   ]
  },
  {
   "cell_type": "code",
   "execution_count": 2,
   "metadata": {},
   "outputs": [],
   "source": [
    "INPUT_FILE = \"tweets.csv\"\n",
    "OUTPUT_FILE = \"tweets-processed.csv\""
   ]
  },
  {
   "cell_type": "code",
   "execution_count": 3,
   "metadata": {},
   "outputs": [],
   "source": [
    "tweets_df = pd.read_csv(INPUT_FILE)"
   ]
  },
  {
   "cell_type": "code",
   "execution_count": 4,
   "metadata": {},
   "outputs": [
    {
     "data": {
      "text/html": [
       "<div>\n",
       "<style scoped>\n",
       "    .dataframe tbody tr th:only-of-type {\n",
       "        vertical-align: middle;\n",
       "    }\n",
       "\n",
       "    .dataframe tbody tr th {\n",
       "        vertical-align: top;\n",
       "    }\n",
       "\n",
       "    .dataframe thead th {\n",
       "        text-align: right;\n",
       "    }\n",
       "</style>\n",
       "<table border=\"1\" class=\"dataframe\">\n",
       "  <thead>\n",
       "    <tr style=\"text-align: right;\">\n",
       "      <th></th>\n",
       "      <th>screen_name</th>\n",
       "      <th>location</th>\n",
       "      <th>source</th>\n",
       "      <th>coordinates</th>\n",
       "      <th>favorite_count</th>\n",
       "      <th>favorited</th>\n",
       "      <th>lang</th>\n",
       "      <th>hashtags</th>\n",
       "      <th>created_at</th>\n",
       "      <th>text</th>\n",
       "    </tr>\n",
       "  </thead>\n",
       "  <tbody>\n",
       "    <tr>\n",
       "      <th>0</th>\n",
       "      <td>ccchapman3103</td>\n",
       "      <td>MN, AZ, TX, USA</td>\n",
       "      <td>Twitter Web Client</td>\n",
       "      <td>NaN</td>\n",
       "      <td>0</td>\n",
       "      <td>False</td>\n",
       "      <td>en</td>\n",
       "      <td>[{'text': 'Plato', 'indices': [70, 76]}, {'tex...</td>\n",
       "      <td>2019-07-02 07:50:54</td>\n",
       "      <td>RT @DaviesWriter: At the touch of a lover, eve...</td>\n",
       "    </tr>\n",
       "    <tr>\n",
       "      <th>1</th>\n",
       "      <td>DonRon777</td>\n",
       "      <td>NaN</td>\n",
       "      <td>Twitter Web App</td>\n",
       "      <td>NaN</td>\n",
       "      <td>0</td>\n",
       "      <td>False</td>\n",
       "      <td>en</td>\n",
       "      <td>[]</td>\n",
       "      <td>2019-07-02 07:48:36</td>\n",
       "      <td>RT @777Liquid: What do you think about the new...</td>\n",
       "    </tr>\n",
       "    <tr>\n",
       "      <th>2</th>\n",
       "      <td>lavenderlens</td>\n",
       "      <td>sightseeing at the cathedral💀</td>\n",
       "      <td>Twitter for iPhone</td>\n",
       "      <td>NaN</td>\n",
       "      <td>0</td>\n",
       "      <td>False</td>\n",
       "      <td>en</td>\n",
       "      <td>[{'text': 'sfx', 'indices': [89, 93]}, {'text'...</td>\n",
       "      <td>2019-07-02 07:47:27</td>\n",
       "      <td>RT @katesfxmakeup: Time to write a new blog bu...</td>\n",
       "    </tr>\n",
       "    <tr>\n",
       "      <th>3</th>\n",
       "      <td>AYoungNegus</td>\n",
       "      <td>Chicago</td>\n",
       "      <td>Twitter for iPhone</td>\n",
       "      <td>NaN</td>\n",
       "      <td>0</td>\n",
       "      <td>False</td>\n",
       "      <td>en</td>\n",
       "      <td>[{'text': 'blackdynamite', 'indices': [97, 111...</td>\n",
       "      <td>2019-07-02 07:45:22</td>\n",
       "      <td>RT @jaiganticstudio: One of the greatest scene...</td>\n",
       "    </tr>\n",
       "    <tr>\n",
       "      <th>4</th>\n",
       "      <td>EmpireDynamic</td>\n",
       "      <td>50 MILLION VIEWS MONTHLY</td>\n",
       "      <td>Twibble.io</td>\n",
       "      <td>NaN</td>\n",
       "      <td>0</td>\n",
       "      <td>False</td>\n",
       "      <td>en</td>\n",
       "      <td>[{'text': 'boxoffice', 'indices': [93, 103]}]</td>\n",
       "      <td>2019-07-02 07:45:11</td>\n",
       "      <td>Cineflix Acquires Global Rights to Israel-Iran...</td>\n",
       "    </tr>\n",
       "  </tbody>\n",
       "</table>\n",
       "</div>"
      ],
      "text/plain": [
       "     screen_name                       location              source  \\\n",
       "0  ccchapman3103                MN, AZ, TX, USA  Twitter Web Client   \n",
       "1      DonRon777                            NaN     Twitter Web App   \n",
       "2   lavenderlens  sightseeing at the cathedral💀  Twitter for iPhone   \n",
       "3    AYoungNegus                        Chicago  Twitter for iPhone   \n",
       "4  EmpireDynamic       50 MILLION VIEWS MONTHLY          Twibble.io   \n",
       "\n",
       "  coordinates  favorite_count  favorited lang  \\\n",
       "0         NaN               0      False   en   \n",
       "1         NaN               0      False   en   \n",
       "2         NaN               0      False   en   \n",
       "3         NaN               0      False   en   \n",
       "4         NaN               0      False   en   \n",
       "\n",
       "                                            hashtags           created_at  \\\n",
       "0  [{'text': 'Plato', 'indices': [70, 76]}, {'tex...  2019-07-02 07:50:54   \n",
       "1                                                 []  2019-07-02 07:48:36   \n",
       "2  [{'text': 'sfx', 'indices': [89, 93]}, {'text'...  2019-07-02 07:47:27   \n",
       "3  [{'text': 'blackdynamite', 'indices': [97, 111...  2019-07-02 07:45:22   \n",
       "4      [{'text': 'boxoffice', 'indices': [93, 103]}]  2019-07-02 07:45:11   \n",
       "\n",
       "                                                text  \n",
       "0  RT @DaviesWriter: At the touch of a lover, eve...  \n",
       "1  RT @777Liquid: What do you think about the new...  \n",
       "2  RT @katesfxmakeup: Time to write a new blog bu...  \n",
       "3  RT @jaiganticstudio: One of the greatest scene...  \n",
       "4  Cineflix Acquires Global Rights to Israel-Iran...  "
      ]
     },
     "execution_count": 4,
     "metadata": {},
     "output_type": "execute_result"
    }
   ],
   "source": [
    "tweets_df.head(5)"
   ]
  },
  {
   "cell_type": "code",
   "execution_count": 5,
   "metadata": {},
   "outputs": [
    {
     "name": "stdout",
     "output_type": "stream",
     "text": [
      "<class 'pandas.core.frame.DataFrame'>\n",
      "RangeIndex: 1000 entries, 0 to 999\n",
      "Data columns (total 10 columns):\n",
      "screen_name       1000 non-null object\n",
      "location          779 non-null object\n",
      "source            1000 non-null object\n",
      "coordinates       16 non-null object\n",
      "favorite_count    1000 non-null int64\n",
      "favorited         1000 non-null bool\n",
      "lang              1000 non-null object\n",
      "hashtags          1000 non-null object\n",
      "created_at        1000 non-null object\n",
      "text              1000 non-null object\n",
      "dtypes: bool(1), int64(1), object(8)\n",
      "memory usage: 71.4+ KB\n"
     ]
    }
   ],
   "source": [
    "tweets_df.info()"
   ]
  },
  {
   "cell_type": "code",
   "execution_count": 6,
   "metadata": {},
   "outputs": [
    {
     "data": {
      "text/html": [
       "<div>\n",
       "<style scoped>\n",
       "    .dataframe tbody tr th:only-of-type {\n",
       "        vertical-align: middle;\n",
       "    }\n",
       "\n",
       "    .dataframe tbody tr th {\n",
       "        vertical-align: top;\n",
       "    }\n",
       "\n",
       "    .dataframe thead th {\n",
       "        text-align: right;\n",
       "    }\n",
       "</style>\n",
       "<table border=\"1\" class=\"dataframe\">\n",
       "  <thead>\n",
       "    <tr style=\"text-align: right;\">\n",
       "      <th></th>\n",
       "      <th>favorite_count</th>\n",
       "    </tr>\n",
       "  </thead>\n",
       "  <tbody>\n",
       "    <tr>\n",
       "      <th>count</th>\n",
       "      <td>1000.000000</td>\n",
       "    </tr>\n",
       "    <tr>\n",
       "      <th>mean</th>\n",
       "      <td>0.792000</td>\n",
       "    </tr>\n",
       "    <tr>\n",
       "      <th>std</th>\n",
       "      <td>4.123559</td>\n",
       "    </tr>\n",
       "    <tr>\n",
       "      <th>min</th>\n",
       "      <td>0.000000</td>\n",
       "    </tr>\n",
       "    <tr>\n",
       "      <th>25%</th>\n",
       "      <td>0.000000</td>\n",
       "    </tr>\n",
       "    <tr>\n",
       "      <th>50%</th>\n",
       "      <td>0.000000</td>\n",
       "    </tr>\n",
       "    <tr>\n",
       "      <th>75%</th>\n",
       "      <td>0.000000</td>\n",
       "    </tr>\n",
       "    <tr>\n",
       "      <th>max</th>\n",
       "      <td>78.000000</td>\n",
       "    </tr>\n",
       "  </tbody>\n",
       "</table>\n",
       "</div>"
      ],
      "text/plain": [
       "       favorite_count\n",
       "count     1000.000000\n",
       "mean         0.792000\n",
       "std          4.123559\n",
       "min          0.000000\n",
       "25%          0.000000\n",
       "50%          0.000000\n",
       "75%          0.000000\n",
       "max         78.000000"
      ]
     },
     "execution_count": 6,
     "metadata": {},
     "output_type": "execute_result"
    }
   ],
   "source": [
    "tweets_df.describe()"
   ]
  },
  {
   "cell_type": "markdown",
   "metadata": {},
   "source": [
    "From previous information, location has a certain number of NaN which we can replace for the string 'unknown' and coordinates has very little information as it is mostly null values"
   ]
  },
  {
   "cell_type": "code",
   "execution_count": 7,
   "metadata": {},
   "outputs": [],
   "source": [
    "tweets_df['location'].fillna('unknown', inplace=True)"
   ]
  },
  {
   "cell_type": "code",
   "execution_count": 8,
   "metadata": {},
   "outputs": [
    {
     "name": "stdout",
     "output_type": "stream",
     "text": [
      "Kwnown coordinates: 1.6%\n"
     ]
    }
   ],
   "source": [
    "print('Kwnown coordinates: {}%'.format(100 * tweets_df.coordinates.count() / tweets_df.shape[0]))"
   ]
  },
  {
   "cell_type": "code",
   "execution_count": 9,
   "metadata": {},
   "outputs": [],
   "source": [
    "tweets_df.drop(['coordinates'], axis=1, inplace=True)"
   ]
  },
  {
   "cell_type": "markdown",
   "metadata": {},
   "source": [
    "## Create extra features"
   ]
  },
  {
   "cell_type": "markdown",
   "metadata": {},
   "source": [
    "* Extract tags embeded in the tweet:"
   ]
  },
  {
   "cell_type": "code",
   "execution_count": 10,
   "metadata": {},
   "outputs": [
    {
     "data": {
      "text/plain": [
       "'RT @DaviesWriter: At the touch of a lover, everyone becomes a poet.\\n― #Plato \\n\\n#poetry #amwriting #film #screenwriting #Hollywood #acting…'"
      ]
     },
     "execution_count": 10,
     "metadata": {},
     "output_type": "execute_result"
    }
   ],
   "source": [
    "tweets_df.text[0]"
   ]
  },
  {
   "cell_type": "code",
   "execution_count": 11,
   "metadata": {},
   "outputs": [],
   "source": [
    "tag_regex = re.compile(r'#[\\w]+')\n",
    "def get_tags(text, regex=tag_regex):\n",
    "    tags = regex.findall(text)\n",
    "    return [k.replace('#', '') for k in tags]"
   ]
  },
  {
   "cell_type": "code",
   "execution_count": 12,
   "metadata": {},
   "outputs": [],
   "source": [
    "tweets_df['tags'] = tweets_df.text.apply(get_tags, args = (tag_regex,))"
   ]
  },
  {
   "cell_type": "code",
   "execution_count": 13,
   "metadata": {},
   "outputs": [],
   "source": [
    "def clean_tags(text, tags):\n",
    "    # Eliminate tags from the text\n",
    "    for tag in tags:\n",
    "        text = re.sub(' +', ' ', text.replace('#' + tag, '').replace('\\n', ' ') \\\n",
    "                      .replace('\\r', '').replace(' ― ', '').replace(' …', ''))\n",
    "    \n",
    "    return text.strip()     # Clean up"
   ]
  },
  {
   "cell_type": "code",
   "execution_count": 14,
   "metadata": {},
   "outputs": [
    {
     "data": {
      "text/plain": [
       "'RT @DaviesWriter: At the touch of a lover, everyone becomes a poet.'"
      ]
     },
     "execution_count": 14,
     "metadata": {},
     "output_type": "execute_result"
    }
   ],
   "source": [
    "tweets_df['text'] = tweets_df[['text', 'tags']].apply(lambda x: clean_tags(*x), axis=1)\n",
    "tweets_df['text'][0]        # Verify updates..."
   ]
  },
  {
   "cell_type": "markdown",
   "metadata": {},
   "source": [
    "* Retweets"
   ]
  },
  {
   "cell_type": "code",
   "execution_count": 15,
   "metadata": {},
   "outputs": [],
   "source": [
    "retweet_regex = re.compile(r'RT\\s@[\\w]+:')\n",
    "def is_retweet(text, regex=retweet_regex):\n",
    "    retweet = regex.findall(text)\n",
    "    is_retweet = False\n",
    "    author = ''\n",
    "    if retweet:\n",
    "        text = text.replace(retweet[0], '').strip()\n",
    "        is_retweet = True\n",
    "        author = retweet[0].replace('RT @', '').replace(':', '')\n",
    "    return is_retweet, author, text"
   ]
  },
  {
   "cell_type": "code",
   "execution_count": 16,
   "metadata": {},
   "outputs": [],
   "source": [
    "is_retweet, authors, text = zip(*tweets_df.text.apply(is_retweet, args = (retweet_regex,)))"
   ]
  },
  {
   "cell_type": "code",
   "execution_count": 17,
   "metadata": {},
   "outputs": [],
   "source": [
    "tweets_df['is_retweet'], tweets_df['retweet_author'], tweets_df['text'] = [is_retweet, authors, text]"
   ]
  },
  {
   "cell_type": "code",
   "execution_count": 18,
   "metadata": {},
   "outputs": [
    {
     "data": {
      "text/html": [
       "<div>\n",
       "<style scoped>\n",
       "    .dataframe tbody tr th:only-of-type {\n",
       "        vertical-align: middle;\n",
       "    }\n",
       "\n",
       "    .dataframe tbody tr th {\n",
       "        vertical-align: top;\n",
       "    }\n",
       "\n",
       "    .dataframe thead th {\n",
       "        text-align: right;\n",
       "    }\n",
       "</style>\n",
       "<table border=\"1\" class=\"dataframe\">\n",
       "  <thead>\n",
       "    <tr style=\"text-align: right;\">\n",
       "      <th></th>\n",
       "      <th>screen_name</th>\n",
       "      <th>location</th>\n",
       "      <th>source</th>\n",
       "      <th>favorite_count</th>\n",
       "      <th>favorited</th>\n",
       "      <th>lang</th>\n",
       "      <th>hashtags</th>\n",
       "      <th>created_at</th>\n",
       "      <th>text</th>\n",
       "      <th>tags</th>\n",
       "      <th>is_retweet</th>\n",
       "      <th>retweet_author</th>\n",
       "    </tr>\n",
       "  </thead>\n",
       "  <tbody>\n",
       "    <tr>\n",
       "      <th>0</th>\n",
       "      <td>ccchapman3103</td>\n",
       "      <td>MN, AZ, TX, USA</td>\n",
       "      <td>Twitter Web Client</td>\n",
       "      <td>0</td>\n",
       "      <td>False</td>\n",
       "      <td>en</td>\n",
       "      <td>[{'text': 'Plato', 'indices': [70, 76]}, {'tex...</td>\n",
       "      <td>2019-07-02 07:50:54</td>\n",
       "      <td>At the touch of a lover, everyone becomes a poet.</td>\n",
       "      <td>[Plato, poetry, amwriting, film, screenwriting...</td>\n",
       "      <td>True</td>\n",
       "      <td>DaviesWriter</td>\n",
       "    </tr>\n",
       "    <tr>\n",
       "      <th>1</th>\n",
       "      <td>DonRon777</td>\n",
       "      <td>unknown</td>\n",
       "      <td>Twitter Web App</td>\n",
       "      <td>0</td>\n",
       "      <td>False</td>\n",
       "      <td>en</td>\n",
       "      <td>[]</td>\n",
       "      <td>2019-07-02 07:48:36</td>\n",
       "      <td>What do you think about the new series, \"The C...</td>\n",
       "      <td>[]</td>\n",
       "      <td>True</td>\n",
       "      <td>777Liquid</td>\n",
       "    </tr>\n",
       "    <tr>\n",
       "      <th>2</th>\n",
       "      <td>lavenderlens</td>\n",
       "      <td>sightseeing at the cathedral💀</td>\n",
       "      <td>Twitter for iPhone</td>\n",
       "      <td>0</td>\n",
       "      <td>False</td>\n",
       "      <td>en</td>\n",
       "      <td>[{'text': 'sfx', 'indices': [89, 93]}, {'text'...</td>\n",
       "      <td>2019-07-02 07:47:27</td>\n",
       "      <td>Time to write a new blog but too many interest...</td>\n",
       "      <td>[sfx, makeup, artist, film, workshop, immersiv...</td>\n",
       "      <td>True</td>\n",
       "      <td>katesfxmakeup</td>\n",
       "    </tr>\n",
       "  </tbody>\n",
       "</table>\n",
       "</div>"
      ],
      "text/plain": [
       "     screen_name                       location              source  \\\n",
       "0  ccchapman3103                MN, AZ, TX, USA  Twitter Web Client   \n",
       "1      DonRon777                        unknown     Twitter Web App   \n",
       "2   lavenderlens  sightseeing at the cathedral💀  Twitter for iPhone   \n",
       "\n",
       "   favorite_count  favorited lang  \\\n",
       "0               0      False   en   \n",
       "1               0      False   en   \n",
       "2               0      False   en   \n",
       "\n",
       "                                            hashtags           created_at  \\\n",
       "0  [{'text': 'Plato', 'indices': [70, 76]}, {'tex...  2019-07-02 07:50:54   \n",
       "1                                                 []  2019-07-02 07:48:36   \n",
       "2  [{'text': 'sfx', 'indices': [89, 93]}, {'text'...  2019-07-02 07:47:27   \n",
       "\n",
       "                                                text  \\\n",
       "0  At the touch of a lover, everyone becomes a poet.   \n",
       "1  What do you think about the new series, \"The C...   \n",
       "2  Time to write a new blog but too many interest...   \n",
       "\n",
       "                                                tags  is_retweet  \\\n",
       "0  [Plato, poetry, amwriting, film, screenwriting...        True   \n",
       "1                                                 []        True   \n",
       "2  [sfx, makeup, artist, film, workshop, immersiv...        True   \n",
       "\n",
       "  retweet_author  \n",
       "0   DaviesWriter  \n",
       "1      777Liquid  \n",
       "2  katesfxmakeup  "
      ]
     },
     "execution_count": 18,
     "metadata": {},
     "output_type": "execute_result"
    }
   ],
   "source": [
    "tweets_df.head(3)"
   ]
  },
  {
   "cell_type": "markdown",
   "metadata": {},
   "source": [
    "* Number of words in the tweet"
   ]
  },
  {
   "cell_type": "code",
   "execution_count": 19,
   "metadata": {},
   "outputs": [],
   "source": [
    "tweets_df['n_words'] = tweets_df.text.apply(len)"
   ]
  },
  {
   "cell_type": "code",
   "execution_count": 20,
   "metadata": {},
   "outputs": [],
   "source": [
    "tweets_df['has_link'] = tweets_df.text.apply(lambda x: 'http' in x)"
   ]
  },
  {
   "cell_type": "code",
   "execution_count": 21,
   "metadata": {},
   "outputs": [],
   "source": [
    "emoji_regex = emoji.get_emoji_regexp()\n",
    "def capture_emojis(text):\n",
    "    emojis = emoji_regex.findall(text)\n",
    "    if emojis:\n",
    "        emoji_count = len(emojis)\n",
    "        for e in emojis:\n",
    "            text = text.replace(e, '')\n",
    "        text = text.strip()\n",
    "        emojis = ' '.join(emojis)\n",
    "    else:\n",
    "        emoji_count = 0\n",
    "        emojis = ''\n",
    "    \n",
    "    return emoji_count, emojis, text"
   ]
  },
  {
   "cell_type": "code",
   "execution_count": 22,
   "metadata": {},
   "outputs": [],
   "source": [
    "emoji_count, emojis, text = zip(*tweets_df.text.apply(capture_emojis))\n",
    "tweets_df['emoji_count'], tweets_df['emojis'], tweets_df['text'] = [emoji_count, emojis, text]"
   ]
  },
  {
   "cell_type": "code",
   "execution_count": 23,
   "metadata": {},
   "outputs": [
    {
     "data": {
      "text/html": [
       "<div>\n",
       "<style scoped>\n",
       "    .dataframe tbody tr th:only-of-type {\n",
       "        vertical-align: middle;\n",
       "    }\n",
       "\n",
       "    .dataframe tbody tr th {\n",
       "        vertical-align: top;\n",
       "    }\n",
       "\n",
       "    .dataframe thead th {\n",
       "        text-align: right;\n",
       "    }\n",
       "</style>\n",
       "<table border=\"1\" class=\"dataframe\">\n",
       "  <thead>\n",
       "    <tr style=\"text-align: right;\">\n",
       "      <th></th>\n",
       "      <th>screen_name</th>\n",
       "      <th>location</th>\n",
       "      <th>source</th>\n",
       "      <th>favorite_count</th>\n",
       "      <th>favorited</th>\n",
       "      <th>lang</th>\n",
       "      <th>hashtags</th>\n",
       "      <th>created_at</th>\n",
       "      <th>text</th>\n",
       "      <th>tags</th>\n",
       "      <th>is_retweet</th>\n",
       "      <th>retweet_author</th>\n",
       "      <th>n_words</th>\n",
       "      <th>has_link</th>\n",
       "      <th>emoji_count</th>\n",
       "      <th>emojis</th>\n",
       "    </tr>\n",
       "  </thead>\n",
       "  <tbody>\n",
       "    <tr>\n",
       "      <th>0</th>\n",
       "      <td>ccchapman3103</td>\n",
       "      <td>MN, AZ, TX, USA</td>\n",
       "      <td>Twitter Web Client</td>\n",
       "      <td>0</td>\n",
       "      <td>False</td>\n",
       "      <td>en</td>\n",
       "      <td>[{'text': 'Plato', 'indices': [70, 76]}, {'tex...</td>\n",
       "      <td>2019-07-02 07:50:54</td>\n",
       "      <td>At the touch of a lover, everyone becomes a poet.</td>\n",
       "      <td>[Plato, poetry, amwriting, film, screenwriting...</td>\n",
       "      <td>True</td>\n",
       "      <td>DaviesWriter</td>\n",
       "      <td>49</td>\n",
       "      <td>False</td>\n",
       "      <td>0</td>\n",
       "      <td></td>\n",
       "    </tr>\n",
       "    <tr>\n",
       "      <th>1</th>\n",
       "      <td>DonRon777</td>\n",
       "      <td>unknown</td>\n",
       "      <td>Twitter Web App</td>\n",
       "      <td>0</td>\n",
       "      <td>False</td>\n",
       "      <td>en</td>\n",
       "      <td>[]</td>\n",
       "      <td>2019-07-02 07:48:36</td>\n",
       "      <td>What do you think about the new series, \"The C...</td>\n",
       "      <td>[]</td>\n",
       "      <td>True</td>\n",
       "      <td>777Liquid</td>\n",
       "      <td>124</td>\n",
       "      <td>False</td>\n",
       "      <td>0</td>\n",
       "      <td></td>\n",
       "    </tr>\n",
       "    <tr>\n",
       "      <th>2</th>\n",
       "      <td>lavenderlens</td>\n",
       "      <td>sightseeing at the cathedral💀</td>\n",
       "      <td>Twitter for iPhone</td>\n",
       "      <td>0</td>\n",
       "      <td>False</td>\n",
       "      <td>en</td>\n",
       "      <td>[{'text': 'sfx', 'indices': [89, 93]}, {'text'...</td>\n",
       "      <td>2019-07-02 07:47:27</td>\n",
       "      <td>Time to write a new blog but too many interest...</td>\n",
       "      <td>[sfx, makeup, artist, film, workshop, immersiv...</td>\n",
       "      <td>True</td>\n",
       "      <td>katesfxmakeup</td>\n",
       "      <td>69</td>\n",
       "      <td>False</td>\n",
       "      <td>0</td>\n",
       "      <td></td>\n",
       "    </tr>\n",
       "    <tr>\n",
       "      <th>3</th>\n",
       "      <td>AYoungNegus</td>\n",
       "      <td>Chicago</td>\n",
       "      <td>Twitter for iPhone</td>\n",
       "      <td>0</td>\n",
       "      <td>False</td>\n",
       "      <td>en</td>\n",
       "      <td>[{'text': 'blackdynamite', 'indices': [97, 111...</td>\n",
       "      <td>2019-07-02 07:45:22</td>\n",
       "      <td>One of the greatest scenes from Black Dynamite...</td>\n",
       "      <td>[blackdynamite, comedy, classic, blaxploit]</td>\n",
       "      <td>True</td>\n",
       "      <td>jaiganticstudio</td>\n",
       "      <td>74</td>\n",
       "      <td>False</td>\n",
       "      <td>1</td>\n",
       "      <td>😂</td>\n",
       "    </tr>\n",
       "    <tr>\n",
       "      <th>4</th>\n",
       "      <td>EmpireDynamic</td>\n",
       "      <td>50 MILLION VIEWS MONTHLY</td>\n",
       "      <td>Twibble.io</td>\n",
       "      <td>0</td>\n",
       "      <td>False</td>\n",
       "      <td>en</td>\n",
       "      <td>[{'text': 'boxoffice', 'indices': [93, 103]}]</td>\n",
       "      <td>2019-07-02 07:45:11</td>\n",
       "      <td>Cineflix Acquires Global Rights to Israel-Iran...</td>\n",
       "      <td>[boxoffice]</td>\n",
       "      <td>False</td>\n",
       "      <td></td>\n",
       "      <td>116</td>\n",
       "      <td>True</td>\n",
       "      <td>0</td>\n",
       "      <td></td>\n",
       "    </tr>\n",
       "  </tbody>\n",
       "</table>\n",
       "</div>"
      ],
      "text/plain": [
       "     screen_name                       location              source  \\\n",
       "0  ccchapman3103                MN, AZ, TX, USA  Twitter Web Client   \n",
       "1      DonRon777                        unknown     Twitter Web App   \n",
       "2   lavenderlens  sightseeing at the cathedral💀  Twitter for iPhone   \n",
       "3    AYoungNegus                        Chicago  Twitter for iPhone   \n",
       "4  EmpireDynamic       50 MILLION VIEWS MONTHLY          Twibble.io   \n",
       "\n",
       "   favorite_count  favorited lang  \\\n",
       "0               0      False   en   \n",
       "1               0      False   en   \n",
       "2               0      False   en   \n",
       "3               0      False   en   \n",
       "4               0      False   en   \n",
       "\n",
       "                                            hashtags           created_at  \\\n",
       "0  [{'text': 'Plato', 'indices': [70, 76]}, {'tex...  2019-07-02 07:50:54   \n",
       "1                                                 []  2019-07-02 07:48:36   \n",
       "2  [{'text': 'sfx', 'indices': [89, 93]}, {'text'...  2019-07-02 07:47:27   \n",
       "3  [{'text': 'blackdynamite', 'indices': [97, 111...  2019-07-02 07:45:22   \n",
       "4      [{'text': 'boxoffice', 'indices': [93, 103]}]  2019-07-02 07:45:11   \n",
       "\n",
       "                                                text  \\\n",
       "0  At the touch of a lover, everyone becomes a poet.   \n",
       "1  What do you think about the new series, \"The C...   \n",
       "2  Time to write a new blog but too many interest...   \n",
       "3  One of the greatest scenes from Black Dynamite...   \n",
       "4  Cineflix Acquires Global Rights to Israel-Iran...   \n",
       "\n",
       "                                                tags  is_retweet  \\\n",
       "0  [Plato, poetry, amwriting, film, screenwriting...        True   \n",
       "1                                                 []        True   \n",
       "2  [sfx, makeup, artist, film, workshop, immersiv...        True   \n",
       "3        [blackdynamite, comedy, classic, blaxploit]        True   \n",
       "4                                        [boxoffice]       False   \n",
       "\n",
       "    retweet_author  n_words  has_link  emoji_count emojis  \n",
       "0     DaviesWriter       49     False            0         \n",
       "1        777Liquid      124     False            0         \n",
       "2    katesfxmakeup       69     False            0         \n",
       "3  jaiganticstudio       74     False            1      😂  \n",
       "4                       116      True            0         "
      ]
     },
     "execution_count": 23,
     "metadata": {},
     "output_type": "execute_result"
    }
   ],
   "source": [
    "tweets_df.head()"
   ]
  },
  {
   "cell_type": "code",
   "execution_count": null,
   "metadata": {},
   "outputs": [],
   "source": []
  }
 ],
 "metadata": {
  "kernelspec": {
   "display_name": "Python 3",
   "language": "python",
   "name": "python3"
  },
  "language_info": {
   "codemirror_mode": {
    "name": "ipython",
    "version": 3
   },
   "file_extension": ".py",
   "mimetype": "text/x-python",
   "name": "python",
   "nbconvert_exporter": "python",
   "pygments_lexer": "ipython3",
   "version": "3.7.3"
  }
 },
 "nbformat": 4,
 "nbformat_minor": 2
}
