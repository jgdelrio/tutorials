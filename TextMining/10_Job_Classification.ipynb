{
 "cells": [
  {
   "cell_type": "markdown",
   "metadata": {},
   "source": [
    "# Job Classification"
   ]
  },
  {
   "cell_type": "markdown",
   "metadata": {},
   "source": [
    "Using the reuters data available in NLTK we are going to analyse the classification of the documents in the dataset"
   ]
  },
  {
   "cell_type": "code",
   "execution_count": 14,
   "metadata": {
    "scrolled": true
   },
   "outputs": [
    {
     "name": "stdout",
     "output_type": "stream",
     "text": [
      "The autoreload extension is already loaded. To reload it, use:\n",
      "  %reload_ext autoreload\n",
      "The watermark extension is already loaded. To reload it, use:\n",
      "  %reload_ext watermark\n",
      "CPython 3.7.3\n",
      "IPython 7.5.0\n",
      "\n",
      "numpy 1.16.4\n",
      "pandas 0.24.2\n",
      "pandas_profiling unknown\n",
      "\n",
      "compiler   : GCC 7.3.0\n",
      "system     : Linux\n",
      "release    : 5.0.0-20-generic\n",
      "machine    : x86_64\n",
      "processor  : x86_64\n",
      "CPU cores  : 8\n",
      "interpreter: 64bit\n",
      "Git hash   : b5dcfe47511466a5e7f75687d379685f6d79b8d1\n"
     ]
    }
   ],
   "source": [
    "%load_ext autoreload\n",
    "%autoreload 2\n",
    "%matplotlib inline\n",
    "%load_ext watermark\n",
    "%watermark -v -m -p numpy,pandas,pandas_profiling -g\n",
    "\n",
    "import re\n",
    "from tqdm import tqdm\n",
    "import tarfile\n",
    "import yaml\n",
    "import watermark\n",
    "import numpy as np\n",
    "import pandas as pd\n",
    "import pandas_profiling\n",
    "from pandas.plotting import register_matplotlib_converters    # for pandas_profiling\n",
    "\n",
    "register_matplotlib_converters()                              # for pandas_profiling"
   ]
  },
  {
   "cell_type": "markdown",
   "metadata": {},
   "source": [
    "### Constants"
   ]
  },
  {
   "cell_type": "code",
   "execution_count": 16,
   "metadata": {},
   "outputs": [],
   "source": [
    "Output_DATA = \"../data/processed/reuters.csv\""
   ]
  },
  {
   "cell_type": "markdown",
   "metadata": {},
   "source": [
    "### Load Data"
   ]
  },
  {
   "cell_type": "code",
   "execution_count": 17,
   "metadata": {},
   "outputs": [
    {
     "name": "stderr",
     "output_type": "stream",
     "text": [
      "[nltk_data] Downloading package reuters to /home/greg/nltk_data...\n",
      "[nltk_data]   Package reuters is already up-to-date!\n"
     ]
    },
    {
     "data": {
      "text/plain": [
       "True"
      ]
     },
     "execution_count": 17,
     "metadata": {},
     "output_type": "execute_result"
    }
   ],
   "source": [
    "import nltk\n",
    "nltk.download('reuters')"
   ]
  },
  {
   "cell_type": "code",
   "execution_count": 30,
   "metadata": {},
   "outputs": [],
   "source": [
    "from nltk.corpus import reuters\n",
    "\n",
    " \n",
    "def collection_stats():\n",
    "    print('Reuters data:')\n",
    "    # List of documents\n",
    "    documents = reuters.fileids()\n",
    "    print(str(len(documents)) + \"\\t documents\");\n",
    " \n",
    "    train_docs = list(filter(lambda doc: doc.startswith(\"train\"), documents));\n",
    "    print(str(len(train_docs)) + \"\\t total train documents\");\n",
    " \n",
    "    test_docs = list(filter(lambda doc: doc.startswith(\"test\"),\n",
    "                       documents));\n",
    "    print(str(len(test_docs)) + \"\\t total test documents\");\n",
    " \n",
    "    # List of categories\n",
    "    categories = reuters.categories();\n",
    "    print(str(len(categories)) + \"\\t categories\\n\");\n",
    " \n",
    "    # Documents in a category\n",
    "    category_docs = reuters.fileids(\"acq\");\n",
    " \n",
    "    # Words for a document\n",
    "    document_id = category_docs[0]\n",
    "    document_words = reuters.words(category_docs[0]);\n",
    "    print('Words for doc 0:')\n",
    "    print(document_words[:50]);  \n",
    " \n",
    "    # Raw document\n",
    "    print('\\nRaw doc:')\n",
    "    print(reuters.raw(document_id)[:150]);"
   ]
  },
  {
   "cell_type": "code",
   "execution_count": 31,
   "metadata": {},
   "outputs": [
    {
     "name": "stdout",
     "output_type": "stream",
     "text": [
      "Reuters data:\n",
      "10788\t documents\n",
      "7769\t total train documents\n",
      "3019\t total test documents\n",
      "90\t categories\n",
      "\n",
      "Words for doc 0:\n",
      "['SUMITOMO', 'BANK', 'AIMS', 'AT', 'QUICK', 'RECOVERY', 'FROM', 'MERGER', 'Sumitomo', 'Bank', 'Ltd', '&', 'lt', ';', 'SUMI', '.', 'T', '>', 'is', 'certain', 'to', 'lose', 'its', 'status', 'as', 'Japan', \"'\", 's', 'most', 'profitable', 'bank', 'as', 'a', 'result', 'of', 'its', 'merger', 'with', 'the', 'Heiwa', 'Sogo', 'Bank', ',', 'financial', 'analysts', 'said', '.', 'Osaka', '-', 'based']\n",
      "\n",
      "Raw doc:\n",
      "SUMITOMO BANK AIMS AT QUICK RECOVERY FROM MERGER\n",
      "  Sumitomo Bank Ltd &lt;SUMI.T> is certain to\n",
      "  lose its status as Japan's most profitable bank as a \n"
     ]
    }
   ],
   "source": [
    "collection_stats()"
   ]
  },
  {
   "cell_type": "code",
   "execution_count": 32,
   "metadata": {
    "scrolled": false
   },
   "outputs": [],
   "source": [
    "# pandas_profiling.ProfileReport(df)"
   ]
  },
  {
   "cell_type": "markdown",
   "metadata": {},
   "source": [
    "From previous information, location has a certain number of NaN which we can replace for the string 'unknown'. <br>\n",
    "Coordinates on the other side is almost completely null values."
   ]
  },
  {
   "cell_type": "code",
   "execution_count": null,
   "metadata": {},
   "outputs": [],
   "source": []
  }
 ],
 "metadata": {
  "kernelspec": {
   "display_name": "Python 3",
   "language": "python",
   "name": "python3"
  },
  "language_info": {
   "codemirror_mode": {
    "name": "ipython",
    "version": 3
   },
   "file_extension": ".py",
   "mimetype": "text/x-python",
   "name": "python",
   "nbconvert_exporter": "python",
   "pygments_lexer": "ipython3",
   "version": "3.7.3"
  }
 },
 "nbformat": 4,
 "nbformat_minor": 2
}
