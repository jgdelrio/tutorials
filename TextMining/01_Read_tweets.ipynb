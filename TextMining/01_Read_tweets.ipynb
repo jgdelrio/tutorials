{
 "cells": [
  {
   "cell_type": "markdown",
   "metadata": {},
   "source": [
    "# Twitter API"
   ]
  },
  {
   "cell_type": "markdown",
   "metadata": {},
   "source": [
    "Typical ways of collecting text and non-text data from the web are:\n",
    "* APIs\n",
    "* HTML scraping\n",
    "\n",
    "The following example shows how to retrieve tweets from Twitter using its API and store it on a pandas dataframe."
   ]
  },
  {
   "cell_type": "code",
   "execution_count": 1,
   "metadata": {},
   "outputs": [
    {
     "name": "stdout",
     "output_type": "stream",
     "text": [
      "CPython 3.7.3\n",
      "IPython 7.5.0\n",
      "\n",
      "numpy 1.16.4\n",
      "pandas 0.24.2\n",
      "tweepy 3.7.0\n",
      "\n",
      "compiler   : GCC 7.3.0\n",
      "system     : Linux\n",
      "release    : 5.0.0-20-generic\n",
      "machine    : x86_64\n",
      "processor  : x86_64\n",
      "CPU cores  : 8\n",
      "interpreter: 64bit\n",
      "Git hash   : 2ec62ff2d5859aa808b0193896bb385d2d25cf11\n"
     ]
    }
   ],
   "source": [
    "%load_ext autoreload\n",
    "%autoreload 2\n",
    "%matplotlib inline\n",
    "%load_ext watermark\n",
    "%watermark -v -m -p numpy,pandas,tweepy -g\n",
    "\n",
    "import os\n",
    "import csv\n",
    "import random\n",
    "import yaml\n",
    "import tweepy as tw\n",
    "from tqdm import tqdm, trange\n",
    "from time import sleep\n",
    "import numpy as np\n",
    "import pandas as pd\n",
    "import matplotlib.pyplot as plt\n",
    "import watermark"
   ]
  },
  {
   "cell_type": "markdown",
   "metadata": {},
   "source": [
    "### Constants\n",
    "\n",
    "Modify these values to update the config file, the query or the output file."
   ]
  },
  {
   "cell_type": "code",
   "execution_count": 2,
   "metadata": {},
   "outputs": [],
   "source": [
    "CONFIG_FILE = \"twitter_config.yml\"\n",
    "SEARCH_WORDS = \"#film\"\n",
    "DATE_SINCE = \"2019-06-25\"\n",
    "LIMIT = 1000\n",
    "OUTPUT_FILE = \"tweets.csv\"\n",
    "TWITER_USERS_FILE = 'twitter_users.csv'"
   ]
  },
  {
   "cell_type": "markdown",
   "metadata": {},
   "source": [
    "### How to get Twitter Consumer key and Consumer secret key\n",
    "\n",
    "1. Go to https://dev.twitter.com/apps/new and log in, if necessary\n",
    "2. Apply for new Developer account\n",
    "3. Supply the necessary required fields, accept the Terms Of Service, and solve the CAPTCHA.\n",
    "4. Submit the form\n",
    "5. Create new App\n",
    "6. Go to the tab of Keys and tokens\n",
    "6. Copy the consumer key (API key) and consumer secret from the screen into our application."
   ]
  },
  {
   "cell_type": "markdown",
   "metadata": {},
   "source": [
    "Load twitter keys from the yaml file. The file contains the following variables:\n",
    "* access_token\n",
    "* access_token_secret\n",
    "* consumer_api_key\n",
    "* consumer_api_secret_key"
   ]
  },
  {
   "cell_type": "code",
   "execution_count": 3,
   "metadata": {},
   "outputs": [],
   "source": [
    "with open(CONFIG_FILE, 'r') as f:\n",
    "    twitter_keys = yaml.safe_load(f)"
   ]
  },
  {
   "cell_type": "markdown",
   "metadata": {},
   "source": [
    "Load twitter tokens to authenticate the access:"
   ]
  },
  {
   "cell_type": "code",
   "execution_count": 4,
   "metadata": {},
   "outputs": [],
   "source": [
    "auth = tw.OAuthHandler(twitter_keys['consumer_api_key'], twitter_keys['consumer_api_secret_key'])\n",
    "auth.set_access_token(twitter_keys['access_token'], twitter_keys['access_token_secret'])\n",
    "\n",
    "api = tw.API(auth, api_root='/1.1', wait_on_rate_limit=True)"
   ]
  },
  {
   "cell_type": "markdown",
   "metadata": {},
   "source": [
    "Get public tweets by using a specific search and limited to a number of tweets. <br>\n",
    "Note: The Twitter Search API returns at max 3200 of a users' most recent tweets."
   ]
  },
  {
   "cell_type": "code",
   "execution_count": 5,
   "metadata": {},
   "outputs": [],
   "source": [
    "def max_limit(limit):\n",
    "    if limit <= 3200:\n",
    "        return limit\n",
    "    else:\n",
    "        return 3200"
   ]
  },
  {
   "cell_type": "code",
   "execution_count": 40,
   "metadata": {},
   "outputs": [],
   "source": [
    "public_tweets = api.home_timeline(count=50)"
   ]
  },
  {
   "cell_type": "markdown",
   "metadata": {},
   "source": [
    "Define some functions to retrieve a search or tweets from the timeline:\n",
    "Note that the search may wait until there is not rate limit due to 'wait_on_rate_limit'."
   ]
  },
  {
   "cell_type": "code",
   "execution_count": 7,
   "metadata": {},
   "outputs": [],
   "source": [
    "def tweet_query(api, query, lang=\"en\", limit=LIMIT):\n",
    "    tweets = []\n",
    "    for tweet in tqdm(tw.Cursor(api.search, q=query, lang=lang).items(max_limit(limit))):\n",
    "        tweets.append(tweet)\n",
    "\n",
    "    return tweets"
   ]
  },
  {
   "cell_type": "markdown",
   "metadata": {},
   "source": [
    "Similarly to retrieve from the timeline...."
   ]
  },
  {
   "cell_type": "code",
   "execution_count": 8,
   "metadata": {},
   "outputs": [],
   "source": [
    "def getTimeline(api, limit=LIMIT, resultType=\"recent\"):\n",
    "    lim = max_limit(limit)\n",
    "    try:\n",
    "        tweets = []\n",
    "        tweetsObj = tw.Cursor(api.home_timeline,\n",
    "                result_type=resultType,\n",
    "                exclude_replies = False).items(lim)\n",
    "\n",
    "        pBar = tqdm(tweetsObj, ascii=True, total=lim, desc=\"Getting Tweets!\")\n",
    "        for cnt, tweet in enumerate(pBar):\n",
    "            pBar.update(1)\n",
    "            if not cnt < lim:\n",
    "                break\n",
    "            tweets.append(tweet)\n",
    "    except tw.error.TweepError as et:\n",
    "        print(et)\n",
    "    except Exception as e:\n",
    "        print(e)\n",
    "    return tweets "
   ]
  },
  {
   "cell_type": "markdown",
   "metadata": {},
   "source": [
    "Extract some attributes from the tweets:"
   ]
  },
  {
   "cell_type": "code",
   "execution_count": 9,
   "metadata": {},
   "outputs": [],
   "source": [
    "tweet_columns = [\"screen_name\", \"location\", \"id\", \"source\", \"coordinates\", \"favorite_count\", \n",
    "                 \"favorited\", \"lang\", \"hashtags\", \"created_at\", \"text\"]\n",
    "def get_tweet_info(tweet_list):\n",
    "    return [[tweet.user.screen_name, tweet.user.location, tweet.user.id, tweet.source, \n",
    "             tweet.coordinates, tweet.favorite_count, tweet.favorited, tweet.lang,  \n",
    "             tweet.entities['hashtags'], tweet.created_at, tweet.text] \n",
    "            for tweet in tweet_list]"
   ]
  },
  {
   "cell_type": "markdown",
   "metadata": {},
   "source": [
    "### Retrieve User Info"
   ]
  },
  {
   "cell_type": "code",
   "execution_count": 10,
   "metadata": {},
   "outputs": [],
   "source": [
    "def make_random_id_numbers(list_size, max_id=3379537611):\n",
    "    \"\"\"\n",
    "    Return a list of random ID's \n",
    "    \"\"\"\n",
    "    random_integers = [random.randint(0, max_id) for id in range(0, list_size)]\n",
    "    return random_integers"
   ]
  },
  {
   "cell_type": "code",
   "execution_count": 11,
   "metadata": {},
   "outputs": [],
   "source": [
    "database_of_users = []"
   ]
  },
  {
   "cell_type": "code",
   "execution_count": 12,
   "metadata": {
    "scrolled": true
   },
   "outputs": [
    {
     "name": "stderr",
     "output_type": "stream",
     "text": [
      "100%|██████████| 9/9 [10:12<00:00, 100.91s/it]\n"
     ]
    }
   ],
   "source": [
    "for sample_number in trange(1, 10):\n",
    "    numbers = make_random_id_numbers(100)\n",
    "    \n",
    "    for n in numbers:\n",
    "        try:\n",
    "            sample_user_info = api.get_user(n)\n",
    "            database_of_users.append(sample_user_info)\n",
    "        except tw.TweepError as err:\n",
    "            # 50 -> user not found\n",
    "            # 63 -> user suspended\n",
    "            if err.api_code not in [50, 63]:\n",
    "                breakpoint()\n",
    "                pass\n",
    "    sleep(10)\n",
    "    "
   ]
  },
  {
   "cell_type": "markdown",
   "metadata": {},
   "source": [
    "Write the user information to the file..."
   ]
  },
  {
   "cell_type": "code",
   "execution_count": 23,
   "metadata": {},
   "outputs": [],
   "source": [
    "create_header = False if os.path.exists(TWITER_USERS_FILE) else True\n",
    "\n",
    "with open(TWITER_USERS_FILE, 'a') as f:\n",
    "    csv_writer = csv.writer(f)\n",
    "    columns = ['name', 'screen_name', 'id', 'lang', 'followers_count', 'location', 'created_at', \n",
    "              'statuses_count', 'friends_count', 'description']\n",
    "    if create_header:\n",
    "        csv_writer.writerow(columns)\n",
    "    \n",
    "    for user in database_of_users:\n",
    "        if hasattr(user, 'status'):\n",
    "            csv_writer.writerow([*[getattr(user, k) for k in columns[:-1]], \n",
    "                                 user.description.encode('utf-8')])"
   ]
  },
  {
   "cell_type": "code",
   "execution_count": 53,
   "metadata": {},
   "outputs": [
    {
     "ename": "TweepError",
     "evalue": "[{'code': 50, 'message': 'User not found.'}]",
     "output_type": "error",
     "traceback": [
      "\u001b[0;31m---------------------------------------------------------------------------\u001b[0m",
      "\u001b[0;31mTweepError\u001b[0m                                Traceback (most recent call last)",
      "\u001b[0;32m<ipython-input-53-88e3248bc6e7>\u001b[0m in \u001b[0;36m<module>\u001b[0;34m\u001b[0m\n\u001b[1;32m      1\u001b[0m \u001b[0;31m# [k.user.created_at for k in public_tweets]\u001b[0m\u001b[0;34m\u001b[0m\u001b[0;34m\u001b[0m\u001b[0;34m\u001b[0m\u001b[0m\n\u001b[1;32m      2\u001b[0m \u001b[0mn\u001b[0m \u001b[0;34m=\u001b[0m \u001b[0;36m3400200000\u001b[0m\u001b[0;34m\u001b[0m\u001b[0;34m\u001b[0m\u001b[0m\n\u001b[0;32m----> 3\u001b[0;31m \u001b[0mapi\u001b[0m\u001b[0;34m.\u001b[0m\u001b[0mget_user\u001b[0m\u001b[0;34m(\u001b[0m\u001b[0mn\u001b[0m\u001b[0;34m)\u001b[0m\u001b[0;34m\u001b[0m\u001b[0;34m\u001b[0m\u001b[0m\n\u001b[0m",
      "\u001b[0;32m~/anaconda3/envs/dev37/lib/python3.7/site-packages/tweepy/binder.py\u001b[0m in \u001b[0;36m_call\u001b[0;34m(*args, **kwargs)\u001b[0m\n\u001b[1;32m    248\u001b[0m             \u001b[0;32mreturn\u001b[0m \u001b[0mmethod\u001b[0m\u001b[0;34m\u001b[0m\u001b[0;34m\u001b[0m\u001b[0m\n\u001b[1;32m    249\u001b[0m         \u001b[0;32melse\u001b[0m\u001b[0;34m:\u001b[0m\u001b[0;34m\u001b[0m\u001b[0;34m\u001b[0m\u001b[0m\n\u001b[0;32m--> 250\u001b[0;31m             \u001b[0;32mreturn\u001b[0m \u001b[0mmethod\u001b[0m\u001b[0;34m.\u001b[0m\u001b[0mexecute\u001b[0m\u001b[0;34m(\u001b[0m\u001b[0;34m)\u001b[0m\u001b[0;34m\u001b[0m\u001b[0;34m\u001b[0m\u001b[0m\n\u001b[0m\u001b[1;32m    251\u001b[0m \u001b[0;34m\u001b[0m\u001b[0m\n\u001b[1;32m    252\u001b[0m     \u001b[0;31m# Set pagination mode\u001b[0m\u001b[0;34m\u001b[0m\u001b[0;34m\u001b[0m\u001b[0;34m\u001b[0m\u001b[0m\n",
      "\u001b[0;32m~/anaconda3/envs/dev37/lib/python3.7/site-packages/tweepy/binder.py\u001b[0m in \u001b[0;36mexecute\u001b[0;34m(self)\u001b[0m\n\u001b[1;32m    232\u001b[0m                     \u001b[0;32mraise\u001b[0m \u001b[0mRateLimitError\u001b[0m\u001b[0;34m(\u001b[0m\u001b[0merror_msg\u001b[0m\u001b[0;34m,\u001b[0m \u001b[0mresp\u001b[0m\u001b[0;34m)\u001b[0m\u001b[0;34m\u001b[0m\u001b[0;34m\u001b[0m\u001b[0m\n\u001b[1;32m    233\u001b[0m                 \u001b[0;32melse\u001b[0m\u001b[0;34m:\u001b[0m\u001b[0;34m\u001b[0m\u001b[0;34m\u001b[0m\u001b[0m\n\u001b[0;32m--> 234\u001b[0;31m                     \u001b[0;32mraise\u001b[0m \u001b[0mTweepError\u001b[0m\u001b[0;34m(\u001b[0m\u001b[0merror_msg\u001b[0m\u001b[0;34m,\u001b[0m \u001b[0mresp\u001b[0m\u001b[0;34m,\u001b[0m \u001b[0mapi_code\u001b[0m\u001b[0;34m=\u001b[0m\u001b[0mapi_error_code\u001b[0m\u001b[0;34m)\u001b[0m\u001b[0;34m\u001b[0m\u001b[0;34m\u001b[0m\u001b[0m\n\u001b[0m\u001b[1;32m    235\u001b[0m \u001b[0;34m\u001b[0m\u001b[0m\n\u001b[1;32m    236\u001b[0m             \u001b[0;31m# Parse the response payload\u001b[0m\u001b[0;34m\u001b[0m\u001b[0;34m\u001b[0m\u001b[0;34m\u001b[0m\u001b[0m\n",
      "\u001b[0;31mTweepError\u001b[0m: [{'code': 50, 'message': 'User not found.'}]"
     ]
    }
   ],
   "source": [
    "# [k.user.created_at for k in public_tweets]\n",
    "n = 3400000000\n",
    "api.get_user(n)"
   ]
  },
  {
   "cell_type": "code",
   "execution_count": 22,
   "metadata": {},
   "outputs": [
    {
     "data": {
      "text/plain": [
       "179"
      ]
     },
     "execution_count": 22,
     "metadata": {},
     "output_type": "execute_result"
    }
   ],
   "source": [
    "sum(s)"
   ]
  },
  {
   "cell_type": "markdown",
   "metadata": {},
   "source": [
    "### Create a Pandas Dataframe From A List of Tweet Data\n",
    "Once you have a list of items that you wish to work with, you can create a pandas dataframe."
   ]
  },
  {
   "cell_type": "code",
   "execution_count": 10,
   "metadata": {},
   "outputs": [
    {
     "name": "stderr",
     "output_type": "stream",
     "text": [
      "1000it [00:29, 33.66it/s]\n"
     ]
    }
   ],
   "source": [
    "tweet_search_results = tweet_query(api, SEARCH_WORDS)"
   ]
  },
  {
   "cell_type": "code",
   "execution_count": 11,
   "metadata": {},
   "outputs": [],
   "source": [
    "tweet_df = pd.DataFrame(data=get_tweet_info(tweet_search_results), \n",
    "                        columns=tweet_columns)"
   ]
  },
  {
   "cell_type": "code",
   "execution_count": 12,
   "metadata": {},
   "outputs": [],
   "source": [
    "header = False if os.path.exists(OUTPUT_FILE) else True\n",
    "    \n",
    "with open(OUTPUT_FILE, 'a') as f:\n",
    "    tweet_df.to_csv(f, header=header, index=False)"
   ]
  },
  {
   "cell_type": "code",
   "execution_count": 13,
   "metadata": {},
   "outputs": [
    {
     "data": {
      "text/html": [
       "<div>\n",
       "<style scoped>\n",
       "    .dataframe tbody tr th:only-of-type {\n",
       "        vertical-align: middle;\n",
       "    }\n",
       "\n",
       "    .dataframe tbody tr th {\n",
       "        vertical-align: top;\n",
       "    }\n",
       "\n",
       "    .dataframe thead th {\n",
       "        text-align: right;\n",
       "    }\n",
       "</style>\n",
       "<table border=\"1\" class=\"dataframe\">\n",
       "  <thead>\n",
       "    <tr style=\"text-align: right;\">\n",
       "      <th></th>\n",
       "      <th>screen_name</th>\n",
       "      <th>location</th>\n",
       "      <th>source</th>\n",
       "      <th>coordinates</th>\n",
       "      <th>favorite_count</th>\n",
       "      <th>favorited</th>\n",
       "      <th>lang</th>\n",
       "      <th>hashtags</th>\n",
       "      <th>created_at</th>\n",
       "      <th>text</th>\n",
       "    </tr>\n",
       "  </thead>\n",
       "  <tbody>\n",
       "    <tr>\n",
       "      <th>0</th>\n",
       "      <td>ccchapman3103</td>\n",
       "      <td>MN, AZ, TX, USA</td>\n",
       "      <td>Twitter Web Client</td>\n",
       "      <td>None</td>\n",
       "      <td>0</td>\n",
       "      <td>False</td>\n",
       "      <td>en</td>\n",
       "      <td>[{'text': 'Plato', 'indices': [70, 76]}, {'tex...</td>\n",
       "      <td>2019-07-02 07:50:54</td>\n",
       "      <td>RT @DaviesWriter: At the touch of a lover, eve...</td>\n",
       "    </tr>\n",
       "    <tr>\n",
       "      <th>1</th>\n",
       "      <td>DonRon777</td>\n",
       "      <td></td>\n",
       "      <td>Twitter Web App</td>\n",
       "      <td>None</td>\n",
       "      <td>0</td>\n",
       "      <td>False</td>\n",
       "      <td>en</td>\n",
       "      <td>[]</td>\n",
       "      <td>2019-07-02 07:48:36</td>\n",
       "      <td>RT @777Liquid: What do you think about the new...</td>\n",
       "    </tr>\n",
       "    <tr>\n",
       "      <th>2</th>\n",
       "      <td>lavenderlens</td>\n",
       "      <td>sightseeing at the cathedral💀</td>\n",
       "      <td>Twitter for iPhone</td>\n",
       "      <td>None</td>\n",
       "      <td>0</td>\n",
       "      <td>False</td>\n",
       "      <td>en</td>\n",
       "      <td>[{'text': 'sfx', 'indices': [89, 93]}, {'text'...</td>\n",
       "      <td>2019-07-02 07:47:27</td>\n",
       "      <td>RT @katesfxmakeup: Time to write a new blog bu...</td>\n",
       "    </tr>\n",
       "    <tr>\n",
       "      <th>3</th>\n",
       "      <td>AYoungNegus</td>\n",
       "      <td>Chicago</td>\n",
       "      <td>Twitter for iPhone</td>\n",
       "      <td>None</td>\n",
       "      <td>0</td>\n",
       "      <td>False</td>\n",
       "      <td>en</td>\n",
       "      <td>[{'text': 'blackdynamite', 'indices': [97, 111...</td>\n",
       "      <td>2019-07-02 07:45:22</td>\n",
       "      <td>RT @jaiganticstudio: One of the greatest scene...</td>\n",
       "    </tr>\n",
       "    <tr>\n",
       "      <th>4</th>\n",
       "      <td>EmpireDynamic</td>\n",
       "      <td>50 MILLION VIEWS MONTHLY</td>\n",
       "      <td>Twibble.io</td>\n",
       "      <td>None</td>\n",
       "      <td>0</td>\n",
       "      <td>False</td>\n",
       "      <td>en</td>\n",
       "      <td>[{'text': 'boxoffice', 'indices': [93, 103]}]</td>\n",
       "      <td>2019-07-02 07:45:11</td>\n",
       "      <td>Cineflix Acquires Global Rights to Israel-Iran...</td>\n",
       "    </tr>\n",
       "  </tbody>\n",
       "</table>\n",
       "</div>"
      ],
      "text/plain": [
       "     screen_name                       location              source  \\\n",
       "0  ccchapman3103                MN, AZ, TX, USA  Twitter Web Client   \n",
       "1      DonRon777                                    Twitter Web App   \n",
       "2   lavenderlens  sightseeing at the cathedral💀  Twitter for iPhone   \n",
       "3    AYoungNegus                        Chicago  Twitter for iPhone   \n",
       "4  EmpireDynamic       50 MILLION VIEWS MONTHLY          Twibble.io   \n",
       "\n",
       "  coordinates  favorite_count  favorited lang  \\\n",
       "0        None               0      False   en   \n",
       "1        None               0      False   en   \n",
       "2        None               0      False   en   \n",
       "3        None               0      False   en   \n",
       "4        None               0      False   en   \n",
       "\n",
       "                                            hashtags          created_at  \\\n",
       "0  [{'text': 'Plato', 'indices': [70, 76]}, {'tex... 2019-07-02 07:50:54   \n",
       "1                                                 [] 2019-07-02 07:48:36   \n",
       "2  [{'text': 'sfx', 'indices': [89, 93]}, {'text'... 2019-07-02 07:47:27   \n",
       "3  [{'text': 'blackdynamite', 'indices': [97, 111... 2019-07-02 07:45:22   \n",
       "4      [{'text': 'boxoffice', 'indices': [93, 103]}] 2019-07-02 07:45:11   \n",
       "\n",
       "                                                text  \n",
       "0  RT @DaviesWriter: At the touch of a lover, eve...  \n",
       "1  RT @777Liquid: What do you think about the new...  \n",
       "2  RT @katesfxmakeup: Time to write a new blog bu...  \n",
       "3  RT @jaiganticstudio: One of the greatest scene...  \n",
       "4  Cineflix Acquires Global Rights to Israel-Iran...  "
      ]
     },
     "execution_count": 13,
     "metadata": {},
     "output_type": "execute_result"
    }
   ],
   "source": [
    "tweet_df.head(5)"
   ]
  }
 ],
 "metadata": {
  "kernelspec": {
   "display_name": "Python 3",
   "language": "python",
   "name": "python3"
  },
  "language_info": {
   "codemirror_mode": {
    "name": "ipython",
    "version": 3
   },
   "file_extension": ".py",
   "mimetype": "text/x-python",
   "name": "python",
   "nbconvert_exporter": "python",
   "pygments_lexer": "ipython3",
   "version": "3.7.3"
  }
 },
 "nbformat": 4,
 "nbformat_minor": 2
}
