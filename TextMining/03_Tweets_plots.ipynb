{
 "cells": [
  {
   "cell_type": "markdown",
   "metadata": {},
   "source": [
    "# Tweets & User Info Plots"
   ]
  },
  {
   "cell_type": "markdown",
   "metadata": {},
   "source": [
    "Loading previous data and create plots"
   ]
  },
  {
   "cell_type": "code",
   "execution_count": 1,
   "metadata": {},
   "outputs": [
    {
     "name": "stdout",
     "output_type": "stream",
     "text": [
      "CPython 3.7.3\n",
      "IPython 7.6.1\n",
      "\n",
      "numpy 1.16.4\n",
      "pandas 0.24.2\n",
      "\n",
      "compiler   : MSC v.1900 64 bit (AMD64)\n",
      "system     : Windows\n",
      "release    : 7\n",
      "machine    : AMD64\n",
      "processor  : Intel64 Family 6 Model 78 Stepping 3, GenuineIntel\n",
      "CPU cores  : 4\n",
      "interpreter: 64bit\n",
      "Git hash   : b15a3f632e9233ec78c35a8cbe1da876e727bfc5\n"
     ]
    }
   ],
   "source": [
    "%load_ext autoreload\n",
    "%autoreload 2\n",
    "%matplotlib inline\n",
    "%load_ext watermark\n",
    "%watermark -v -m -p numpy,pandas -g\n",
    "\n",
    "import re\n",
    "from tqdm import tqdm\n",
    "import yaml\n",
    "import pandas as pd\n",
    "import numpy as np\n",
    "import watermark\n",
    "import matplotlib.pyplot as plt\n",
    "import seaborn as sns"
   ]
  },
  {
   "cell_type": "markdown",
   "metadata": {},
   "source": [
    "### Constants\n",
    "\n",
    "Modify these values to update the config file, the query or the output file."
   ]
  },
  {
   "cell_type": "code",
   "execution_count": 2,
   "metadata": {},
   "outputs": [],
   "source": [
    "TWEETS_FILE = \"tweets-processed.csv\"\n",
    "TWITTER_USERS = \"twitter_users.csv\""
   ]
  },
  {
   "cell_type": "code",
   "execution_count": 3,
   "metadata": {},
   "outputs": [],
   "source": [
    "tweets_df = pd.read_csv(TWEETS_FILE, parse_dates=['created_at'])\n",
    "users_df = pd.read_csv(TWITTER_USERS, parse_dates=['created_at'])"
   ]
  },
  {
   "cell_type": "code",
   "execution_count": 4,
   "metadata": {},
   "outputs": [
    {
     "data": {
      "text/html": [
       "<div>\n",
       "<style scoped>\n",
       "    .dataframe tbody tr th:only-of-type {\n",
       "        vertical-align: middle;\n",
       "    }\n",
       "\n",
       "    .dataframe tbody tr th {\n",
       "        vertical-align: top;\n",
       "    }\n",
       "\n",
       "    .dataframe thead th {\n",
       "        text-align: right;\n",
       "    }\n",
       "</style>\n",
       "<table border=\"1\" class=\"dataframe\">\n",
       "  <thead>\n",
       "    <tr style=\"text-align: right;\">\n",
       "      <th></th>\n",
       "      <th>screen_name</th>\n",
       "      <th>location</th>\n",
       "      <th>id</th>\n",
       "      <th>source</th>\n",
       "      <th>favorite_count</th>\n",
       "      <th>favorited</th>\n",
       "      <th>lang</th>\n",
       "      <th>hashtags</th>\n",
       "      <th>created_at</th>\n",
       "      <th>text</th>\n",
       "      <th>tags</th>\n",
       "      <th>is_retweet</th>\n",
       "      <th>retweet_author</th>\n",
       "      <th>n_words</th>\n",
       "      <th>has_link</th>\n",
       "      <th>emoji_count</th>\n",
       "      <th>emojis</th>\n",
       "    </tr>\n",
       "  </thead>\n",
       "  <tbody>\n",
       "    <tr>\n",
       "      <th>0</th>\n",
       "      <td>ONYXCONtruth</td>\n",
       "      <td>ATL &amp; The Universe</td>\n",
       "      <td>446395993</td>\n",
       "      <td>Instagram</td>\n",
       "      <td>0</td>\n",
       "      <td>False</td>\n",
       "      <td>en</td>\n",
       "      <td>[{'text': 'real', 'indices': [18, 23]}, {'text...</td>\n",
       "      <td>2019-07-04 22:57:55</td>\n",
       "      <td>Salute to all the that make POSSIBLE ️ https:/...</td>\n",
       "      <td>['real', 'Artist', 'ONYXCON', 'popularArts', '...</td>\n",
       "      <td>False</td>\n",
       "      <td>NaN</td>\n",
       "      <td>63</td>\n",
       "      <td>True</td>\n",
       "      <td>1</td>\n",
       "      <td>‼</td>\n",
       "    </tr>\n",
       "    <tr>\n",
       "      <th>1</th>\n",
       "      <td>CassiniFrank</td>\n",
       "      <td>Vancouver, British Columbia</td>\n",
       "      <td>997922612255703040</td>\n",
       "      <td>Twitter for iPhone</td>\n",
       "      <td>0</td>\n",
       "      <td>False</td>\n",
       "      <td>en</td>\n",
       "      <td>[{'text': 'UK', 'indices': [47, 50]}, {'text':...</td>\n",
       "      <td>2019-07-04 22:57:47</td>\n",
       "      <td>Mighty chuffed to have our at ’s legendary @Fr...</td>\n",
       "      <td>['UK', 'Premiere', 'London', 'WestEnd', 'Fright']</td>\n",
       "      <td>True</td>\n",
       "      <td>volition_movie</td>\n",
       "      <td>81</td>\n",
       "      <td>False</td>\n",
       "      <td>0</td>\n",
       "      <td>NaN</td>\n",
       "    </tr>\n",
       "    <tr>\n",
       "      <th>2</th>\n",
       "      <td>afriwomencinema</td>\n",
       "      <td>unknown</td>\n",
       "      <td>29717530</td>\n",
       "      <td>Twitter Web Client</td>\n",
       "      <td>0</td>\n",
       "      <td>False</td>\n",
       "      <td>en</td>\n",
       "      <td>[{'text': 'Senegal', 'indices': [107, 115]}]</td>\n",
       "      <td>2019-07-04 22:57:42</td>\n",
       "      <td>FROM THE AFRICAN WOMEN IN CINEMA BLOG ARCHIVES...</td>\n",
       "      <td>['Senegal']</td>\n",
       "      <td>False</td>\n",
       "      <td>NaN</td>\n",
       "      <td>130</td>\n",
       "      <td>True</td>\n",
       "      <td>0</td>\n",
       "      <td>NaN</td>\n",
       "    </tr>\n",
       "  </tbody>\n",
       "</table>\n",
       "</div>"
      ],
      "text/plain": [
       "       screen_name                     location                  id  \\\n",
       "0     ONYXCONtruth           ATL & The Universe           446395993   \n",
       "1     CassiniFrank  Vancouver, British Columbia  997922612255703040   \n",
       "2  afriwomencinema                      unknown            29717530   \n",
       "\n",
       "               source  favorite_count  favorited lang  \\\n",
       "0           Instagram               0      False   en   \n",
       "1  Twitter for iPhone               0      False   en   \n",
       "2  Twitter Web Client               0      False   en   \n",
       "\n",
       "                                            hashtags          created_at  \\\n",
       "0  [{'text': 'real', 'indices': [18, 23]}, {'text... 2019-07-04 22:57:55   \n",
       "1  [{'text': 'UK', 'indices': [47, 50]}, {'text':... 2019-07-04 22:57:47   \n",
       "2       [{'text': 'Senegal', 'indices': [107, 115]}] 2019-07-04 22:57:42   \n",
       "\n",
       "                                                text  \\\n",
       "0  Salute to all the that make POSSIBLE ️ https:/...   \n",
       "1  Mighty chuffed to have our at ’s legendary @Fr...   \n",
       "2  FROM THE AFRICAN WOMEN IN CINEMA BLOG ARCHIVES...   \n",
       "\n",
       "                                                tags  is_retweet  \\\n",
       "0  ['real', 'Artist', 'ONYXCON', 'popularArts', '...       False   \n",
       "1  ['UK', 'Premiere', 'London', 'WestEnd', 'Fright']        True   \n",
       "2                                        ['Senegal']       False   \n",
       "\n",
       "   retweet_author  n_words  has_link  emoji_count emojis  \n",
       "0             NaN       63      True            1      ‼  \n",
       "1  volition_movie       81     False            0    NaN  \n",
       "2             NaN      130      True            0    NaN  "
      ]
     },
     "execution_count": 4,
     "metadata": {},
     "output_type": "execute_result"
    }
   ],
   "source": [
    "tweets_df.head(3)"
   ]
  },
  {
   "cell_type": "code",
   "execution_count": 5,
   "metadata": {},
   "outputs": [
    {
     "data": {
      "text/html": [
       "<div>\n",
       "<style scoped>\n",
       "    .dataframe tbody tr th:only-of-type {\n",
       "        vertical-align: middle;\n",
       "    }\n",
       "\n",
       "    .dataframe tbody tr th {\n",
       "        vertical-align: top;\n",
       "    }\n",
       "\n",
       "    .dataframe thead th {\n",
       "        text-align: right;\n",
       "    }\n",
       "</style>\n",
       "<table border=\"1\" class=\"dataframe\">\n",
       "  <thead>\n",
       "    <tr style=\"text-align: right;\">\n",
       "      <th></th>\n",
       "      <th>name</th>\n",
       "      <th>screen_name</th>\n",
       "      <th>id</th>\n",
       "      <th>lang</th>\n",
       "      <th>followers_count</th>\n",
       "      <th>location</th>\n",
       "      <th>created_at</th>\n",
       "      <th>statuses_count</th>\n",
       "      <th>friends_count</th>\n",
       "      <th>description</th>\n",
       "    </tr>\n",
       "  </thead>\n",
       "  <tbody>\n",
       "    <tr>\n",
       "      <th>0</th>\n",
       "      <td>mohd akmal</td>\n",
       "      <td>cipanoss</td>\n",
       "      <td>631924707</td>\n",
       "      <td>NaN</td>\n",
       "      <td>3</td>\n",
       "      <td>NaN</td>\n",
       "      <td>2012-07-10 09:43:19</td>\n",
       "      <td>1</td>\n",
       "      <td>53</td>\n",
       "      <td>b''</td>\n",
       "    </tr>\n",
       "    <tr>\n",
       "      <th>1</th>\n",
       "      <td>basset bourouro</td>\n",
       "      <td>bassetbourouro</td>\n",
       "      <td>2184098312</td>\n",
       "      <td>NaN</td>\n",
       "      <td>0</td>\n",
       "      <td>NaN</td>\n",
       "      <td>2013-11-09 10:56:00</td>\n",
       "      <td>2</td>\n",
       "      <td>7</td>\n",
       "      <td>b''</td>\n",
       "    </tr>\n",
       "    <tr>\n",
       "      <th>2</th>\n",
       "      <td>سعود</td>\n",
       "      <td>SAUD9969</td>\n",
       "      <td>597529653</td>\n",
       "      <td>NaN</td>\n",
       "      <td>168</td>\n",
       "      <td>NaN</td>\n",
       "      <td>2012-06-02 14:16:50</td>\n",
       "      <td>11</td>\n",
       "      <td>524</td>\n",
       "      <td>b'\\xd9\\x85\\xd8\\xba\\xd8\\xb1\\xd8\\xaf \\xd8\\xb3\\xd...</td>\n",
       "    </tr>\n",
       "  </tbody>\n",
       "</table>\n",
       "</div>"
      ],
      "text/plain": [
       "              name     screen_name          id  lang  followers_count  \\\n",
       "0       mohd akmal        cipanoss   631924707   NaN                3   \n",
       "1  basset bourouro  bassetbourouro  2184098312   NaN                0   \n",
       "2             سعود        SAUD9969   597529653   NaN              168   \n",
       "\n",
       "  location          created_at  statuses_count  friends_count  \\\n",
       "0      NaN 2012-07-10 09:43:19               1             53   \n",
       "1      NaN 2013-11-09 10:56:00               2              7   \n",
       "2      NaN 2012-06-02 14:16:50              11            524   \n",
       "\n",
       "                                         description  \n",
       "0                                                b''  \n",
       "1                                                b''  \n",
       "2  b'\\xd9\\x85\\xd8\\xba\\xd8\\xb1\\xd8\\xaf \\xd8\\xb3\\xd...  "
      ]
     },
     "execution_count": 5,
     "metadata": {},
     "output_type": "execute_result"
    }
   ],
   "source": [
    "users_df.head(3)"
   ]
  },
  {
   "cell_type": "markdown",
   "metadata": {},
   "source": [
    "### Histogram of users by year in which the user was created:"
   ]
  },
  {
   "cell_type": "code",
   "execution_count": 38,
   "metadata": {},
   "outputs": [
    {
     "data": {
      "image/png": "[encoded data removed]",
      "text/plain": [
       "<Figure size 432x288 with 1 Axes>"
      ]
     },
     "metadata": {
      "needs_background": "light"
     },
     "output_type": "display_data"
    }
   ],
   "source": [
    "years = [k.year for k in users_df['created_at']]\n",
    "\n",
    "n, bins, patches = plt.hist(years, bins = len(set(years)) )\n",
    "plt.xlabel('Year')\n",
    "plt.ylabel('N Users')\n",
    "plt.title('Users created per year')\n",
    "plt.ylim(0, 140)\n",
    "plt.grid(True)\n",
    "plt.show()"
   ]
  },
  {
   "cell_type": "markdown",
   "metadata": {},
   "source": [
    "### Histogram of users by number of followers:"
   ]
  },
  {
   "cell_type": "code",
   "execution_count": 43,
   "metadata": {},
   "outputs": [
    {
     "data": {
      "image/png": "[encoded data removed]",
      "text/plain": [
       "<Figure size 1152x504 with 2 Axes>"
      ]
     },
     "metadata": {
      "needs_background": "light"
     },
     "output_type": "display_data"
    }
   ],
   "source": [
    "fig, ax = plt.subplots(1, 2, figsize=(16,7))   # sharey='row'  (use this to set same axis at Y)\n",
    "ax = ax.ravel() \n",
    "xlim = [[0, 100], [100, 4000]]\n",
    "color = ['blue', 'green']\n",
    "\n",
    "for idx, lim, c in zip(range(2), xlim, color):\n",
    "    ax[idx].hist(users_df['followers_count'], bins=50, alpha=0.5, range=lim, color=c)\n",
    "    ax[idx].set_title('N followers: {}'.format(lim))\n",
    "    ax[idx].grid(which='both')"
   ]
  },
  {
   "cell_type": "markdown",
   "metadata": {},
   "source": [
    "### Histogram of users by number of friends"
   ]
  },
  {
   "cell_type": "code",
   "execution_count": 52,
   "metadata": {},
   "outputs": [
    {
     "data": {
      "image/png": "[encoded data removed]",
      "text/plain": [
       "<Figure size 1152x504 with 2 Axes>"
      ]
     },
     "metadata": {
      "needs_background": "light"
     },
     "output_type": "display_data"
    }
   ],
   "source": [
    "fig, ax = plt.subplots(1, 2, figsize=(16,7))   # sharey='row'  (use this to set same axis at Y)\n",
    "ax = ax.ravel() \n",
    "xlim = [[0, 100], [100, 4000]]\n",
    "color = ['blue', 'green']\n",
    "\n",
    "for idx, lim, c in zip(range(2), xlim, color):\n",
    "    ax[idx].hist(users_df['friends_count'], bins=50, alpha=0.5, range=lim, color=c)\n",
    "    ax[idx].set_title('N Friends: {}'.format(lim))\n",
    "    ax[idx].grid(which='both')"
   ]
  },
  {
   "cell_type": "markdown",
   "metadata": {},
   "source": [
    "### Number of words per tweet"
   ]
  },
  {
   "cell_type": "code",
   "execution_count": 64,
   "metadata": {},
   "outputs": [
    {
     "data": {
      "image/png": "[encoded data removed]",
      "text/plain": [
       "<Figure size 864x864 with 1 Axes>"
      ]
     },
     "metadata": {
      "needs_background": "light"
     },
     "output_type": "display_data"
    }
   ],
   "source": [
    "plt.figure(figsize=(12, 12))\n",
    "n, bins, patches = plt.hist(tweets_df['n_words'], bins=100)\n",
    "plt.xlabel('N Tweets')\n",
    "plt.ylabel('N Words')\n",
    "plt.title('Words per tweet')\n",
    "plt.grid(True)\n",
    "\n",
    "plt.show()"
   ]
  },
  {
   "cell_type": "code",
   "execution_count": 70,
   "metadata": {},
   "outputs": [],
   "source": [
    "tweets_df['has_emoji'] = tweets_df.emoji_count > 0"
   ]
  },
  {
   "cell_type": "code",
   "execution_count": 82,
   "metadata": {},
   "outputs": [],
   "source": [
    "t = tweets_df[['n_words', 'is_retweet', 'has_link', 'has_emoji']].astype(int).copy()"
   ]
  },
  {
   "cell_type": "code",
   "execution_count": 84,
   "metadata": {},
   "outputs": [
    {
     "data": {
      "text/plain": [
       "<seaborn.axisgrid.PairGrid at 0xbdf26a0>"
      ]
     },
     "execution_count": 84,
     "metadata": {},
     "output_type": "execute_result"
    },
    {
     "data": {
      "image/png": "[encoded data removed]",
      "text/plain": [
       "<Figure size 720x720 with 20 Axes>"
      ]
     },
     "metadata": {
      "needs_background": "light"
     },
     "output_type": "display_data"
    }
   ],
   "source": [
    "sns.pairplot(t)\n",
    "# sns.plt.show()\n"
   ]
  },
  {
   "cell_type": "code",
   "execution_count": 73,
   "metadata": {},
   "outputs": [
    {
     "data": {
      "text/plain": [
       "pandas.core.frame.DataFrame"
      ]
     },
     "execution_count": 73,
     "metadata": {},
     "output_type": "execute_result"
    }
   ],
   "source": [
    "type(t)"
   ]
  },
  {
   "cell_type": "code",
   "execution_count": null,
   "metadata": {},
   "outputs": [],
   "source": []
  }
 ],
 "metadata": {
  "kernelspec": {
   "display_name": "Python 3",
   "language": "python",
   "name": "python3"
  },
  "language_info": {
   "codemirror_mode": {
    "name": "ipython",
    "version": 3
   },
   "file_extension": ".py",
   "mimetype": "text/x-python",
   "name": "python",
   "nbconvert_exporter": "python",
   "pygments_lexer": "ipython3",
   "version": "3.7.3"
  }
 },
 "nbformat": 4,
 "nbformat_minor": 2
}
