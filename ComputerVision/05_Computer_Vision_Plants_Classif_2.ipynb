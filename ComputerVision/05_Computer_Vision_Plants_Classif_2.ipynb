{
 "cells": [
  {
   "cell_type": "markdown",
   "metadata": {},
   "source": [
    "# Computer Vision: Plants Classification Other models"
   ]
  },
  {
   "cell_type": "markdown",
   "metadata": {},
   "source": [
    "This classification is based on the **Plant Seedlings Dataset**, which contains images of approximately 960 unique plants belonging to 12 species at several growth stages, with a resolution of about 10 pixels per mm of annotated RGB images.\n",
    "\n",
    "The dataset includes the following species:\n",
    "\n",
    "\n",
    "|English     |Latin               |EPPO|\n",
    "|:-----------|:-------------------|:---|\n",
    "|Maize       |Zea mays L.         |ZEAMX|\n",
    "|Common wheat|Triticum aestivum L.|TRZAX|\n",
    "|Sugar beet|Beta vulgaris var. altissima|BEAVA|\n",
    "|Scentless Mayweed|Matricaria perforata Mérat|MATIN|\n",
    "|Common Chickweed|Stellaria media|STEME|\n",
    "|Shepherd’s Purse|Capsella bursa-pastoris|CAPBP|\n",
    "|Cleavers|Galium aparine L.|GALAP|\n",
    "|Charlock|Sinapis arvensis L.|SINAR|\n",
    "|Fat Hen|Chenopodium album L.|CHEAL|\n",
    "|Small-flowered Cranesbill|Geranium pusillum|GERSS|\n",
    "|Black-grass|Alopecurus myosuroides|ALOMY|\n",
    "|Loose Silky-bent|Apera spica-venti|APESV|"
   ]
  },
  {
   "cell_type": "code",
   "execution_count": 1,
   "metadata": {},
   "outputs": [],
   "source": [
    "%matplotlib inline\n",
    "# %load_ext watermark\n",
    "# %watermark -v -m -p numpy,pandas,sklearn,tensorflow -g\n",
    "\n",
    "import re\n",
    "import os\n",
    "import sys\n",
    "from time import time\n",
    "import pickle\n",
    "import pathlib\n",
    "import itertools\n",
    "import numpy as np\n",
    "import pandas as pd\n",
    "import numpy as np\n",
    "from mpl_toolkits.axes_grid1 import ImageGrid\n",
    "import matplotlib.pyplot as plt\n",
    "import matplotlib.image as mpimg\n",
    "import seaborn as sns\n",
    "# import watermark\n",
    "\n",
    "# from IPython.core.interactiveshell import InteractiveShell\n",
    "# InteractiveShell.ast_node_interactivity = \"all\"\n",
    "\n",
    "np.random.seed(42)"
   ]
  },
  {
   "cell_type": "code",
   "execution_count": 2,
   "metadata": {},
   "outputs": [],
   "source": [
    "# Libraries specific of Deep learning and images\n",
    "import imageio\n",
    "from skimage.transform import resize as imresize\n",
    "from sklearn.model_selection import train_test_split\n",
    "from sklearn.metrics import precision_score, recall_score, confusion_matrix, classification_report, accuracy_score, f1_score\n",
    "\n",
    "import tensorflow as tf2\n",
    "from tensorflow.keras.utils import plot_model, to_categorical\n",
    "from tensorflow.keras.models import Sequential, Model\n",
    "from tensorflow.keras.layers import Dense, Dropout, Flatten, Conv2D, MaxPool2D\n",
    "from tensorflow.keras.optimizers import RMSprop\n",
    "from tensorflow.keras.preprocessing.image import ImageDataGenerator\n",
    "from tensorflow.keras.callbacks import ReduceLROnPlateau\n",
    "\n",
    "from tensorflow.keras.layers import Input, Activation, Maximum, ZeroPadding2D, concatenate, BatchNormalization\n",
    "from tensorflow.keras.layers import LeakyReLU\n",
    "from tensorflow.keras import regularizers\n",
    "from tensorflow.keras.optimizers import Adam, SGD\n",
    "from tensorflow.keras.callbacks import ModelCheckpoint, LearningRateScheduler"
   ]
  },
  {
   "cell_type": "code",
   "execution_count": null,
   "metadata": {},
   "outputs": [],
   "source": []
  },
  {
   "cell_type": "markdown",
   "metadata": {},
   "source": [
    "## 1. Loading data\n",
    "\n",
    "### 1.1 Using previous notebook dataset"
   ]
  },
  {
   "cell_type": "code",
   "execution_count": 3,
   "metadata": {},
   "outputs": [],
   "source": [
    "PLANT_CLASSES = ['Black-grass', 'Charlock', 'Cleavers', 'Common Chickweed', 'Common wheat', \n",
    "                 'Fat Hen', 'Loose Silky-bent', 'Maize', 'Scentless Mayweed', \n",
    "                 'Shepherds Purse', 'Small-flowered Cranesbill', 'Sugar beet']\n",
    "CLASSES_DICT_NAMES = {name: k for k, name in zip(range(len(PLANT_CLASSES)), PLANT_CLASSES)}\n",
    "CLASSES_DICT_NUM = {k: name for k, name in zip(range(len(PLANT_CLASSES)), PLANT_CLASSES)}\n",
    "NUM_CATEGORIES = len(PLANT_CLASSES)"
   ]
  },
  {
   "cell_type": "code",
   "execution_count": 4,
   "metadata": {},
   "outputs": [
    {
     "name": "stdout",
     "output_type": "stream",
     "text": [
      "Abbreviations: ['BG', 'CH', 'CL', 'CC', 'CW', 'FH', 'LSB', 'MA', 'SM', 'SP', 'SFC', 'SB']\n"
     ]
    }
   ],
   "source": [
    "def get_abbreviation(name):\n",
    "    split_regex = re.compile(\"[ \\-,;:]\")\n",
    "    splitted = split_regex.split(name)\n",
    "    if len(splitted) == 1:\n",
    "        return splitted[0][:2].upper()\n",
    "    else:\n",
    "        return \"\".join([k[0].upper() for k in splitted])\n",
    "\n",
    "ABBREVIATIONS = [get_abbreviation(m) for m in PLANT_CLASSES]\n",
    "print(f\"Abbreviations: {ABBREVIATIONS}\")\n",
    "\n",
    "RESHAPE_SIZE = (65, 65, 3)"
   ]
  },
  {
   "cell_type": "code",
   "execution_count": 5,
   "metadata": {},
   "outputs": [],
   "source": [
    "# Read variables\n",
    "%store -r dataset\n",
    "images_generated, labels_encoded, X_val, Y_val = dataset"
   ]
  },
  {
   "cell_type": "markdown",
   "metadata": {},
   "source": [
    "## 2. Model\n",
    "### 2.1 Model definition\n",
    "\n"
   ]
  },
  {
   "cell_type": "code",
   "execution_count": 6,
   "metadata": {},
   "outputs": [],
   "source": [
    "def conv_layer(feature_batch, feature_map, kernel_size=(3, 3), strides=(1,1), zp_flag=False):\n",
    "    if zp_flag:\n",
    "        zp = ZeroPadding2D((1,1))(feature_batch)\n",
    "    else:\n",
    "        zp = feature_batch\n",
    "    conv = Conv2D(filters=feature_map, \n",
    "                  kernel_size=kernel_size, \n",
    "                  data_format = 'channels_last',\n",
    "                  strides=strides)(zp)\n",
    "    bn = BatchNormalization(axis=3)(conv)\n",
    "    act = LeakyReLU(1/10)(bn)\n",
    "    return act\n",
    "\n",
    "\n",
    "def dense_set(inp_layer, n, activation, drop_rate=0.3):\n",
    "    dp = Dropout(drop_rate)(inp_layer)\n",
    "    dns = Dense(n)(dp)\n",
    "    bn = BatchNormalization(axis=-1)(dns)\n",
    "    act = Activation(activation=activation)(bn)\n",
    "    return act\n",
    "\n",
    "\n",
    "def multi_conv_model(img_shape=RESHAPE_SIZE, opt_name=\"Adam\"):\n",
    "    input_img = Input(shape=img_shape)\n",
    "\n",
    "    # First stage of Conv and Max Pooling\n",
    "    conv1 = conv_layer(input_img, 64)\n",
    "    conv2 = conv_layer(conv1, 64, zp_flag=False)\n",
    "    mp1 = MaxPool2D(pool_size=(3, 3), strides=(2, 2))(conv2)\n",
    "    # Second stage of Conv and Max Pooling\n",
    "    conv3 = conv_layer(mp1, 128)\n",
    "    conv4 = conv_layer(conv3, 128)\n",
    "    mp2 = MaxPool2D(pool_size=(3, 3), strides=(2, 2))(conv4)\n",
    "    # Third stage\n",
    "    conv7 = conv_layer(mp2, 256)\n",
    "    conv8 = conv_layer(conv7, 256)\n",
    "    conv9 = conv_layer(conv8, 256)\n",
    "    mp3 = MaxPool2D(pool_size=(3, 3), strides=(2, 2))(conv9)\n",
    "    # Apply dense layers\n",
    "    flt = Flatten()(mp3)\n",
    "    ds1 = dense_set(flt, 128, activation='tanh')\n",
    "    out = dense_set(ds1, 12, activation='softmax')\n",
    "\n",
    "    model = Model(inputs=input_img, outputs=out)\n",
    "    \n",
    "    # The first 50 epochs are used by Adam opt.\n",
    "    # Then 30 epochs are used by SGD opt.\n",
    "    if opt_name == \"Adam\":\n",
    "        model_optimizer = Adam(lr=2 * 1e-3, beta_1=0.9, beta_2=0.999, epsilon=1e-08)\n",
    "    elif opt_name == \"SGD\":\n",
    "        model_optimizer = SGD(lr=1 * 1e-1, momentum=0.9, nesterov=True)\n",
    "    else:\n",
    "        raise ValueError(\"Selected optimizer not supported\")\n",
    "    model.compile(loss='categorical_crossentropy',\n",
    "                   optimizer=model_optimizer,\n",
    "                   metrics=['accuracy'])\n",
    "    # Display the model's architecture\n",
    "    model.summary()\n",
    "    return model"
   ]
  },
  {
   "cell_type": "code",
   "execution_count": 7,
   "metadata": {},
   "outputs": [],
   "source": [
    "def get_callbacks(filepath=None, save_best=True, learning_schedule=\"Plateau\", patience=5):\n",
    "    callbacks = []\n",
    "    \n",
    "    if learning_schedule == \"Plateau\":\n",
    "        # Reduce learning rate when a metric has stopped improving\n",
    "        lr_schedule = ReduceLROnPlateau(monitor='val_accuracy', \n",
    "                                      factor=0.1, \n",
    "                                      min_delta=1e-5, \n",
    "                                      patience=patience, \n",
    "                                      verbose=1)\n",
    "    elif learning_schedule == \"Annealer\":\n",
    "        # Decrease each epoch\n",
    "        lr_schedule = LearningRateScheduler(lambda x: 1e-3 * 0.95 ** x)\n",
    "    \n",
    "    callbacks.append(lr_schedule)\n",
    "    \n",
    "    if filepath:\n",
    "        # Save the model after every epoch\n",
    "        msave = ModelCheckpoint(filepath, save_best_only=save_best)\n",
    "        callbacks.append(msave)\n",
    "        \n",
    "    return callbacks\n",
    "\n",
    "\n",
    "def train_model(images_generated, labels_encoded, batch_size=86, epochs=50, opt=\"Adam\", \n",
    "                weights_file=None, save_to=None, save_best=False):\n",
    "    if save_to:\n",
    "        callbacks = get_callbacks(filepath=save_to, save_best=save_best, patience=3)\n",
    "    else:\n",
    "        callbacks = get_callbacks(patience=3)\n",
    "    # Model architecture and compile\n",
    "    plant_model = multi_conv_model(opt_name=opt)\n",
    "    if weights_file:\n",
    "        if os.path.exists(weights_file):\n",
    "            plant_model.load_weights(filepath=weights_file)\n",
    "                \n",
    "    datagen = ImageDataGenerator(\n",
    "        rotation_range=360.,\n",
    "        width_shift_range=0.3,\n",
    "        height_shift_range=0.3,\n",
    "        zoom_range=0.3,\n",
    "        horizontal_flip=True,\n",
    "        vertical_flip=True,\n",
    "        data_format=\"channels_last\")\n",
    "    \n",
    "    X_tr, X_val, Y_tr, Y_val = train_test_split(images_generated, labels_encoded, test_size=0.1)\n",
    "    \n",
    "    history = plant_model.fit_generator(\n",
    "        gen.flow(X_tr, Y_tr, batch_size=batch_size),\n",
    "        steps_per_epoch=10*len(X_tr)/batch_size,\n",
    "        epochs=epochs,\n",
    "        verbose=2,\n",
    "        shuffle=True,\n",
    "        validation_data=(X_te, Y_te),\n",
    "        callbacks=callbacks)\n",
    "    return plant_model, history"
   ]
  },
  {
   "cell_type": "code",
   "execution_count": 7,
   "metadata": {},
   "outputs": [],
   "source": [
    "# Training first 30 epochs with SGD and later on with Adam\n",
    "ADAM_MODEL = \"./models/CNN_model2_weights_Adam.hdf5\"\n",
    "SGD_MODEL = \"./models/CNN_model2_weights_SGD.hdf5\"\n",
    "SAVE_MODEL_TO = \"./models/model2_weights.hdf5\"  # .{epoch:02d}"
   ]
  },
  {
   "cell_type": "code",
   "execution_count": 8,
   "metadata": {},
   "outputs": [],
   "source": [
    "# %%time\n",
    "# model, history_m2_1 = train_model(X_tr, Y_tr, X_te, Y_te, \n",
    "#                            batch_size=86, \n",
    "#                            epochs=5, \n",
    "#                            opt=\"SGD\", \n",
    "#                            weights_file=SGD_MODEL, save_to=SAVE_MODEL_TO, save_best=True)"
   ]
  },
  {
   "cell_type": "code",
   "execution_count": 9,
   "metadata": {},
   "outputs": [],
   "source": [
    "# %%time\n",
    "# model, history_m2_1 = train_model(X_tr, Y_tr, X_te, Y_te, \n",
    "#                            batch_size=86, \n",
    "#                            epochs=5, \n",
    "#                            opt=\"Adam\", \n",
    "#                            weights_file=SGD_MODEL, save_to=SAVE_MODEL_TO, save_best=True)"
   ]
  },
  {
   "cell_type": "code",
   "execution_count": 10,
   "metadata": {},
   "outputs": [],
   "source": [
    "# Save in checkpoint format  (to load it use 'model.load_weights')\n",
    "# model.save_weights('./models/checkpoints/model2_CNN_SGD')\n",
    "\n",
    "# Save model weights only (h5 format):\n",
    "# model.save_weights('./models/model2_weights_final.h5')"
   ]
  },
  {
   "cell_type": "markdown",
   "metadata": {},
   "source": [
    "### Load saved model"
   ]
  },
  {
   "cell_type": "code",
   "execution_count": 12,
   "metadata": {},
   "outputs": [
    {
     "name": "stderr",
     "output_type": "stream",
     "text": [
      "WARNING: Logging before flag parsing goes to stderr.\n",
      "W1031 16:59:00.046297 140526915999552 deprecation.py:506] From /home/ec2-user/anaconda3/envs/tensorflow_p36/lib/python3.6/site-packages/tensorflow/python/ops/init_ops.py:1251: calling VarianceScaling.__init__ (from tensorflow.python.ops.init_ops) with dtype is deprecated and will be removed in a future version.\n",
      "Instructions for updating:\n",
      "Call initializer instance with the dtype argument instead of passing it to the constructor\n"
     ]
    },
    {
     "name": "stdout",
     "output_type": "stream",
     "text": [
      "Model: \"model\"\n",
      "_________________________________________________________________\n",
      "Layer (type)                 Output Shape              Param #   \n",
      "=================================================================\n",
      "input_1 (InputLayer)         [(None, 65, 65, 3)]       0         \n",
      "_________________________________________________________________\n",
      "conv2d (Conv2D)              (None, 63, 63, 64)        1792      \n",
      "_________________________________________________________________\n",
      "batch_normalization (BatchNo (None, 63, 63, 64)        256       \n",
      "_________________________________________________________________\n",
      "leaky_re_lu (LeakyReLU)      (None, 63, 63, 64)        0         \n",
      "_________________________________________________________________\n",
      "conv2d_1 (Conv2D)            (None, 61, 61, 64)        36928     \n",
      "_________________________________________________________________\n",
      "batch_normalization_1 (Batch (None, 61, 61, 64)        256       \n",
      "_________________________________________________________________\n",
      "leaky_re_lu_1 (LeakyReLU)    (None, 61, 61, 64)        0         \n",
      "_________________________________________________________________\n",
      "max_pooling2d (MaxPooling2D) (None, 30, 30, 64)        0         \n",
      "_________________________________________________________________\n",
      "conv2d_2 (Conv2D)            (None, 28, 28, 128)       73856     \n",
      "_________________________________________________________________\n",
      "batch_normalization_2 (Batch (None, 28, 28, 128)       512       \n",
      "_________________________________________________________________\n",
      "leaky_re_lu_2 (LeakyReLU)    (None, 28, 28, 128)       0         \n",
      "_________________________________________________________________\n",
      "conv2d_3 (Conv2D)            (None, 26, 26, 128)       147584    \n",
      "_________________________________________________________________\n",
      "batch_normalization_3 (Batch (None, 26, 26, 128)       512       \n",
      "_________________________________________________________________\n",
      "leaky_re_lu_3 (LeakyReLU)    (None, 26, 26, 128)       0         \n",
      "_________________________________________________________________\n",
      "max_pooling2d_1 (MaxPooling2 (None, 12, 12, 128)       0         \n",
      "_________________________________________________________________\n",
      "conv2d_4 (Conv2D)            (None, 10, 10, 256)       295168    \n",
      "_________________________________________________________________\n",
      "batch_normalization_4 (Batch (None, 10, 10, 256)       1024      \n",
      "_________________________________________________________________\n",
      "leaky_re_lu_4 (LeakyReLU)    (None, 10, 10, 256)       0         \n",
      "_________________________________________________________________\n",
      "conv2d_5 (Conv2D)            (None, 8, 8, 256)         590080    \n",
      "_________________________________________________________________\n",
      "batch_normalization_5 (Batch (None, 8, 8, 256)         1024      \n",
      "_________________________________________________________________\n",
      "leaky_re_lu_5 (LeakyReLU)    (None, 8, 8, 256)         0         \n",
      "_________________________________________________________________\n",
      "conv2d_6 (Conv2D)            (None, 6, 6, 256)         590080    \n",
      "_________________________________________________________________\n",
      "batch_normalization_6 (Batch (None, 6, 6, 256)         1024      \n",
      "_________________________________________________________________\n",
      "leaky_re_lu_6 (LeakyReLU)    (None, 6, 6, 256)         0         \n",
      "_________________________________________________________________\n",
      "max_pooling2d_2 (MaxPooling2 (None, 2, 2, 256)         0         \n",
      "_________________________________________________________________\n",
      "flatten (Flatten)            (None, 1024)              0         \n",
      "_________________________________________________________________\n",
      "dropout (Dropout)            (None, 1024)              0         \n",
      "_________________________________________________________________\n",
      "dense (Dense)                (None, 128)               131200    \n",
      "_________________________________________________________________\n",
      "batch_normalization_7 (Batch (None, 128)               512       \n",
      "_________________________________________________________________\n",
      "activation (Activation)      (None, 128)               0         \n",
      "_________________________________________________________________\n",
      "dropout_1 (Dropout)          (None, 128)               0         \n",
      "_________________________________________________________________\n",
      "dense_1 (Dense)              (None, 12)                1548      \n",
      "_________________________________________________________________\n",
      "batch_normalization_8 (Batch (None, 12)                48        \n",
      "_________________________________________________________________\n",
      "activation_1 (Activation)    (None, 12)                0         \n",
      "=================================================================\n",
      "Total params: 1,873,404\n",
      "Trainable params: 1,870,820\n",
      "Non-trainable params: 2,584\n",
      "_________________________________________________________________\n"
     ]
    }
   ],
   "source": [
    "# Load from saved model weights\n",
    "model = multi_conv_model(opt_name=\"Adam\")\n",
    "model.load_weights('./models/model2_weights_final.h5')"
   ]
  },
  {
   "cell_type": "markdown",
   "metadata": {},
   "source": [
    "### Get predictions for the validation set"
   ]
  },
  {
   "cell_type": "code",
   "execution_count": 13,
   "metadata": {},
   "outputs": [],
   "source": [
    "VALIDATION_DATA = \"./data/plants/validation.gz\"\n",
    "\n",
    "val_data = pd.read_csv(VALIDATION_DATA)\n",
    "val_data['class'] = val_data['class'].apply(lambda x: CLASSES_DICT_NAMES[x.replace(\"’\", \"\")])\n",
    "val_info = val_data[['label', 'class']]\n",
    "X_val = val_data.drop(labels=['label', 'class'], axis=1)\n",
    "\n",
    "# Apply the shape required\n",
    "X_val = X_val.values.reshape(-1, *RESHAPE_SIZE)\n",
    "Y_val = to_categorical(val_info['class'].values, num_classes=len(CLASSES_DICT_NAMES))"
   ]
  },
  {
   "cell_type": "code",
   "execution_count": 14,
   "metadata": {},
   "outputs": [],
   "source": [
    "# Predict the values from the validation dataset\n",
    "Y_pred = model.predict(X_val)\n",
    "# Convert predictions classes to one hot vectors \n",
    "Y_pred_classes = np.argmax(Y_pred, axis=1) \n",
    "# Convert validation observations to one hot vectors\n",
    "Y_true = np.argmax(Y_val, axis=1) \n",
    "# compute the confusion matrix\n",
    "cnf_matrix = confusion_matrix(Y_true, Y_pred_classes) "
   ]
  },
  {
   "cell_type": "markdown",
   "metadata": {},
   "source": [
    "### Confusion Matrix"
   ]
  },
  {
   "cell_type": "code",
   "execution_count": 13,
   "metadata": {},
   "outputs": [
    {
     "data": {
      "image/png": "[encoded data removed]",
      "text/plain": [
       "<Figure size 864x864 with 2 Axes>"
      ]
     },
     "metadata": {},
     "output_type": "display_data"
    }
   ],
   "source": [
    "def plot_confusion_matrix(cnf_matrix, abbreviations=None, output=None ,size=12):\n",
    "    # plot the confusion matrix\n",
    "    fig, ax = plt.subplots(figsize=(size, size))\n",
    "    ax = sns.heatmap(cnf_matrix, annot=True, linewidths=0.01, cmap=\"Greens\", linecolor=\"gray\", fmt= '.1f',ax=ax)\n",
    "    if abbreviations:\n",
    "        ax.set_xticklabels(abbreviations)\n",
    "        ax.set_yticklabels(abbreviations)\n",
    "    plt.xlabel(\"Predicted Label\")\n",
    "    plt.ylabel(\"True Label\")\n",
    "    plt.title(\"Confusion Matrix\")\n",
    "    if output:\n",
    "        fig.savefig(output, dpi=300)\n",
    "\n",
    "# plot the confusion matrix\n",
    "plot_confusion_matrix(cnf_matrix, abbreviations=ABBREVIATIONS, output='./fig/model2_CNN_confusion_matrix.png')"
   ]
  },
  {
   "cell_type": "markdown",
   "metadata": {},
   "source": [
    "### Other metrics"
   ]
  },
  {
   "cell_type": "code",
   "execution_count": 47,
   "metadata": {},
   "outputs": [
    {
     "name": "stdout",
     "output_type": "stream",
     "text": [
      "Accuracy: \t0.928\n",
      "Precision: \t[0.786, 0.902, 0.955, 0.994, 0.943, 1.0, 0.813, 0.984, 0.915, 0.96, 0.992, 0.971]\n",
      "Recall: \t[0.506, 0.983, 0.842, 0.929, 0.909, 0.966, 0.961, 0.968, 0.987, 0.96, 0.992, 0.961]\n",
      "F1 score: \t[0.615, 0.941, 0.895, 0.96, 0.926, 0.983, 0.881, 0.976, 0.95, 0.96, 0.992, 0.966]\n",
      "\n",
      "clasification report:\n",
      "               precision    recall  f1-score   support\n",
      "\n",
      "           0       0.79      0.51      0.62        87\n",
      "           1       0.90      0.98      0.94       121\n",
      "           2       0.96      0.84      0.90        76\n",
      "           3       0.99      0.93      0.96       168\n",
      "           4       0.94      0.91      0.93        55\n",
      "           5       1.00      0.97      0.98       146\n",
      "           6       0.81      0.96      0.88       204\n",
      "           7       0.98      0.97      0.98        63\n",
      "           8       0.92      0.99      0.95       153\n",
      "           9       0.96      0.96      0.96        75\n",
      "          10       0.99      0.99      0.99       133\n",
      "          11       0.97      0.96      0.97       103\n",
      "\n",
      "    accuracy                           0.93      1384\n",
      "   macro avg       0.93      0.91      0.92      1384\n",
      "weighted avg       0.93      0.93      0.93      1384\n",
      "\n"
     ]
    }
   ],
   "source": [
    "print(f'Accuracy: \\t{accuracy_score(Y_true, Y_pred_classes):.3}')\n",
    "print(f'Precision: \\t{[round(k, 3) for k in precision_score(Y_true, Y_pred_classes, average=None)]}')\n",
    "print(f'Recall: \\t{[round(k, 3) for k in recall_score(Y_true, Y_pred_classes, average=None)]}')\n",
    "print(f'F1 score: \\t{[round(k, 3) for k in f1_score(Y_true, Y_pred_classes, average=None)]}')\n",
    "\n",
    "# Or all together....\n",
    "print(f'\\nclasification report:\\n {classification_report(Y_true, Y_pred_classes)}')"
   ]
  },
  {
   "cell_type": "code",
   "execution_count": null,
   "metadata": {},
   "outputs": [],
   "source": []
  },
  {
   "cell_type": "markdown",
   "metadata": {},
   "source": [
    "## LeNet5 Model"
   ]
  },
  {
   "cell_type": "code",
   "execution_count": 34,
   "metadata": {},
   "outputs": [],
   "source": [
    "def LeNet5_ensemble(input_shape=(28, 28, 1), nets=15):\n",
    "    \"\"\"\n",
    "    LeNet5 based architecture with improvements:\n",
    "    - Two stacked 3x3 filters replacing the single 5x5. These become nonlinear 5x5 convolutions\n",
    "    - A convolution with stride 2 replaces pooling layers. These become learnable pooling layers.\n",
    "    - ReLU activation replaces sigmoid.\n",
    "    - Batch normalization, dropout and more features added.\n",
    "    - An ensemble of 15 CNNs with bagging is used\n",
    "    \"\"\"\n",
    "    models = [0] * nets\n",
    "    for j in range(nets):\n",
    "        models[j] = Sequential()\n",
    "        # \n",
    "        models[j].add(Conv2D(32, kernel_size=3, activation='relu', input_shape=input_shape))\n",
    "        models[j].add(BatchNormalization())\n",
    "        models[j].add(Conv2D(32, kernel_size=3, activation='relu'))\n",
    "        models[j].add(BatchNormalization())\n",
    "        models[j].add(Conv2D(32, kernel_size=5, strides=2, padding='same', activation='relu'))\n",
    "        models[j].add(BatchNormalization())\n",
    "        models[j].add(Dropout(0.4))\n",
    "\n",
    "        models[j].add(Conv2D(64, kernel_size=3, activation='relu'))\n",
    "        models[j].add(BatchNormalization())\n",
    "        models[j].add(Conv2D(64, kernel_size=3, activation='relu'))\n",
    "        models[j].add(BatchNormalization())\n",
    "        models[j].add(Conv2D(64, kernel_size=5, strides=2, padding='same', activation='relu'))\n",
    "        models[j].add(BatchNormalization())\n",
    "        models[j].add(Dropout(0.4))\n",
    "\n",
    "        models[j].add(Conv2D(128, kernel_size = 4, activation='relu'))\n",
    "        models[j].add(BatchNormalization())\n",
    "        models[j].add(Flatten())\n",
    "        models[j].add(Dropout(0.4))\n",
    "        models[j].add(Dense(12, activation='softmax'))\n",
    "\n",
    "        # COMPILE: Adam Optimizer and Cross-Entropy Cost\n",
    "        models[j].compile(optimizer=\"adam\", loss=\"categorical_crossentropy\", metrics=[\"accuracy\"])\n",
    "    return models\n",
    "\n",
    "# Model architecture and compile\n",
    "nets = 12\n",
    "ensemble_model = LeNet5_ensemble(input_shape=RESHAPE_SIZE, nets=nets)"
   ]
  },
  {
   "cell_type": "code",
   "execution_count": null,
   "metadata": {},
   "outputs": [
    {
     "name": "stdout",
     "output_type": "stream",
     "text": [
      "Net 0\n"
     ]
    }
   ],
   "source": [
    "SAVE_TO = \"./models/LeNet5_weights_Adam.{j:02d}.hdf5\"\n",
    "# PREV_WEIGHTS = \n",
    "\n",
    "callbacks = []\n",
    "\n",
    "# if os.path.exists(PREV_WEIGHTS):\n",
    "#     ensemble_model.load_weights(filepath=weights_file)\n",
    "    \n",
    "datagen = ImageDataGenerator(\n",
    "    rotation_range=360.,\n",
    "    width_shift_range=0.3,\n",
    "    height_shift_range=0.3,\n",
    "    zoom_range=0.3,\n",
    "    horizontal_flip=True,\n",
    "    vertical_flip=True,\n",
    "    data_format=\"channels_last\")\n",
    "\n",
    "# TRAIN all networks\n",
    "history = [0] * nets\n",
    "epochs = 40\n",
    "for j in range(nets):\n",
    "    print(f\"Net {j}\")\n",
    "    X_tr, X_val, Y_tr, Y_val = train_test_split(images_generated, labels_encoded, test_size=0.1)\n",
    "    callbacks.append(get_callbacks(filepath=f\"./models/LeNet5_weights.{j:02d}.hdf5\", save_best=True, learning_schedule=\"Annealer\", patience=5))\n",
    "    \n",
    "    history[j] = ensemble_model[j].fit_generator(datagen.flow(X_tr, Y_tr, batch_size=64),\n",
    "        epochs = epochs, steps_per_epoch = X_tr.shape[0]//64,  \n",
    "        validation_data = (X_val, Y_val), callbacks=callbacks[j], verbose=0)\n",
    "    print(\"CNN {0:d}: Epochs={1:d}, Train accuracy={2:.5f}, Validation accuracy={3:.5f}\".format(\n",
    "        j+1, epochs, max(history[j].history['acc']), max(history[j].history['val_accuracy']) ))"
   ]
  },
  {
   "cell_type": "code",
   "execution_count": null,
   "metadata": {},
   "outputs": [],
   "source": [
    "# ENSEMBLE Predictions and submit\n",
    "results = np.zeros( (X_test.shape[0],10) ) \n",
    "\n",
    "for j in range(nets):\n",
    "    Y_pred = Y_pred + ensemble_model[j].predict(X_val)\n",
    "Y_pred = np.argmax(Y_pred, axis = 1)\n",
    "# results = pd.Series(Y_pred, name=\"Label\")\n",
    "# submission = pd.concat([pd.Series(range(1,28001),name = \"ImageId\"), Y_pred],axis = 1)\n",
    "# submission.to_csv(\"Plants-CNN-Ensemble.csv\",index=False)"
   ]
  },
  {
   "cell_type": "code",
   "execution_count": null,
   "metadata": {},
   "outputs": [],
   "source": [
    "# Convert predictions classes to one hot vectors \n",
    "Y_pred_classes = np.argmax(Y_pred, axis = 1) \n",
    "# Convert validation observations to one hot vectors\n",
    "Y_true = np.argmax(Y_val, axis = 1) \n",
    "# compute the confusion matrix\n",
    "confusion_mtx = confusion_matrix(Y_true, Y_pred_classes) \n",
    "# plot the confusion matrix\n",
    "f,ax = plt.subplots(figsize=(8, 8))\n",
    "sns.heatmap(confusion_mtx, annot=True, linewidths=0.01, cmap=\"Greens\", linecolor=\"gray\", fmt= '.1f',ax=ax)\n",
    "plt.xlabel(\"Predicted Label\")\n",
    "plt.ylabel(\"True Label\")\n",
    "plt.title(\"Confusion Matrix\")\n",
    "plt.show()"
   ]
  },
  {
   "cell_type": "code",
   "execution_count": null,
   "metadata": {},
   "outputs": [],
   "source": []
  },
  {
   "cell_type": "markdown",
   "metadata": {},
   "source": [
    "### Using a Pre-Trained Model"
   ]
  },
  {
   "cell_type": "code",
   "execution_count": null,
   "metadata": {},
   "outputs": [],
   "source": [
    "pretrained_model = tf.keras.applications.MobileNet()"
   ]
  },
  {
   "cell_type": "code",
   "execution_count": 22,
   "metadata": {},
   "outputs": [],
   "source": [
    "j= 2"
   ]
  },
  {
   "cell_type": "code",
   "execution_count": 23,
   "metadata": {},
   "outputs": [
    {
     "data": {
      "text/plain": [
       "'./models/LeNet5_weights.02.hdf5'"
      ]
     },
     "execution_count": 23,
     "metadata": {},
     "output_type": "execute_result"
    }
   ],
   "source": []
  },
  {
   "cell_type": "markdown",
   "metadata": {},
   "source": [
    "- [10 Pretrained Deep Learning Models](https://www.analyticsvidhya.com/blog/2018/07/top-10-pretrained-models-get-started-deep-learning-part-1-computer-vision/)\n",
    "- [Pre-trained tensorflow models](https://github.com/tensorflow/models/tree/master/research/slim#pre-trained-models)"
   ]
  },
  {
   "cell_type": "code",
   "execution_count": null,
   "metadata": {},
   "outputs": [],
   "source": []
  }
 ],
 "metadata": {
  "kernelspec": {
   "display_name": "conda_tensorflow_p36",
   "language": "python",
   "name": "conda_tensorflow_p36"
  },
  "language_info": {
   "codemirror_mode": {
    "name": "ipython",
    "version": 3
   },
   "file_extension": ".py",
   "mimetype": "text/x-python",
   "name": "python",
   "nbconvert_exporter": "python",
   "pygments_lexer": "ipython3",
   "version": "3.6.5"
  }
 },
 "nbformat": 4,
 "nbformat_minor": 4
}
