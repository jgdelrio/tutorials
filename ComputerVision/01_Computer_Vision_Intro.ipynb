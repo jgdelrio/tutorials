{
 "cells": [
  {
   "cell_type": "markdown",
   "metadata": {},
   "source": [
    "# Computer Vision (CV) Intro\n",
    "\n",
    "Computer Vision goal is to analyze images (photos and videos) input using machines to understand it. Some of these algorithms have been around since the 1960’s but thanks to recent advances in Machine Learning, data storage, computing power and cheap high-quality input devices have driven huge improvements in exploring photos and videos.\n",
    "\n",
    "Some of the main applications of this field include:\n",
    "\n",
    "- Object classification: training a model on a dataset of specific objects and the model classifies new objects as belonging to one or more of the categories.\n",
    "- Object identification: the model recognizes a specific instance of an object (ex: faces) and tags them (ex: Barack Obama or Idris Elba).\n",
    "- Autonomous vehicles.\n",
    "- Video motion analysis: classification, survaillance, speed analysis, etc.\n",
    "- Image segmentation: partition of images into multiple sets of views.\n",
    "- Image restoration: noise reduction, re-styling, etc.\n",
    "\n",
    "\n",
    "### How CV Works\n",
    "\n",
    "Although we have been trying to replicate how a brain works and we try to approximate it using neural networks, nobody really knows how the brain works. The same is true in computer vision and we don't know if the way our CV algorithms process the information approximate our vision process or the vision of more simple organisms as insects.\n",
    "\n",
    "Machines interpretaion is very simple, any image is a series of pixels each one with their own set of colors. Typically we decompose the images in the three main base colors (RGB) and we combine them to obtain the final image. The intensity of each color will be represented as a number within a pre-defined range.\n",
    "\n",
    "<img src=\"./fig/RGB_basics.png\" alt=\"RGB explination\" width=\"500\"/>\n",
    "\n"
   ]
  },
  {
   "cell_type": "markdown",
   "metadata": {},
   "source": [
    "Now processing a full image is very computationally expensive (and even more if we consider vides).\n",
    "\n",
    "- For each color we have 8 bits\n",
    "- For each pixel we have 3 colors (24 bits)\n",
    "- Typical HD image is 1024 x 768 pixels (18.87M bits or 2.3Mbytes)\n",
    "\n",
    "It's easy to quickly understand how all this stacks up and all the amount of data a CV algorithm needs to process to learn and achieve a meaningful accuracy which is why the advancements in this field have not been possible until recent technologies have made easier to access and process huge amounts of data."
   ]
  },
  {
   "cell_type": "markdown",
   "metadata": {},
   "source": [
    "### Computer Vision and Convolutional Neural Networks\n",
    "\n",
    "The last few years CNN has been widely applied in computer vision with a lot of success. CNNs (or ConvNets) are a subset of Deep Learning that have shown impressive accuracy on tasks that focus on processing images. CNNs add some extra steps into the deep learning, focused on feature extraction, or finding the best version possible of our input. This way the final features will be less redundant and more informative than the original input.\n",
    "\n",
    "The CNN uses three filters for feature extraction:\n",
    "\n",
    "- Convolution\n",
    "- ReLU\n",
    "- Pooling\n",
    "\n",
    "**Convolution**<br>\n",
    "During this step the input image pixels are modified by a filter (a matrix). We multiply different pieces of the input image by this filter and the output (or Feature Map) will usually be smaller than the original image and theoretically be more informative.\n",
    "\n",
    "**ReLU**<br>\n",
    "This stands for Rectified Linear Unit which is a simple function to introduce non-linearity into the feature map. All negative values are simply changed to zero, removing all black from the image. The formal function is y = max(0, x). ReLU is one of the possible activation functions that we can apply. Other functions include Sigmoid, Softmax, Identity, Binary Step, Tanh, ReLu, BReLU, ISRU, ISRLU, PReLU, RReLU, ELU, SELU, SReLU, APL, SoftExponential, Gaussian... \n",
    "\n",
    "**Pooling**<br>\n",
    "The image is scanned over by a set width of pixels and either the max, sum, or average of those pixels is taken as a representation of that portion of the image. This process further reduces the size of the feature map(s) by a factor of whatever size is pooled.\n",
    "\n",
    "All of these operations (Convolution, ReLu, and Pooling) are often applied twice in a row before concluding the process of feature extraction. The outputs of this whole process are then passed into a neural net for classification. The final architecture looks as follows:\n",
    "\n",
    "<img src=\"./fig/conv&pooling_process.png\" alt=\"RGB explination\" width=\"800\"/>\n",
    "<center>Source: Ujjwal Karn</center>"
   ]
  }
 ],
 "metadata": {
  "kernelspec": {
   "display_name": "Python 3",
   "language": "python",
   "name": "python3"
  },
  "language_info": {
   "codemirror_mode": {
    "name": "ipython",
    "version": 3
   },
   "file_extension": ".py",
   "mimetype": "text/x-python",
   "name": "python",
   "nbconvert_exporter": "python",
   "pygments_lexer": "ipython3",
   "version": "3.7.3"
  }
 },
 "nbformat": 4,
 "nbformat_minor": 2
}
