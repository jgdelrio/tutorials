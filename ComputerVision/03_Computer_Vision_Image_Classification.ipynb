{
 "cells": [
  {
   "cell_type": "markdown",
   "metadata": {},
   "source": [
    "# Computer Vision: Image Classification"
   ]
  },
  {
   "cell_type": "markdown",
   "metadata": {},
   "source": [
    "The first step to train a model for image recognition is finding images that belong to the desired class (or classes).\n",
    "\n",
    "\n",
    "### ImageNet\n",
    "\n",
    "This dataset is publicly available which the goal of promoting the development of computer vision methods. ImageNet currently has 14,197,122 images with 21841 synsets indexed (see [Imagenet](http://www.image-net.org/)).\n",
    "\n",
    "ImageNet aims to provide on average 1k images to illustrate each one of their 100k synsets, the majority of the synsets are nouns (80.000+). The **synsets** (synonym sets) come from WordNet which is a large lexical database of English. Nouns, verbs, adjectives and adverbs are grouped into sets of cognitive synonyms (synsets), each expressing a distinct concept.\n",
    "\n",
    "Check more [information about ImageNet](http://www.image-net.org/about-overview).\n",
    "\n",
    "Check more [information about WordNet](https://wordnet.princeton.edu/).\n",
    "These useful classified images can be obtained using Python.\n",
    "\n",
    "We will use for this task the **ImageNet** dataset. This is the dataset of the annual ImageNet Large Scale Visual Recognition Challenge (ILSVRC) which is a popular challenge that has brought many important innovations. \n",
    "\n",
    "Typical challenges performed in this dataset include:\n",
    "\n",
    "- Image classification: Predict the classes of objects present.\n",
    "- Object localization: Image classification (and draw a bounding box around one example of each object present).\n",
    "- Object detection: Image classification (and draw a bounding box around each object present).\n",
    "- Labeling videos.\n",
    "\n",
    "During the first five years the pace of improvements have been dramatic, with great success using CNNs and the papers published have become a must read.\n",
    "\n",
    "<img src=\"./fig/ILSVRC_improvements.png\" alt=\"RGB explination\" width=\"500\"/>\n",
    "\n",
    "\n",
    "Some of the techniques applied to improve the accuracy of the predictions include:\n",
    "\n",
    "#### Basics:\n",
    "* CNNs: Convolutional Neural Networks. It has been the technique with greater success in the last years\n",
    "* ReLUS: Neurons with nonlinearity as Rectified Linear Units as they train faster than for example tanh units and they do not require input normalization to prevent saturation, although local normalization still helps generalization. Response normalization helps to reduce the final error.\n",
    "\n",
    "#### Reducing Overfitting:\n",
    "* Data Augmentation: \n",
    "    - Applying transformations (translation, rotations, zooming...) having the dataset multiplied by factors of 2048.\n",
    "    - PCA performed on the RGB values, altering the intensities of the channels and adding to each image multiples of the principal componenets found with magnitues proportional to the corresponding eigenvalues itmes a random variables (from a Gaussian with mean 0 and st dev 01)\n",
    "* Dropout: Combining predictions of many models is very effective to reduce errors but it's way too expensive for big neural networks that take days to train. Dropouts sets to zero the output of each hidden node with a probability of 0.5 and this way the drop out neurons do not contribute to the forward pass nor they participate on the back-propagation. So every time the NN presents a different architecture but all of them share weights. This technique reduces co-adaptations of neurons as they cannot rely on the presence of other particular neurons and they are forced to learn more robust features.\n",
    "\n",
    "#### Some Details extracted from the papers:\n",
    "- Stochastic gradient descent for training with batches of 128, momentum of 0.9 and weight decay of 0.0005 which was not merely a regularizer but it reduces as well the training error.\n",
    "- The initialization was done with a Gaussian distribution with st. dev. 0.01\n",
    "- The learning rate at 0.01 and reduced three times prior to termination."
   ]
  },
  {
   "cell_type": "code",
   "execution_count": 6,
   "metadata": {},
   "outputs": [
    {
     "name": "stdout",
     "output_type": "stream",
     "text": [
      "The watermark extension is already loaded. To reload it, use:\n",
      "  %reload_ext watermark\n",
      "CPython 3.7.3\n",
      "IPython 7.8.0\n",
      "\n",
      "numpy 1.17.2\n",
      "pandas 0.25.2\n",
      "sklearn 0.21.3\n",
      "tensorflow 2.0.0\n",
      "\n",
      "compiler   : GCC 7.3.0\n",
      "system     : Linux\n",
      "release    : 5.0.0-31-generic\n",
      "machine    : x86_64\n",
      "processor  : x86_64\n",
      "CPU cores  : 8\n",
      "interpreter: 64bit\n",
      "Git hash   : cb13d8abe00615853de212fe6df32ebd0d3729bb\n"
     ]
    }
   ],
   "source": [
    "%matplotlib inline\n",
    "%load_ext watermark\n",
    "%watermark -v -m -p numpy,pandas,sklearn,tensorflow -g\n",
    "\n",
    "import os\n",
    "import sys\n",
    "import pickle\n",
    "import argparse\n",
    "import numpy as np\n",
    "import pandas as pd\n",
    "import numpy as np\n",
    "import matplotlib.pyplot as plt\n",
    "import matplotlib.image as mpimg\n",
    "import seaborn as sns\n",
    "import watermark\n",
    "\n",
    "np.random.seed(2)\n",
    "\n",
    "from sklearn.model_selection import train_test_split\n",
    "from sklearn.metrics import confusion_matrix\n",
    "import itertools\n",
    "\n",
    "from tensorflow.keras.utils import to_categorical\n",
    "from tensorflow.keras.models import Sequential\n",
    "from tensorflow.keras.layers import Dense, Dropout, Flatten, Conv2D, MaxPool2D\n",
    "from tensorflow.keras.optimizers import RMSprop\n",
    "from tensorflow.keras.preprocessing.image import ImageDataGenerator\n",
    "from tensorflow.keras.callbacks import ReduceLROnPlateau"
   ]
  },
  {
   "cell_type": "markdown",
   "metadata": {},
   "source": [
    "1. **Introduction**\n",
    "<br>\n",
    "\n",
    "2. **Data preparation**\n",
    "    - 2.1 Load data\n",
    "    - 2.2 Check for null and missing values\n",
    "    - 2.3 Normalization\n",
    "    - 2.4 Reshape\n",
    "    - 2.5 Label encoding\n",
    "    - 2.6 Split training and valdiation set\n",
    "\n",
    "\n",
    "3. **CNN**\n",
    "    - 3.1 Define the model\n",
    "    - 3.2 Set the optimizer and annealer\n",
    "    - 3.3 Data augmentation\n",
    "\n",
    "\n",
    "4. **Model Evaluation**\n",
    "    - 4.1 Training and validation curves\n",
    "    - 4.2 Confusion matrix\n",
    "\n",
    "\n",
    "5. **Prediction**\n",
    "    - 5.1 Predict samples"
   ]
  },
  {
   "cell_type": "markdown",
   "metadata": {},
   "source": [
    "## 1. Introduction\n",
    "\n",
    "This is a 5 layers Sequential CNN build with **Keras API** and trained on MNIST dataset.\n",
    "\n",
    "The model achieves a very high accuracy (99.671%) with this CNN trained in 2h30 on a single CPU (i5 2500k). If you have a GPU at hand you can use tensorflow-gpu with keras. Computation will be much much faster!!!\n",
    "\n",
    "Initially the number of epochs 2 but to achive the highest accurary you can set it to 30 epochs."
   ]
  },
  {
   "cell_type": "markdown",
   "metadata": {},
   "source": [
    "## 2. Data Preparation\n",
    "### 2.1 Load data\n",
    "\n",
    "The data is separated between the train and the test set."
   ]
  },
  {
   "cell_type": "code",
   "execution_count": 10,
   "metadata": {},
   "outputs": [],
   "source": [
    "df_tr = pd.read_csv(\"./data/mnist/train.csv\")\n",
    "df_te = pd.read_csv(\"./data/mnist/test.csv\")"
   ]
  },
  {
   "cell_type": "code",
   "execution_count": 14,
   "metadata": {},
   "outputs": [
    {
     "name": "stdout",
     "output_type": "stream",
     "text": [
      "Count per category:\n",
      "1    4684\n",
      "7    4401\n",
      "3    4351\n",
      "9    4188\n",
      "2    4177\n",
      "6    4137\n",
      "0    4132\n",
      "4    4072\n",
      "8    4063\n",
      "5    3795\n",
      "Name: label, dtype: int64\n"
     ]
    },
    {
     "data": {
      "image/png": "[encoded data removed]",
      "text/plain": [
       "<Figure size 1080x432 with 1 Axes>"
      ]
     },
     "metadata": {
      "needs_background": "light"
     },
     "output_type": "display_data"
    }
   ],
   "source": [
    "Y_tr = df_tr[\"label\"]\n",
    "\n",
    "# Drop 'label' column\n",
    "X_tr = df_tr.drop(labels = [\"label\"], axis=1) \n",
    "\n",
    "# free space\n",
    "del df_tr\n",
    "\n",
    "plt.figure(figsize=(15, 6))\n",
    "g = sns.countplot(Y_tr)\n",
    "\n",
    "print(f\"Count per category:\\n{Y_tr.value_counts()}\")"
   ]
  },
  {
   "cell_type": "code",
   "execution_count": 25,
   "metadata": {},
   "outputs": [
    {
     "name": "stdout",
     "output_type": "stream",
     "text": [
      "Difference in the upper range: 11.5\n",
      "Difference in the lower range: -9.6\n"
     ]
    }
   ],
   "source": [
    "count_mean = Y_tr.value_counts().mean()\n",
    "upper_lvl = 100 * (Y_tr.value_counts().max() - count_mean)/count_mean\n",
    "lower_lvl = 100 * (Y_tr.value_counts().min() - count_mean)/count_mean\n",
    "print(f\"Difference in the upper range: {upper_lvl:.1f}\")\n",
    "print(f\"Difference in the lower range: {lower_lvl:.1f}\")"
   ]
  },
  {
   "cell_type": "markdown",
   "metadata": {},
   "source": [
    "The difference in the counts is around +/- 10% so in this case we can consider that the distrubution is ok.\n",
    "\n",
    "It's important to verify that we have a nice distribution of cases across all the categories to avoid having a model trained mainly in one category. If that happens the model will likely perform poorly in the classes with fewer cases in the training set.\n",
    "\n",
    "Otherwise we may consider certain techniques to compensate/solve the issue:\n",
    "- Stratified sampling\n",
    "- Selected metrics: Precision@Recall=x or FPR@Recall=x  or  Recall@Precision=x\n",
    "- Cost-sensitive learning\n",
    "- SMOTE and ROSE algorithms. SMOTE effectively uses a k-nearest neighbours approach to exclude members of the majority class while in a similar way creating synthetic examples of a minority class. ROSE tries to create estimates of the underlying distributions of the two classes using a smoothed bootstrap approach and sample them."
   ]
  },
  {
   "cell_type": "markdown",
   "metadata": {},
   "source": [
    "### 2.2 Check for null and missing values"
   ]
  },
  {
   "cell_type": "code",
   "execution_count": 28,
   "metadata": {},
   "outputs": [
    {
     "data": {
      "text/plain": [
       "count       784\n",
       "unique        1\n",
       "top       False\n",
       "freq        784\n",
       "dtype: object"
      ]
     },
     "execution_count": 28,
     "metadata": {},
     "output_type": "execute_result"
    }
   ],
   "source": [
    "# Check the data\n",
    "X_tr.isnull().any().describe()"
   ]
  },
  {
   "cell_type": "code",
   "execution_count": 29,
   "metadata": {},
   "outputs": [
    {
     "data": {
      "text/plain": [
       "count       784\n",
       "unique        1\n",
       "top       False\n",
       "freq        784\n",
       "dtype: object"
      ]
     },
     "execution_count": 29,
     "metadata": {},
     "output_type": "execute_result"
    }
   ],
   "source": [
    "df_te.isnull().any().describe()"
   ]
  },
  {
   "cell_type": "markdown",
   "metadata": {},
   "source": [
    "In this case we don't have missing values in the train nor in the test dataset. Otherwise we may have to drop the entries that don't help to train our model."
   ]
  },
  {
   "cell_type": "markdown",
   "metadata": {},
   "source": [
    "### 2.3 Normalization\n",
    "\n",
    "We perform a grayscale normalization to reduce the effect of illumination's differences.\n",
    "\n",
    "This helps as well to achieve a faster convergence ([0..1] data vs. [0..255])."
   ]
  },
  {
   "cell_type": "code",
   "execution_count": 30,
   "metadata": {},
   "outputs": [],
   "source": [
    "# Normalize the data\n",
    "X_tr = X_tr / 255.0\n",
    "df_te = df_te / 255.0"
   ]
  },
  {
   "cell_type": "markdown",
   "metadata": {},
   "source": [
    "### 2.4 Reshape"
   ]
  },
  {
   "cell_type": "code",
   "execution_count": 39,
   "metadata": {},
   "outputs": [],
   "source": [
    "# Reshape image from row with 784 values to 3 dimensions (height = 28px, width = 28px , canal = 1)\n",
    "X_tr = X_tr.values.reshape(-1, 28, 28, 1)\n",
    "df_te = df_te.values.reshape(-1, 28, 28, 1)"
   ]
  },
  {
   "cell_type": "markdown",
   "metadata": {},
   "source": [
    "Train and test images (28px x 28px) has been stock into pandas as a matrix where we have 1D vectors of 784 values. We reshape all data to 28x28x1 3D matrices.\n",
    "\n",
    "Keras requires an extra dimension in the end which correspond to channels. MNIST images are gray scaled so it uses only one channel. For RGB images there are 3 channels so we would have reshaped 784px vectors to 28x28x3 3D matrices."
   ]
  },
  {
   "cell_type": "markdown",
   "metadata": {},
   "source": [
    "### 2.5 Label encoding"
   ]
  },
  {
   "cell_type": "code",
   "execution_count": 40,
   "metadata": {},
   "outputs": [],
   "source": [
    "# Encode labels to one hot vectors (ex : 2 -> [0,0,1,0,0,0,0,0,0,0])\n",
    "Y_tr = to_categorical(Y_tr, num_classes=10)"
   ]
  },
  {
   "cell_type": "markdown",
   "metadata": {},
   "source": [
    "### 2.6 Split training and valdiation set"
   ]
  },
  {
   "cell_type": "code",
   "execution_count": 41,
   "metadata": {},
   "outputs": [],
   "source": [
    "# Set the random seed\n",
    "random_seed = 42"
   ]
  },
  {
   "cell_type": "code",
   "execution_count": 42,
   "metadata": {},
   "outputs": [],
   "source": [
    "# Split the train and the validation set for the fitting\n",
    "X_tr, X_val, Y_tr, Y_val = train_test_split(X_tr, Y_tr, test_size=0.1, random_state=random_seed)"
   ]
  },
  {
   "cell_type": "markdown",
   "metadata": {},
   "source": [
    "From the already split data (train and test) we retain a small fraction of the train data (10%) to become the **validation set** in which the model is evaluated and the rest (90%) is used to train the model.\n",
    "\n",
    "Since we have 42 000 training images of balanced labels a random split of the train set doesn't cause some labels to be over represented in the validation set. Be carefull with some unbalanced dataset where a simple random split could cause inaccurate evaluation during the validation.\n",
    "\n",
    "To avoid that, you could use stratify=True option in train_test_split function (only for >=0.17 sklearn versions)."
   ]
  },
  {
   "cell_type": "code",
   "execution_count": 54,
   "metadata": {},
   "outputs": [
    {
     "data": {
      "image/png": "[encoded data removed]",
      "text/plain": [
       "<Figure size 432x288 with 9 Axes>"
      ]
     },
     "metadata": {
      "needs_background": "light"
     },
     "output_type": "display_data"
    }
   ],
   "source": [
    "# Examples of the data\n",
    "for i in range(9):\n",
    "    plt.subplot(330 + 1 + i)                            # subplot def\n",
    "    plt.imshow(X_tr[i][:,:,0], cmap=plt.get_cmap('gray'))      # raw pixel data"
   ]
  },
  {
   "cell_type": "markdown",
   "metadata": {},
   "source": [
    "It may be useful as well to understand the distribution of the gradation of the color layer that we have. Humans are limited and we see 100 levels of gradation of a single color (in this case, white/grey/black) and even fewer with the limitations of a computer display, but we may have images with up to 2^16 == 65536 levels in a 16 bit image and the CNN won't have problems seeing those differences as it takes as input floating point data.\n",
    "\n",
    "For human purposes we may apply windowing and get 3x levels by using 3 channel image with different windows in each channel.\n",
    "\n",
    "On the other hand this doesn't mean that we can ignore scaling entirely for the CNN as having well-scaled inputs is really important in getting good results from your NN. That means we want to see a good mix of values throughout the range of our data (e.g. something having approximately a normal or uniform distribution)."
   ]
  },
  {
   "cell_type": "code",
   "execution_count": 99,
   "metadata": {},
   "outputs": [
    {
     "data": {
      "image/png": "[encoded data removed]",
      "text/plain": [
       "<Figure size 1080x576 with 1 Axes>"
      ]
     },
     "metadata": {
      "needs_background": "light"
     },
     "output_type": "display_data"
    }
   ],
   "source": [
    "px = X_tr.flatten()\n",
    "plt.figure(figsize=(15, 8))\n",
    "plt.hist(px, bins=80);"
   ]
  },
  {
   "cell_type": "markdown",
   "metadata": {},
   "source": [
    "As the graph shows, we don't have that at all.\n",
    "\n",
    "We have a highly bimodal distribution, with lots of background pixels at around 0 and the digits at 1. But that's OK, we can normalize this using a simple scaling of the pixel values using a non-linear mapping designed to give us an equal number of pixels in each range. To do that we first split the range of pixel values into groups, such that each group has around the same number of pixels."
   ]
  },
  {
   "cell_type": "code",
   "execution_count": 64,
   "metadata": {},
   "outputs": [
    {
     "ename": "AttributeError",
     "evalue": "'numpy.ndarray' object has no attribute 'freqhist_bins'",
     "output_type": "error",
     "traceback": [
      "\u001b[0;31m---------------------------------------------------------------------------\u001b[0m",
      "\u001b[0;31mAttributeError\u001b[0m                            Traceback (most recent call last)",
      "\u001b[0;32m<ipython-input-64-5f1bf4bb1d90>\u001b[0m in \u001b[0;36m<module>\u001b[0;34m\u001b[0m\n\u001b[0;32m----> 1\u001b[0;31m \u001b[0mbins\u001b[0m \u001b[0;34m=\u001b[0m \u001b[0mpx\u001b[0m\u001b[0;34m.\u001b[0m\u001b[0mfreqhist_bins\u001b[0m\u001b[0;34m(\u001b[0m\u001b[0;36m20\u001b[0m\u001b[0;34m)\u001b[0m\u001b[0;34m\u001b[0m\u001b[0;34m\u001b[0m\u001b[0m\n\u001b[0m\u001b[1;32m      2\u001b[0m \u001b[0mprint\u001b[0m\u001b[0;34m(\u001b[0m\u001b[0mbins\u001b[0m\u001b[0;34m)\u001b[0m\u001b[0;34m\u001b[0m\u001b[0;34m\u001b[0m\u001b[0m\n\u001b[1;32m      3\u001b[0m \u001b[0mplt\u001b[0m\u001b[0;34m.\u001b[0m\u001b[0mfigure\u001b[0m\u001b[0;34m(\u001b[0m\u001b[0mfigsize\u001b[0m\u001b[0;34m=\u001b[0m\u001b[0;34m(\u001b[0m\u001b[0;36m15\u001b[0m\u001b[0;34m,\u001b[0m \u001b[0;36m4\u001b[0m\u001b[0;34m)\u001b[0m\u001b[0;34m)\u001b[0m\u001b[0;34m\u001b[0m\u001b[0;34m\u001b[0m\u001b[0m\n\u001b[1;32m      4\u001b[0m \u001b[0mplt\u001b[0m\u001b[0;34m.\u001b[0m\u001b[0mhist\u001b[0m\u001b[0;34m(\u001b[0m\u001b[0mpx\u001b[0m\u001b[0;34m,\u001b[0m \u001b[0mbins\u001b[0m\u001b[0;34m=\u001b[0m\u001b[0mbins\u001b[0m\u001b[0;34m)\u001b[0m\u001b[0;34m;\u001b[0m\u001b[0;34m\u001b[0m\u001b[0;34m\u001b[0m\u001b[0m\n",
      "\u001b[0;31mAttributeError\u001b[0m: 'numpy.ndarray' object has no attribute 'freqhist_bins'"
     ]
    }
   ],
   "source": [
    "bins = px.freqhist_bins(20)\n",
    "print(bins)\n",
    "plt.figure(figsize=(15, 4))\n",
    "plt.hist(px, bins=bins);"
   ]
  },
  {
   "cell_type": "markdown",
   "metadata": {},
   "source": [
    "In this case as we only have 256 values it is not going to make difference."
   ]
  },
  {
   "cell_type": "markdown",
   "metadata": {},
   "source": [
    "## 3. CNN\n",
    "### 3.1 Define the model\n",
    "\n",
    "In tensorflow 2.0 Keras is already included as its Sequential API is really easy to use. With the Sequential API you just have just to add one layer at a time starting from the input.\n",
    "\n",
    "First is the **convolutional (Conv2D) layer**, a set of learnable filters. I choosed to set 32 filters for the two firsts conv2D layers and 64 filters for the two last ones. Each filter transforms a part of the image (defined by the kernel size) using the kernel filter. The kernel filter matrix is applied on the whole image. Filters can be seen as a transformation of the image.\n",
    "\n",
    "The CNN can isolate features that are useful everywhere from these transformed images (feature maps).\n",
    "\n",
    "The second important layer in CNN is the **pooling (MaxPool2D) layer**. This layer simply acts as a downsampling filter by looking at the 2 neighboring pixels and picking the maximal value. This technique is used to reduce computational cost, and to some extent also reduce overfitting. We have to choose the pooling size. The highest the pooling dimension, more the downsampling is important.\n",
    "\n",
    "Combining convolutional and pooling layers CNN are able to combine local features and learn more global features of the image.\n",
    "\n",
    "**Dropout** is a regularization method, where a proportion of nodes in the layer are randomly set to zero with 0.5 probability for each training sample. This forces the network to learn features in a distributed way and the NN have to learn independenly from each other. This technique also improves generalization and reduces the overfitting.\n",
    "\n",
    "**ReLU** is the rectifier, and activation function max(0,x). The rectifier activation function is used to add non linearity to the network.\n",
    "\n",
    "The **Flatten layer** is used to convert the final feature maps into a one single 1D vector. This flattening step is needed so that you can make use of fully connected layers after some convolutional/maxpool layers. It combines all the found local features of the previous convolutional layers.\n",
    "\n",
    "And finally two fully-connected **(Dense) layers** which is just an Artificial Neural Networks (ANN) classifier. In the last layer(Dense(10,activation=\"softmax\")) the net outputs  the distribution of probability for each class."
   ]
  },
  {
   "cell_type": "code",
   "execution_count": 56,
   "metadata": {},
   "outputs": [],
   "source": [
    "# Set the CNN model with architechture:\n",
    "#    In -> [[Conv2D->relu]*2 -> MaxPool2D -> Dropout]*2 -> Flatten -> Dense -> Dropout -> Out\n",
    "\n",
    "model = Sequential()\n",
    "\n",
    "\n",
    "model.add(Conv2D(filters =32, kernel_size=(5,5), padding=\"Same\", \n",
    "                 activation=\"relu\", input_shape = (28,28,1)))\n",
    "model.add(Conv2D(filters=32, kernel_size=(5,5), padding=\"Same\",\n",
    "                 activation=\"relu\"))\n",
    "model.add(MaxPool2D(pool_size=(2,2)))\n",
    "model.add(Dropout(0.25))\n",
    "\n",
    "\n",
    "model.add(Conv2D(filters=64, kernel_size=(3,3), padding=\"Same\",\n",
    "                 activation =\"relu\"))\n",
    "model.add(Conv2D(filters=64, kernel_size=(3,3), padding=\"Same\",\n",
    "                 activation=\"relu\"))\n",
    "model.add(MaxPool2D(pool_size=(2,2), strides=(2,2)))\n",
    "model.add(Dropout(0.25))\n",
    "\n",
    "\n",
    "model.add(Flatten())\n",
    "model.add(Dense(256, activation=\"relu\"))\n",
    "model.add(Dropout(0.5))\n",
    "model.add(Dense(10, activation=\"softmax\"))"
   ]
  },
  {
   "cell_type": "markdown",
   "metadata": {},
   "source": [
    "### 3.2 Set the optimizer and annealer\n",
    "\n",
    "Now we need to set up a **score function** a **loss function** and an **optimisation algorithm**.\n",
    "\n",
    "We define the loss function to measure how poorly our model performs on images with known labels. It is the error rate between the oberved labels and the predicted ones. We use a specific form for categorical classifications (>2 classes) called the ***\"categorical_crossentropy\"***.\n",
    "\n",
    "The most important function is the optimizer. This function will iteratively improve parameters (filters kernel values, weights and bias of neurons ...) in order to minimise the loss. RMSprop (with default values) is a very effective optimizer. The RMSProp update adjusts the Adagrad method in a very simple way in an attempt to reduce its aggressive, monotonically decreasing learning rate. We could also have used Stochastic Gradient Descent ('sgd') optimizer, but it is slower than RMSprop.\n",
    "\n",
    "The metric function \"accuracy\" is used is to evaluate the performance our model. This metric function is similar to the loss function, except that the results from the metric evaluation are not used when training the model (only for evaluation)."
   ]
  },
  {
   "cell_type": "code",
   "execution_count": 57,
   "metadata": {},
   "outputs": [],
   "source": [
    "# Define the optimizer\n",
    "optimizer = RMSprop(lr=0.001, rho=0.9, epsilon=1e-08, decay=0.0)"
   ]
  },
  {
   "cell_type": "code",
   "execution_count": 58,
   "metadata": {},
   "outputs": [],
   "source": [
    "# Compile the model\n",
    "model.compile(optimizer = optimizer , loss = \"categorical_crossentropy\", metrics=[\"accuracy\"])"
   ]
  },
  {
   "cell_type": "markdown",
   "metadata": {},
   "source": [
    "In order to make the optimizer converge faster and closest to the global minimum of the loss function, we use an **annealing method** of the learning rate (LR).\n",
    "\n",
    "The LR is the step by which the optimizer walks through the 'loss landscape'. The higher LR, the bigger are the steps and the quicker is the convergence. However the sampling is very poor with an high LR and the optimizer could probably fall into a local minima.\n",
    "\n",
    "Its better to have a decreasing learning rate during the training to reach efficiently the global minimum of the loss function.\n",
    "\n",
    "To keep the advantage of the fast computation time with a high LR, i decreased the LR dynamically every X steps (epochs) depending if it is necessary (when accuracy is not improved).\n",
    "\n",
    "With the ReduceLROnPlateau function from Keras.callbacks, we choose to reduce the LR by half if the accuracy is not improved after 3 epochs."
   ]
  },
  {
   "cell_type": "code",
   "execution_count": 59,
   "metadata": {},
   "outputs": [],
   "source": [
    "# Set a learning rate annealer\n",
    "learning_rate_reduction = ReduceLROnPlateau(monitor='val_acc', \n",
    "                                            patience=3, \n",
    "                                            verbose=1, \n",
    "                                            factor=0.5, \n",
    "                                            min_lr=0.00001)"
   ]
  },
  {
   "cell_type": "code",
   "execution_count": 60,
   "metadata": {},
   "outputs": [],
   "source": [
    "epochs = 1 # Turn epochs to 30 to get 0.9967 accuracy\n",
    "batch_size = 86"
   ]
  },
  {
   "cell_type": "markdown",
   "metadata": {},
   "source": [
    "### 3.3 Data augmentation\n",
    "\n",
    "In order to **avoid overfitting** we need to expand artificially our handwritten digit dataset. We can make the existing dataset even larger. The idea is to alter the training data with small transformations to reproduce the variations occuring when someone is writing a digit.\n",
    "\n",
    "Some operations we can perform while keeping the same labels, include:\n",
    "\n",
    "- Translation\n",
    "- Rotation\n",
    "- Zooming\n",
    "- Random crops\n",
    "- Grayscales\n",
    "- Color jitters\n",
    "- Horizontal flips\n",
    "- Vertical flips\n",
    "\n",
    "This way we can triple or more the number of training examples and create a very robust model. This is an important step as it provides a relevant improvement to the model:\n",
    "\n",
    "- Without data augmentation: accuracy of 98.114%\n",
    "- With data augmentation:  99.67% of accuracy"
   ]
  },
  {
   "cell_type": "code",
   "execution_count": null,
   "metadata": {},
   "outputs": [],
   "source": [
    "# Without data augmentation\n",
    "trained_model_no_aug = model.fit(X_tr, Y_tr, batch_size=batch_size, epochs=epochs, \n",
    "                                 validation_data=(X_val, Y_val), verbose=2)"
   ]
  },
  {
   "cell_type": "code",
   "execution_count": null,
   "metadata": {},
   "outputs": [],
   "source": [
    "# With data augmentation to prevent overfitting\n",
    "datagen = ImageDataGenerator(\n",
    "    featurewise_center=False,             # set input mean to 0 over the dataset\n",
    "    samplewise_center=False,              # set each sample mean to 0\n",
    "    featurewise_std_normalization=False,  # divide inputs by std of the dataset\n",
    "    samplewise_std_normalization=False,   # divide each input by its std\n",
    "    zca_whitening=False,                  # apply ZCA whitening\n",
    "    rotation_range=10,                    # randomly rotate images in the range (degrees, 0 to 180)\n",
    "    zoom_range = 0.1,                     # Randomly zoom image \n",
    "    width_shift_range=0.1,                # randomly shift images horizontally (fraction of total width)\n",
    "    height_shift_range=0.1,               # randomly shift images vertically (fraction of total height)\n",
    "    horizontal_flip=False,                # randomly flip images\n",
    "    vertical_flip=False)                  # randomly flip images\n",
    "\n",
    "datagen.fit(X_tra)"
   ]
  },
  {
   "cell_type": "markdown",
   "metadata": {},
   "source": [
    "For the data augmentation:\n",
    "\n",
    "- Randomly rotate some training images by 10 degrees\n",
    "- Randomly Zoom by 10%\n",
    "- Randomly shift images horizontally by 10% of the width\n",
    "- Randomly shift images vertically by 10% of the height\n",
    "- Not vertical_flip nor horizontal_flip since it could have lead to misclassify symetrical numbers such as 6 and 9."
   ]
  },
  {
   "cell_type": "code",
   "execution_count": null,
   "metadata": {},
   "outputs": [],
   "source": [
    "# Fit the model\n",
    "history = model.fit_generator(datagen.flow(X_tr,Y_tr, batch_size=batch_size),\n",
    "                              epochs=epochs, validation_data=(X_val, Y_val),\n",
    "                              verbose=2, steps_per_epoch=X_train.shape[0] // batch_size, \n",
    "                              callbacks=[learning_rate_reduction])"
   ]
  },
  {
   "cell_type": "markdown",
   "metadata": {},
   "source": [
    "## 4. Model Evaluation\n",
    "### 4.1 Training and validation curves"
   ]
  },
  {
   "cell_type": "code",
   "execution_count": null,
   "metadata": {},
   "outputs": [],
   "source": [
    "# Plot the loss and accuracy curves for training and validation \n",
    "fig, ax = plt.subplots(2,1)\n",
    "ax[0].plot(history.history['loss'], color='b', label=\"Training loss\")\n",
    "ax[0].plot(history.history['val_loss'], color='r', label=\"validation loss\",axes =ax[0])\n",
    "legend = ax[0].legend(loc='best', shadow=True)\n",
    "\n",
    "ax[1].plot(history.history['acc'], color='b', label=\"Training accuracy\")\n",
    "ax[1].plot(history.history['val_acc'], color='r',label=\"Validation accuracy\")\n",
    "legend = ax[1].legend(loc='best', shadow=True)"
   ]
  },
  {
   "cell_type": "markdown",
   "metadata": {},
   "source": [
    "The code below is for plotting loss and accuracy curves for training and validation. Below it's the training and validation curves with 30 epochs (2h30)\n",
    "\n",
    "\n",
    "\n",
    "The model reaches almost 99% (98.7+%) accuracy on the validation dataset after 2 epochs. The validation accuracy is greater than the training accuracy almost every time during the training. That means that our model doesn't overfit the training set."
   ]
  },
  {
   "cell_type": "markdown",
   "metadata": {},
   "source": [
    "### 4.2 Confusion matrix\n",
    "\n",
    "The confusion matrix is very helpfull to see the model drawbacks.\n",
    "\n",
    "This is the confusion matrix on the validation results."
   ]
  },
  {
   "cell_type": "code",
   "execution_count": null,
   "metadata": {},
   "outputs": [],
   "source": [
    "def plot_confusion_matrix(cm, classes,\n",
    "                          normalize=False,\n",
    "                          title=\"Confusion matrix\",\n",
    "                          cmap=plt.cm.Blues):\n",
    "    \"\"\"\n",
    "    This function prints and plots the confusion matrix.\n",
    "    Normalization can be applied by setting `normalize=True`.\n",
    "    \"\"\"\n",
    "    plt.imshow(cm, interpolation=\"nearest\", cmap=cmap)\n",
    "    plt.title(title)\n",
    "    plt.colorbar()\n",
    "    tick_marks = np.arange(len(classes))\n",
    "    plt.xticks(tick_marks, classes, rotation=45)\n",
    "    plt.yticks(tick_marks, classes)\n",
    "\n",
    "    if normalize:\n",
    "        cm = cm.astype(\"float\") / cm.sum(axis=1)[:, np.newaxis]\n",
    "\n",
    "    thresh = cm.max() / 2.\n",
    "    for i, j in itertools.product(range(cm.shape[0]), range(cm.shape[1])):\n",
    "        plt.text(j, i, cm[i, j],\n",
    "                 horizontalalignment=\"center\",\n",
    "                 color=\"white\" if cm[i, j] > thresh else \"black\")\n",
    "\n",
    "    plt.tight_layout()\n",
    "    plt.ylabel(\"True label\")\n",
    "    plt.xlabel(\"Predicted label\")\n",
    "\n",
    "# Predict the values from the validation dataset\n",
    "Y_pred = model.predict(X_val)\n",
    "# Convert predictions classes to one hot vectors \n",
    "Y_pred_classes = np.argmax(Y_pred, axis=1) \n",
    "# Convert validation observations to one hot vectors\n",
    "Y_true = np.argmax(Y_val, axis=1) \n",
    "# compute the confusion matrix\n",
    "confusion_mtx = confusion_matrix(Y_true, Y_pred_classes) \n",
    "# plot the confusion matrix\n",
    "plot_confusion_matrix(confusion_mtx, classes=range(10))"
   ]
  },
  {
   "cell_type": "markdown",
   "metadata": {},
   "source": [
    "We can see that the CNN performs very well on all digits with few errors considering the size of the validation set (4200 images).\n",
    "\n",
    "However, it seems that our CNN has some troubles with the 4s and some are misclassified as 9s.\n",
    "\n",
    "Let's investigate for errors.\n",
    "\n",
    "We want to see the most important errors. For that purpose we select the biggest differences between the probabilities of the real label and the predicted labels in the results."
   ]
  },
  {
   "cell_type": "code",
   "execution_count": null,
   "metadata": {},
   "outputs": [],
   "source": [
    "# Display error results \n",
    "\n",
    "# Errors are difference between predicted labels and true labels\n",
    "errors = (Y_pred_classes - Y_true != 0)\n",
    "\n",
    "Y_pred_classes_errors = Y_pred_classes[errors]\n",
    "Y_pred_errors = Y_pred[errors]\n",
    "Y_true_errors = Y_true[errors]\n",
    "X_val_errors = X_val[errors]\n",
    "\n",
    "def display_errors(errors_index,img_errors,pred_errors, obs_errors):\n",
    "    \"\"\" This function shows 6 images with their predicted and real labels\"\"\"\n",
    "    n = 0\n",
    "    nrows = 2\n",
    "    ncols = 3\n",
    "    fig, ax = plt.subplots(nrows,ncols,sharex=True,sharey=True)\n",
    "    for row in range(nrows):\n",
    "        for col in range(ncols):\n",
    "            error = errors_index[n]\n",
    "            ax[row,col].imshow((img_errors[error]).reshape((28,28)))\n",
    "            ax[row,col].set_title(\n",
    "                f\"Predicted label :{pred_errors[error]}\\nTrue label :{obs_errors[error]}\")\n",
    "            n += 1\n",
    "\n",
    "# Probabilities of the wrong predicted numbers\n",
    "Y_pred_errors_prob = np.max(Y_pred_errors,axis = 1)\n",
    "\n",
    "# Predicted probabilities of the true values in the error set\n",
    "true_prob_errors = np.diagonal(np.take(Y_pred_errors, Y_true_errors, axis=1))\n",
    "\n",
    "# Difference between the probability of the predicted label and the true label\n",
    "delta_pred_true_errors = Y_pred_errors_prob - true_prob_errors\n",
    "\n",
    "# Sorted list of the delta prob errors\n",
    "sorted_dela_errors = np.argsort(delta_pred_true_errors)\n",
    "\n",
    "# Top 6 errors \n",
    "most_important_errors = sorted_dela_errors[-6:]\n",
    "\n",
    "# Show the top 6 errors\n",
    "display_errors(most_important_errors, X_val_errors, Y_pred_classes_errors, Y_true_errors)"
   ]
  },
  {
   "cell_type": "markdown",
   "metadata": {},
   "source": [
    "The most important errors are also the most interesting ones.\n",
    "\n",
    "It is clear that for the selected cases the model is not doing anything strange, in fact the errors are quite human as many people will find difficult to read these digits. We see that the 9 it's very close to 4 as well as the last 9 is very misleading, much closer to a 0 than to a nine."
   ]
  },
  {
   "cell_type": "markdown",
   "metadata": {},
   "source": [
    "## 5. Prediction\n",
    "### 5.1 Predict samples"
   ]
  },
  {
   "cell_type": "code",
   "execution_count": null,
   "metadata": {},
   "outputs": [],
   "source": [
    "# predict results\n",
    "results = model.predict(test)\n",
    "\n",
    "# select the indix with the maximum probability\n",
    "results = np.argmax(results,axis = 1)\n",
    "\n",
    "results = pd.Series(results,name=\"Label\")"
   ]
  },
  {
   "cell_type": "code",
   "execution_count": null,
   "metadata": {},
   "outputs": [],
   "source": [
    "submission = pd.concat([pd.Series(range(1,28001),name=\"ImageId\"), results], axis=1)\n",
    "\n",
    "submission.to_csv(\"cnn_mnist_datagen.csv\", index=False)"
   ]
  },
  {
   "cell_type": "markdown",
   "metadata": {},
   "source": [
    "[1] [ImageNet: A Large-Scale Hierarchical Image Database](https://ieeexplore.ieee.org/document/5206848), 2009.\n",
    "\n",
    "[2] [ImageNet Classification with Deep Convolutional Neural Networks](https://papers.nips.cc/paper/4824-imagenet-classification-with-deep-convolutional-neural-networks), 2012.\n",
    "\n",
    "[3] [Visualizing and Understanding Convolutional Networks](https://arxiv.org/abs/1311.2901), 2013.\n",
    "\n",
    "[4] [Going Deeper with Convolutions](https://arxiv.org/abs/1409.4842), 2014.\n",
    "\n",
    "[5] [Very Deep Convolutional Networks for Large-Scale Image Recognition](https://arxiv.org/abs/1409.1556), 2015.\n",
    "\n",
    "[6] [Deep Residual Learning for Image Recognition](https://arxiv.org/abs/1512.03385), 2015.\n",
    "\n",
    "[7] [ImageNet Large Scale Visual Recognition Challenge](https://link.springer.com/article/10.1007/s11263-015-0816-y), 2015.\n",
    "\n",
    "[8] [Image Classification transfer learning with Inception v3](https://codelabs.developers.google.com/codelabs/cpb102-txf-learning/index.html#0)\n",
    "\n",
    "[9] [Advanced Guide to Inception v3 on Cloud TPU](https://cloud.google.com/tpu/docs/inception-v3-advanced)"
   ]
  },
  {
   "cell_type": "code",
   "execution_count": null,
   "metadata": {},
   "outputs": [],
   "source": []
  }
 ],
 "metadata": {
  "kernelspec": {
   "display_name": "Python 3",
   "language": "python",
   "name": "python3"
  },
  "language_info": {
   "codemirror_mode": {
    "name": "ipython",
    "version": 3
   },
   "file_extension": ".py",
   "mimetype": "text/x-python",
   "name": "python",
   "nbconvert_exporter": "python",
   "pygments_lexer": "ipython3",
   "version": "3.7.3"
  }
 },
 "nbformat": 4,
 "nbformat_minor": 2
}
