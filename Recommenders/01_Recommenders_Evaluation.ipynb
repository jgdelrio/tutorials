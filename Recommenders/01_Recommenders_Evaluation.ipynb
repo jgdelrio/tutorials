{
 "cells": [
  {
   "cell_type": "markdown",
   "metadata": {},
   "source": [
    "# Recommenders Evaluation\n",
    "\n",
    "Previously we have seen the basics of Recommender Systems and we have created a variety of models (Most Popular, Content Recommender, Collaborative Filtering Models...).\n",
    "\n",
    "\n",
    "## Metrics:\n",
    "\n",
    "1. **Basic metrics** like RMSE or MAE can measure the deviation in the predictions and are very quick to run. The downside typically is that the model tends to achieve a good fit for the items with the most ratings but items with few ratings don't account for much in therms of their impact on the loss function. As a result predictions for items with few ratings will be off spoiling the results.\n",
    "2. **Specialized metrics** that focus purely on recommendation systems. In this category we have metrics like **Mean Average Precision (MAP)** and **Normalized Discounted Cumulative Gain (NDCG)**.\n",
    "3. **Description metrics** include metrics that help to characterize the model. For example *item coverage*, calculating how many items are we recommending from the list of all posible items in our database. Or *coverage by year* to measure if we recommend only articles from this year or we are distributing the results across a wider range. Other possibilities that may be relevant depending on the sector include by genre, by author, by manufacturer, by size, by color, etc...\n",
    "\n",
    "In many recommendation metrics we use <metric@k>, for example MAP@k or NDCG@k.<br>\n",
    "This means that for every user we ask to get only **k** recommendations and it is based on the accuracy of those k recommendations in which we want to characterize the model and improve the model. The logic behind is that most of the time we only care about the first 5 or 10 recommendations for a user as he is unlikely to explore all the options available, or our interface cannot provide more recommendations in a reasonable way.<br>\n",
    "So @k is a cutoff that we apply to make sure that our models focus on improving the recommendations that really matter, the ones that the user is going to be exposed to.\n",
    "\n",
    "### **Mean Average Precision**\n",
    "MAP is just an average of APs (average precision) for all users in the evaluation. So if we have 1k users, we sum APs for each user and divide the sum by 1k. As mentioned, we will use MAP@k\n",
    "\n",
    "Important factors to remember:\n",
    "* We want to recommend at most k items for each user.\n",
    "* It is worth to submit all k recommendations because we are not penalized for bad guesses.\n",
    "* Order matters, so it’s better to submit more certain recommendations first followed by recommendations in which we have less confidence.\n",
    "\n",
    "<br><br>\n",
    "To understand MAP we do a quick recap of bynary classification metrics Precision and Recall:\n",
    "\\begin{equation*}\n",
    "Precision:​​​​​​P​​=​​{\\frac{\\#​correct​positives}{\\#​predicted​positives}}\n",
    "\\end{equation*}\n",
    "\n",
    "\\begin{equation*}\n",
    "Recall:​​​​​​R​​=​​{\\frac{\\#​correct​positives}{\\#​with​condition}}\n",
    "\\end{equation*}\n",
    "\n",
    "Also in different terminology:<br>\n",
    "* Precision = (1 - false positive rate)\n",
    "* Recall = (1 - false negative rate)\n",
    "\n",
    "These metrics translated to the specific application in Recommender Systems is:\n",
    "\\begin{equation*}\n",
    "Recommender​​Precision:​​​​​​P​​=​​{\\frac{\\#​of​our​relevant​recommendations}{\\#​of​items​that​we​recommend}}\n",
    "\\end{equation*}\n",
    "\n",
    "\\begin{equation*}\n",
    "Recommender​​Recall:​​​​​​R​​=​​{\\frac{\\#​of​our​relevant​recommendations}{\\#​of​all​possible​relevant​recommendations}}\n",
    "\\end{equation*}\n",
    "\n",
    "And to give an example, we are asked to recommend 5 items (k=5) but from the items we have only 3 relevant (m=3) to the user and my succesful predictions are ranked as [0, 1, 1, 0, 0]:<br>\n",
    "* \\# of items that we recommend is 5\n",
    "* \\# of our relevant recommendations is 2\n",
    "* \\# of all possible relevant recommendations is 3\n",
    "* **precision** is 2/5\n",
    "* **recall** is 2/3\n",
    "\n",
    "Now we apply the cutoff at k and the resulting metric that we obtain is:\n",
    "\\begin{equation*}\n",
    "AP@k​​=​​{\\frac{1}{m}}​\\sum_{k=1}^N​\\left(P(k)​if​k^{th}​item​was​relevant \\right)​​=​​{\\frac{1}{m}}​\\sum_{k=1}^N​P(k)​\\cdot​rel(k)\n",
    "\\end{equation*}\n",
    "\n",
    "With:\n",
    "\\begin{equation*}\n",
    "rel(k)​​=​​1​​​​--->​​is​relevant\n",
    "\\end{equation*}\n",
    "\\begin{equation*}\n",
    "rel(k)​​=​​0​​​​--->​not​relevant\n",
    "\\end{equation*}\n",
    "\n",
    "#### AP example\n",
    "\n",
    "Given N=3 recommendations (AP@3) for a user, depending on how relevant are the recommendations we can have:\n",
    "\n",
    "| Recommendations | Precision@k | AP@k |\n",
    "|:-----------:|:-----------:|:-----------:|\n",
    "|  [0,0,1]  |   [0,0,1/3]   | (1/3)[1/3] = 0.11 |\n",
    "|  [0,1,1]  |  [0,1/2,2/3]  | (1/3)[(1/2) + (2/3)] = 0.38 |\n",
    "|  [1,1,1]  | [1/1,2/2,3/3] | (1/3)[(1) + (2/2) + (3/3)] = 1 |\n",
    "\n",
    "So the more accurate recommendations I get the larger AP gets because we only sum the k<sup>th</sup> subset precision if the k<sup>th</sup> recommendation was correct so there is a heavy penalty when having incorrect recommendations as well as for not having the correct recommendations at the front.\n",
    "\n",
    "AP does not penalize having more recommendations but it is really worth to make sure you have the correct ones at the front.\n",
    "\n",
    "#### MAP@k\n",
    "Now accounting for all the possible users |U|, we create the averate of the metric for each possible user:\n",
    "\\begin{equation*}\n",
    "MAP@k​​=​​{\\frac{1}{|U|}}​\\sum_{u=1}^z​\\left( AP@k \\right)_u​​=​​{\\frac{1}{|U|}}​\\sum_{u=1}^z​{\\frac{1}{m}}​\\sum_{k=1}^N​P_u(k)​\\cdot​rel_u(k)\n",
    "\\end{equation*}\n",
    "\n",
    "Some variations of this metric may try to solve specific applications:\n",
    "* Avoid penalization when there are more valid recommendations than the ones requested\n",
    "\\begin{equation*}\n",
    "AP@k​​=​​{\\frac{1}{min(m,N)}}​\\sum_{k=1}^N​P(k)​\\cdot​rel(k)\n",
    "\\end{equation*}\n",
    "\n",
    "* Define AP = 0 if m = 0 (it will move the final MAP down).\n",
    "\n",
    "* Expressed in terms of precision and recall\n",
    "\\begin{equation*}\n",
    "AP@k​​​=​​​\\sum_{k=1}^N​(precision​at​k)​\\cdot​(change​in​recall​at​k)​​​=​​​\\sum_{k=1}^N​P(k)​\\Delta r(k)\n",
    "\\end{equation*}\n",
    "In this formulation we don't need the 1/m as the change in recall is exactly 1/m\n",
    "\n",
    "\n",
    "#### Notes\n",
    "- MAP is popular in information retrieval (google search) and recommendations (products).\n",
    "- Evaluates if the results are relevant and how they are sorted.\n",
    "- Implies a ranking factor and is very relevant if we want the top recommendations first.\n",
    "\n",
    "\n",
    "### **Normalized Discounted Cumulative Gain**\n",
    "NDCG computes a *relevance* score (gain) for each item. If we don't have feedback for an item, the gain is zero. Adding all the gains is the cumulative part but as we want the most relevant items first, we divide each gain by a growing number (typically a logarithm of the item position) which is the *discounting*.\n",
    "\n",
    "\\begin{equation*}\n",
    "DCG@k​​​=​​​\\sum_{i=1}^k​{\\frac{rel_i}{log_2(i​+​1)}}\n",
    "\\end{equation*}\n",
    "\n",
    "Finally because DCGs are not directly comparable across users, we normalize them. The worst possible DCG is zero. For the best, we arrange the items in the test set in the ideal order, take the first *k* items and compute the DCG. Then we divide the raw DCG by this ideal DCT and that's the NDCG@k (a metric between 0 and 1).\n",
    "\n",
    "\\begin{equation*}\n",
    "NDCG@k​​​=​​​{\\frac{DCG@k}{IDCG@k}}\n",
    "\\end{equation*}\n",
    "\n",
    "An important note is that the test set consists of all items outside the train set including those not ranked by the user. Some people restrict the test set to the user’s held-out ratings, so the recommender’s task is reduced to ordering those relatively few items but this is not a realistic scenario.\n",
    "\n",
    "#### DCG example:\n",
    "- Given 6 scores from 0 to 3: [3,2,3,0,1,2]\n",
    "- CG<sub>6</sub> = 3 + 2 + 3 + 0 + 1 + 2 = 11  Note that changing the order of the document do not change CG.\n",
    "- DCG adds the relevance of how they are sorted:\n",
    "\n",
    "| i | rel i | log2(i+1) | (rel i) / (log2 (i+1) |\n",
    "|:-----------:|:-----------:|:-----------:|:-----------:|\n",
    "| 1 | 3 |   1   |   3   |\n",
    "| 2 | 2 | 1.585 | 1.262 |\n",
    "| 3 | 3 |   2   |  1.5  |\n",
    "| 4 | 0 | 2.322 |   0   |\n",
    "| 5 | 1 | 2.585 | 0.387 |\n",
    "| 6 | 2 | 2.807 | 0.712 |\n",
    "\n",
    "- DCG<sub>6</sub> = 3 + 1.262 + 1.5 + 0 + 0.387 + 0.712 = 6.861\n",
    "\n",
    "### MAP vs NDCG\n",
    "- MAP is a metric for binary feedback while NDCG can be used in any scenario with a relevance score (binary, integer or real).\n",
    "\n",
    "### Weak and Strong generalization\n",
    "Users and items can be divided in two groups: those in the training set and those not in it.<br>\n",
    "The validation of scores for the elements within the training set is the **weak generalization**, and for the others, outside the training set, is the **strong generalization**.\n",
    "\n",
    "Strong generalization account for real life problems like **cold start**, that is users/items from which we do not have previous information."
   ]
  },
  {
   "cell_type": "code",
   "execution_count": 1,
   "metadata": {},
   "outputs": [
    {
     "name": "stdout",
     "output_type": "stream",
     "text": [
      "CPython 3.7.3\n",
      "IPython 7.5.0\n",
      "\n",
      "numpy 1.16.4\n",
      "pandas 0.24.2\n",
      "skmultilearn unknown\n",
      "\n",
      "compiler   : GCC 7.3.0\n",
      "system     : Linux\n",
      "release    : 5.0.0-27-generic\n",
      "machine    : x86_64\n",
      "processor  : x86_64\n",
      "CPU cores  : 8\n",
      "interpreter: 64bit\n",
      "Git hash   : 49826ef1b96601910a3243beb70b988c0ea44380\n"
     ]
    }
   ],
   "source": [
    "%load_ext autoreload\n",
    "%autoreload 2\n",
    "%matplotlib inline\n",
    "%load_ext watermark\n",
    "%watermark -v -m -p numpy,pandas,skmultilearn -g\n",
    "\n",
    "import os\n",
    "import sys\n",
    "import re\n",
    "import yaml\n",
    "import dateutil\n",
    "import watermark\n",
    "from tqdm import tqdm\n",
    "from math import floor\n",
    "from pprint import pprint as pp\n",
    "from ast import literal_eval\n",
    "\n",
    "import numpy as np\n",
    "import pandas as pd\n",
    "import matplotlib as mpl\n",
    "import matplotlib.pyplot as plt\n",
    "import seaborn as sns\n",
    "import pandas_profiling\n",
    "from pandas.plotting import register_matplotlib_converters    # for pandas_profiling\n",
    "\n",
    "from fastai.collab import * \n",
    "\n",
    "register_matplotlib_converters()                              # for pandas_profiling\n",
    "sys.path.append(os.pardir)"
   ]
  },
  {
   "cell_type": "markdown",
   "metadata": {},
   "source": [
    "### Load ratings and metadata"
   ]
  },
  {
   "cell_type": "code",
   "execution_count": 2,
   "metadata": {},
   "outputs": [],
   "source": [
    "metadata = pd.read_csv('./data/raw/movies_metadata.csv', low_memory=False)\n",
    "ratings_sm = pd.read_csv(\"./data/raw/ratings_small.csv\", low_memory=False)\n",
    "credits = pd.read_csv('./data/raw/credits.csv')\n",
    "keywords = pd.read_csv('./data/raw/keywords.csv')"
   ]
  },
  {
   "cell_type": "code",
   "execution_count": 3,
   "metadata": {},
   "outputs": [],
   "source": [
    "# Remove rows with bad IDs.\n",
    "bad_ids =  [idx for idx, k in zip(metadata.index, metadata['id'].values) if not k.isdigit()]\n",
    "metadata = metadata.drop(bad_ids)\n",
    "\n",
    "metadata['id'] = metadata['id'].astype('int')\n",
    "valid_ids = ratings_sm.movieId.unique()\n",
    "metadata = metadata[metadata['id'].isin(valid_ids)]\n",
    "\n",
    "metadata.release_date.fillna('1980-01-01', inplace=True)\n",
    "metadata['release_date'] = metadata.release_date.apply(dateutil.parser.parse)\n",
    "metadata['overview'] = metadata['overview'].fillna('')\n",
    "\n",
    "# Convert IDs to int. Required for merging\n",
    "keywords['id'] = keywords['id'].astype('int')\n",
    "credits['id'] = credits['id'].astype('int')\n",
    "\n",
    "# Merge keywords and credits into your main metadata dataframe\n",
    "metadata = metadata.merge(credits, on='id')\n",
    "metadata = metadata.merge(keywords, on='id')\n",
    "\n",
    "features = ['cast', 'crew', 'keywords', 'genres']\n",
    "for feature in features:\n",
    "    metadata[feature] = metadata[feature].apply(literal_eval)"
   ]
  },
  {
   "cell_type": "code",
   "execution_count": 4,
   "metadata": {},
   "outputs": [],
   "source": [
    "def get_director(x):\n",
    "    \"\"\"Get the director's name from the crew feature. If director is not listed, return NaN\"\"\"\n",
    "    for i in x:\n",
    "        if i['job'] == 'Director':\n",
    "            return i['name']\n",
    "    return np.nan"
   ]
  },
  {
   "cell_type": "code",
   "execution_count": 5,
   "metadata": {},
   "outputs": [],
   "source": [
    "from src.recommenders import *\n",
    "from sklearn.model_selection import train_test_split"
   ]
  },
  {
   "cell_type": "code",
   "execution_count": 6,
   "metadata": {},
   "outputs": [],
   "source": [
    "# Define new director, cast, genres and keywords features that are in a suitable form.\n",
    "metadata['director'] = metadata['crew'].apply(get_director)\n",
    "\n",
    "features = ['cast', 'keywords', 'genres']\n",
    "for feature in features:\n",
    "    metadata[feature] = metadata[feature].apply(get_topn)"
   ]
  },
  {
   "cell_type": "code",
   "execution_count": 7,
   "metadata": {},
   "outputs": [],
   "source": [
    "# Apply clean_data function to your features.\n",
    "features = ['cast', 'keywords', 'director', 'genres']\n",
    "\n",
    "for feature in features:\n",
    "    metadata[feature] = metadata[feature].apply(clean_str)"
   ]
  },
  {
   "cell_type": "code",
   "execution_count": 8,
   "metadata": {},
   "outputs": [],
   "source": [
    "def create_combination(x):\n",
    "    return ' '.join(x['keywords']) + ' ' + ' '.join(x['cast']) + \\\n",
    "           ' ' + x['director'] + ' ' + ' '.join(x['genres'])"
   ]
  },
  {
   "cell_type": "code",
   "execution_count": 9,
   "metadata": {},
   "outputs": [],
   "source": [
    "metadata['combination'] = metadata.apply(create_combination, axis=1)"
   ]
  },
  {
   "cell_type": "markdown",
   "metadata": {},
   "source": [
    "#### Split data"
   ]
  },
  {
   "cell_type": "code",
   "execution_count": 10,
   "metadata": {},
   "outputs": [],
   "source": [
    "X_tr, X_te = train_test_split(ratings_sm, test_size=0.25, random_state=42)\n",
    "metadata_tr = metadata[metadata.id.isin(X_tr.movieId.unique())]"
   ]
  },
  {
   "cell_type": "code",
   "execution_count": 11,
   "metadata": {},
   "outputs": [],
   "source": [
    "content_rec = ContentRecommender()\n",
    "content_rec.train(metadata_tr, 'id', 'overview')"
   ]
  },
  {
   "cell_type": "code",
   "execution_count": 12,
   "metadata": {},
   "outputs": [],
   "source": [
    "# X_tr.to_csv('./data/processed/X_tr.zip', header=False, compression='zip')\n",
    "# X_te.to_csv('./data/processed/X_te.zip', header=False, compression='zip')\n",
    "# metadata.to_csv('./data/processed/metadata.zip', header=False, compression='zip')\n",
    "# metadata_tr.to_csv('./data/processed/metadata_tr.zip', header=False, compression='zip')"
   ]
  },
  {
   "cell_type": "code",
   "execution_count": 13,
   "metadata": {},
   "outputs": [],
   "source": [
    "# X_tr = pd.read_csv('./data/processed/X_tr.zip')\n",
    "# X_te = pd.read_csv('./data/processed/X_te.zip')\n",
    "# metadata = pd.read_csv('./data/processed/metadata.zip'')\n",
    "# metadata_tr = pd.read_csv('./data/processed/metadata_tr.zip')"
   ]
  },
  {
   "cell_type": "code",
   "execution_count": 15,
   "metadata": {},
   "outputs": [],
   "source": [
    "# content_recommendations = content_rec.recommend_df(X_tr, 'userId', 'movieId')"
   ]
  },
  {
   "cell_type": "code",
   "execution_count": null,
   "metadata": {},
   "outputs": [],
   "source": []
  },
  {
   "cell_type": "code",
   "execution_count": null,
   "metadata": {},
   "outputs": [],
   "source": []
  },
  {
   "cell_type": "code",
   "execution_count": null,
   "metadata": {},
   "outputs": [],
   "source": []
  },
  {
   "cell_type": "code",
   "execution_count": null,
   "metadata": {},
   "outputs": [],
   "source": []
  },
  {
   "cell_type": "code",
   "execution_count": null,
   "metadata": {},
   "outputs": [],
   "source": []
  },
  {
   "cell_type": "code",
   "execution_count": null,
   "metadata": {},
   "outputs": [],
   "source": [
    "# Get all the classifiers that we want to evaluate into the list of models...\n",
    "models = [\n",
    "    binrel_clf,\n",
    "    multinomial_csf,\n",
    "    random_forest_csf,\n",
    "    extra_tree_csf,\n",
    "    ensamble_trees_csf,\n",
    "    multiclass_svm_csf,\n",
    "]\n",
    "CV = 5\n",
    "cv_df = pd.DataFrame(index=range(CV * len(models)))      # Empty DataFrame to allocate scores\n",
    "entries = []\n",
    "\n",
    "# Score all models\n",
    "for model in models:\n",
    "    # Extract the model name from the pipeline classifier\n",
    "    model_name = [(step[1].classifier.__class__.__name__ if hasattr(step[1], 'classifier') \n",
    "                   else step[1].__class__.__name__ ) for step in model.steps if step[0] == 'clf'][0]\n",
    "    accuracies = cross_val_score(model, X_train, df_bin_labels, scoring='accuracy', cv=CV)\n",
    "    \n",
    "    for idx, accuracy in enumerate(accuracies):\n",
    "        entries.append((model_name, idx, accuracy))\n",
    "        \n",
    "cv_df = pd.DataFrame(entries, columns=['model_name', 'fold_index', 'accuracy'])"
   ]
  },
  {
   "cell_type": "code",
   "execution_count": null,
   "metadata": {},
   "outputs": [],
   "source": [
    "g = sns.boxplot(x='model_name', y='accuracy', data=cv_df)\n",
    "g.set_xticklabels(g.get_xticklabels(), rotation=30)\n",
    "sns.stripplot(x='model_name', y='accuracy', data=cv_df, size=8, jitter=True, edgecolor=\"gray\", linewidth=2)\n",
    "plt.show()"
   ]
  }
 ],
 "metadata": {
  "kernelspec": {
   "display_name": "Python 3",
   "language": "python",
   "name": "python3"
  },
  "language_info": {
   "codemirror_mode": {
    "name": "ipython",
    "version": 3
   },
   "file_extension": ".py",
   "mimetype": "text/x-python",
   "name": "python",
   "nbconvert_exporter": "python",
   "pygments_lexer": "ipython3",
   "version": "3.7.3"
  }
 },
 "nbformat": 4,
 "nbformat_minor": 2
}
