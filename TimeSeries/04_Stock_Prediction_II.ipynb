{
 "cells": [
  {
   "cell_type": "markdown",
   "metadata": {},
   "source": [
    "# Stock Prices Prediction II\n",
    "\n",
    "\n",
    "## Overview\n",
    "\n",
    "Let's take the LSTM previous model as reference and build extra models\n"
   ]
  },
  {
   "cell_type": "markdown",
   "metadata": {},
   "source": [
    "### Load Basic Libraries"
   ]
  },
  {
   "cell_type": "code",
   "execution_count": 1,
   "metadata": {
    "scrolled": true
   },
   "outputs": [
    {
     "name": "stdout",
     "output_type": "stream",
     "text": [
      "CPython 3.7.3\n",
      "IPython 7.5.0\n",
      "\n",
      "numpy 1.16.4\n",
      "pandas 0.24.2\n",
      "skmultilearn unknown\n",
      "\n",
      "compiler   : GCC 7.3.0\n",
      "system     : Linux\n",
      "release    : 5.0.0-29-generic\n",
      "machine    : x86_64\n",
      "processor  : x86_64\n",
      "CPU cores  : 8\n",
      "interpreter: 64bit\n",
      "Git hash   : 966669261cbed24d4e42c20eb6bb7993c9fb06ed\n"
     ]
    }
   ],
   "source": [
    "%load_ext autoreload\n",
    "%autoreload 2\n",
    "%matplotlib inline\n",
    "%load_ext watermark\n",
    "%watermark -v -m -p numpy,pandas,skmultilearn -g\n",
    "\n",
    "import os\n",
    "import sys\n",
    "import re\n",
    "from tqdm import tqdm\n",
    "import yaml\n",
    "import watermark\n",
    "from math import floor\n",
    "from random import random\n",
    "from pprint import pprint as pp\n",
    "import numpy as np\n",
    "import pandas as pd\n",
    "\n",
    "import matplotlib as mpl\n",
    "import matplotlib.pyplot as plt\n",
    "from matplotlib.pylab import rcParams\n",
    "import seaborn as sns\n",
    "import pandas_profiling\n",
    "from pandas.plotting import register_matplotlib_converters    # for pandas_profiling\n",
    "\n",
    "from sklearn.preprocessing import MinMaxScaler                # data normalization\n",
    "\n",
    "register_matplotlib_converters()                              # for pandas_profiling\n",
    "sys.path.append(os.pardir)\n",
    "# Set figure size\n",
    "rcParams['figure.figsize'] = 20,14\n",
    "\n",
    "from src.ts_func import add_datepart, test_stationarity\n"
   ]
  },
  {
   "cell_type": "markdown",
   "metadata": {},
   "source": [
    "### Constants"
   ]
  },
  {
   "cell_type": "code",
   "execution_count": 2,
   "metadata": {},
   "outputs": [],
   "source": [
    "INPUT_DATA_MMM = \"../data/raw/MMM.csv\""
   ]
  },
  {
   "cell_type": "markdown",
   "metadata": {},
   "source": [
    "### Load and summarize data\n",
    "\n",
    "As we want it to be a time series we specify the format of the date and load it as index:"
   ]
  },
  {
   "cell_type": "code",
   "execution_count": 4,
   "metadata": {},
   "outputs": [
    {
     "name": "stdout",
     "output_type": "stream",
     "text": [
      "<class 'pandas.core.frame.DataFrame'>\n",
      "DatetimeIndex: 12360 entries, 1970-08-25 to 2019-08-23\n",
      "Data columns (total 6 columns):\n",
      "Open         12360 non-null float64\n",
      "High         12360 non-null float64\n",
      "Low          12360 non-null float64\n",
      "Close        12360 non-null float64\n",
      "Adj Close    12360 non-null float64\n",
      "Volume       12360 non-null int64\n",
      "dtypes: float64(5), int64(1)\n",
      "memory usage: 675.9 KB\n"
     ]
    },
    {
     "data": {
      "text/html": [
       "<div>\n",
       "<style scoped>\n",
       "    .dataframe tbody tr th:only-of-type {\n",
       "        vertical-align: middle;\n",
       "    }\n",
       "\n",
       "    .dataframe tbody tr th {\n",
       "        vertical-align: top;\n",
       "    }\n",
       "\n",
       "    .dataframe thead th {\n",
       "        text-align: right;\n",
       "    }\n",
       "</style>\n",
       "<table border=\"1\" class=\"dataframe\">\n",
       "  <thead>\n",
       "    <tr style=\"text-align: right;\">\n",
       "      <th></th>\n",
       "      <th>Open</th>\n",
       "      <th>High</th>\n",
       "      <th>Low</th>\n",
       "      <th>Close</th>\n",
       "      <th>Adj Close</th>\n",
       "      <th>Volume</th>\n",
       "    </tr>\n",
       "    <tr>\n",
       "      <th>Date</th>\n",
       "      <th></th>\n",
       "      <th></th>\n",
       "      <th></th>\n",
       "      <th></th>\n",
       "      <th></th>\n",
       "      <th></th>\n",
       "    </tr>\n",
       "  </thead>\n",
       "  <tbody>\n",
       "    <tr>\n",
       "      <th>1970-08-25</th>\n",
       "      <td>5.390625</td>\n",
       "      <td>5.453125</td>\n",
       "      <td>5.351563</td>\n",
       "      <td>5.437500</td>\n",
       "      <td>0.340982</td>\n",
       "      <td>416000</td>\n",
       "    </tr>\n",
       "    <tr>\n",
       "      <th>1970-08-26</th>\n",
       "      <td>5.437500</td>\n",
       "      <td>5.492188</td>\n",
       "      <td>5.429688</td>\n",
       "      <td>5.437500</td>\n",
       "      <td>0.340982</td>\n",
       "      <td>283200</td>\n",
       "    </tr>\n",
       "    <tr>\n",
       "      <th>1970-08-27</th>\n",
       "      <td>5.437500</td>\n",
       "      <td>5.515625</td>\n",
       "      <td>5.437500</td>\n",
       "      <td>5.484375</td>\n",
       "      <td>0.343921</td>\n",
       "      <td>160000</td>\n",
       "    </tr>\n",
       "  </tbody>\n",
       "</table>\n",
       "</div>"
      ],
      "text/plain": [
       "                Open      High       Low     Close  Adj Close  Volume\n",
       "Date                                                                 \n",
       "1970-08-25  5.390625  5.453125  5.351563  5.437500   0.340982  416000\n",
       "1970-08-26  5.437500  5.492188  5.429688  5.437500   0.340982  283200\n",
       "1970-08-27  5.437500  5.515625  5.437500  5.484375   0.343921  160000"
      ]
     },
     "execution_count": 4,
     "metadata": {},
     "output_type": "execute_result"
    }
   ],
   "source": [
    "dateparse = lambda dates: pd.datetime.strptime(dates, '%Y-%m-%d')\n",
    "df = pd.read_csv(\n",
    "    INPUT_DATA_MMM, \n",
    "    parse_dates=['Date'],    # specifies the column which contains the date-time information\n",
    "    date_parser=dateparse,   # Specifies a function which converts an input string into datetime variable.\n",
    "    index_col='Date')\n",
    "\n",
    "df.info()\n",
    "df.head(3)"
   ]
  },
  {
   "cell_type": "code",
   "execution_count": 5,
   "metadata": {},
   "outputs": [
    {
     "data": {
      "text/html": [
       "<div>\n",
       "<style scoped>\n",
       "    .dataframe tbody tr th:only-of-type {\n",
       "        vertical-align: middle;\n",
       "    }\n",
       "\n",
       "    .dataframe tbody tr th {\n",
       "        vertical-align: top;\n",
       "    }\n",
       "\n",
       "    .dataframe thead th {\n",
       "        text-align: right;\n",
       "    }\n",
       "</style>\n",
       "<table border=\"1\" class=\"dataframe\">\n",
       "  <thead>\n",
       "    <tr style=\"text-align: right;\">\n",
       "      <th></th>\n",
       "      <th>Open</th>\n",
       "      <th>High</th>\n",
       "      <th>Low</th>\n",
       "      <th>Close</th>\n",
       "      <th>Adj Close</th>\n",
       "      <th>Volume</th>\n",
       "    </tr>\n",
       "    <tr>\n",
       "      <th>Date</th>\n",
       "      <th></th>\n",
       "      <th></th>\n",
       "      <th></th>\n",
       "      <th></th>\n",
       "      <th></th>\n",
       "      <th></th>\n",
       "    </tr>\n",
       "  </thead>\n",
       "  <tbody>\n",
       "    <tr>\n",
       "      <th>2019-08-21</th>\n",
       "      <td>162.690002</td>\n",
       "      <td>163.649994</td>\n",
       "      <td>161.050003</td>\n",
       "      <td>161.149994</td>\n",
       "      <td>161.149994</td>\n",
       "      <td>1623600</td>\n",
       "    </tr>\n",
       "    <tr>\n",
       "      <th>2019-08-22</th>\n",
       "      <td>162.000000</td>\n",
       "      <td>162.929993</td>\n",
       "      <td>160.149994</td>\n",
       "      <td>160.880005</td>\n",
       "      <td>160.880005</td>\n",
       "      <td>1441600</td>\n",
       "    </tr>\n",
       "    <tr>\n",
       "      <th>2019-08-23</th>\n",
       "      <td>160.080002</td>\n",
       "      <td>160.350006</td>\n",
       "      <td>155.270004</td>\n",
       "      <td>155.850006</td>\n",
       "      <td>155.850006</td>\n",
       "      <td>4223900</td>\n",
       "    </tr>\n",
       "  </tbody>\n",
       "</table>\n",
       "</div>"
      ],
      "text/plain": [
       "                  Open        High         Low       Close   Adj Close  \\\n",
       "Date                                                                     \n",
       "2019-08-21  162.690002  163.649994  161.050003  161.149994  161.149994   \n",
       "2019-08-22  162.000000  162.929993  160.149994  160.880005  160.880005   \n",
       "2019-08-23  160.080002  160.350006  155.270004  155.850006  155.850006   \n",
       "\n",
       "             Volume  \n",
       "Date                 \n",
       "2019-08-21  1623600  \n",
       "2019-08-22  1441600  \n",
       "2019-08-23  4223900  "
      ]
     },
     "execution_count": 5,
     "metadata": {},
     "output_type": "execute_result"
    }
   ],
   "source": [
    "df.tail(3)"
   ]
  },
  {
   "cell_type": "code",
   "execution_count": 6,
   "metadata": {},
   "outputs": [],
   "source": [
    "# Sort the data by dates\n",
    "df = df.sort_index(axis=0) "
   ]
  },
  {
   "cell_type": "code",
   "execution_count": 7,
   "metadata": {},
   "outputs": [
    {
     "data": {
      "text/html": [
       "<div>\n",
       "<style scoped>\n",
       "    .dataframe tbody tr th:only-of-type {\n",
       "        vertical-align: middle;\n",
       "    }\n",
       "\n",
       "    .dataframe tbody tr th {\n",
       "        vertical-align: top;\n",
       "    }\n",
       "\n",
       "    .dataframe thead th {\n",
       "        text-align: right;\n",
       "    }\n",
       "</style>\n",
       "<table border=\"1\" class=\"dataframe\">\n",
       "  <thead>\n",
       "    <tr style=\"text-align: right;\">\n",
       "      <th></th>\n",
       "      <th>Open</th>\n",
       "      <th>High</th>\n",
       "      <th>Low</th>\n",
       "      <th>Close</th>\n",
       "      <th>Adj Close</th>\n",
       "      <th>Volume</th>\n",
       "    </tr>\n",
       "  </thead>\n",
       "  <tbody>\n",
       "    <tr>\n",
       "      <th>count</th>\n",
       "      <td>12360.000000</td>\n",
       "      <td>12360.000000</td>\n",
       "      <td>12360.000000</td>\n",
       "      <td>12360.000000</td>\n",
       "      <td>12360.000000</td>\n",
       "      <td>1.236000e+04</td>\n",
       "    </tr>\n",
       "    <tr>\n",
       "      <th>mean</th>\n",
       "      <td>52.278474</td>\n",
       "      <td>52.704507</td>\n",
       "      <td>51.844152</td>\n",
       "      <td>52.290592</td>\n",
       "      <td>38.074517</td>\n",
       "      <td>2.154778e+06</td>\n",
       "    </tr>\n",
       "    <tr>\n",
       "      <th>std</th>\n",
       "      <td>54.630599</td>\n",
       "      <td>54.993932</td>\n",
       "      <td>54.247590</td>\n",
       "      <td>54.638248</td>\n",
       "      <td>53.237148</td>\n",
       "      <td>1.782377e+06</td>\n",
       "    </tr>\n",
       "    <tr>\n",
       "      <th>min</th>\n",
       "      <td>5.273438</td>\n",
       "      <td>5.328125</td>\n",
       "      <td>5.257813</td>\n",
       "      <td>5.273438</td>\n",
       "      <td>0.330694</td>\n",
       "      <td>3.520000e+04</td>\n",
       "    </tr>\n",
       "    <tr>\n",
       "      <th>25%</th>\n",
       "      <td>9.796875</td>\n",
       "      <td>9.875000</td>\n",
       "      <td>9.703125</td>\n",
       "      <td>9.796875</td>\n",
       "      <td>0.848003</td>\n",
       "      <td>8.944000e+05</td>\n",
       "    </tr>\n",
       "    <tr>\n",
       "      <th>50%</th>\n",
       "      <td>27.921875</td>\n",
       "      <td>28.125000</td>\n",
       "      <td>27.625000</td>\n",
       "      <td>27.906250</td>\n",
       "      <td>11.469022</td>\n",
       "      <td>1.809200e+06</td>\n",
       "    </tr>\n",
       "    <tr>\n",
       "      <th>75%</th>\n",
       "      <td>78.412502</td>\n",
       "      <td>79.092497</td>\n",
       "      <td>77.667503</td>\n",
       "      <td>78.360001</td>\n",
       "      <td>55.883679</td>\n",
       "      <td>2.884150e+06</td>\n",
       "    </tr>\n",
       "    <tr>\n",
       "      <th>max</th>\n",
       "      <td>258.510010</td>\n",
       "      <td>259.769989</td>\n",
       "      <td>255.970001</td>\n",
       "      <td>258.630005</td>\n",
       "      <td>245.844299</td>\n",
       "      <td>2.911600e+07</td>\n",
       "    </tr>\n",
       "  </tbody>\n",
       "</table>\n",
       "</div>"
      ],
      "text/plain": [
       "               Open          High           Low         Close     Adj Close  \\\n",
       "count  12360.000000  12360.000000  12360.000000  12360.000000  12360.000000   \n",
       "mean      52.278474     52.704507     51.844152     52.290592     38.074517   \n",
       "std       54.630599     54.993932     54.247590     54.638248     53.237148   \n",
       "min        5.273438      5.328125      5.257813      5.273438      0.330694   \n",
       "25%        9.796875      9.875000      9.703125      9.796875      0.848003   \n",
       "50%       27.921875     28.125000     27.625000     27.906250     11.469022   \n",
       "75%       78.412502     79.092497     77.667503     78.360001     55.883679   \n",
       "max      258.510010    259.769989    255.970001    258.630005    245.844299   \n",
       "\n",
       "             Volume  \n",
       "count  1.236000e+04  \n",
       "mean   2.154778e+06  \n",
       "std    1.782377e+06  \n",
       "min    3.520000e+04  \n",
       "25%    8.944000e+05  \n",
       "50%    1.809200e+06  \n",
       "75%    2.884150e+06  \n",
       "max    2.911600e+07  "
      ]
     },
     "execution_count": 7,
     "metadata": {},
     "output_type": "execute_result"
    }
   ],
   "source": [
    "df.describe()"
   ]
  },
  {
   "cell_type": "code",
   "execution_count": 8,
   "metadata": {},
   "outputs": [
    {
     "data": {
      "image/png": "[encoded data removed]",
      "text/plain": [
       "<Figure size 1080x576 with 1 Axes>"
      ]
     },
     "metadata": {
      "needs_background": "light"
     },
     "output_type": "display_data"
    }
   ],
   "source": [
    "plt.figure(figsize=(15, 8))\n",
    "plt.plot(df['Close'], label='Close Price history');"
   ]
  },
  {
   "cell_type": "markdown",
   "metadata": {},
   "source": [
    "Now we have transformed the series into a stationary serie.\n",
    "\n",
    "Divide into train and test sets."
   ]
  },
  {
   "cell_type": "code",
   "execution_count": 9,
   "metadata": {},
   "outputs": [
    {
     "name": "stdout",
     "output_type": "stream",
     "text": [
      "Total: (12360, 6) \n",
      "Train: (9888, 6) \n",
      "Test: (2472, 6)\n"
     ]
    }
   ],
   "source": [
    "n_tr = int(0.8 * df.shape[0])\n",
    "df_tr = df[:n_tr].copy()\n",
    "df_te = df[n_tr:].copy()\n",
    "\n",
    "print(f'Total: {df.shape} \\nTrain: {df_tr.shape} \\nTest: {df_te.shape}')"
   ]
  },
  {
   "cell_type": "markdown",
   "metadata": {},
   "source": [
    "## **7. Long Short Term Memory (LSTM)**\n",
    "\n",
    "LSTMs are widely used for sequence prediction problems and have proven to be extremely effective. The reason they work so well is because LSTM is able to store past information that is important, and forget the information that is not. LSTM has three gates:\n",
    "\n",
    "* The input gate: The input gate adds information to the cell state\n",
    "* The forget gate: It removes the information that is no longer required by the model\n",
    "* The output gate: Output Gate at LSTM selects the information to be shown as output\n",
    "\n",
    "\n"
   ]
  },
  {
   "cell_type": "code",
   "execution_count": 10,
   "metadata": {},
   "outputs": [
    {
     "name": "stderr",
     "output_type": "stream",
     "text": [
      "Using TensorFlow backend.\n"
     ]
    }
   ],
   "source": [
    "from sklearn.preprocessing import MinMaxScaler\n",
    "from keras.models import Sequential\n",
    "from keras.layers import Dense, Dropout, LSTM\n",
    "\n",
    "# We only need in the dataset the value to predict and the date\n",
    "data = df[['Close']].copy()\n",
    "\n",
    "# Define train and test sets\n",
    "dataset = data.values\n",
    "\n",
    "df_tr = dataset[:n_tr]\n",
    "df_te = dataset[n_tr:]\n",
    "\n",
    "# Converting dataset into x_train and y_train\n",
    "scaler = MinMaxScaler(feature_range=(0, 1))\n",
    "scaled_data = scaler.fit_transform(dataset)\n",
    "\n",
    "x_train, y_train = [], []\n",
    "for i in range(60,len(df_tr)):\n",
    "    x_train.append(scaled_data[i-60:i, 0])\n",
    "    y_train.append(scaled_data[i, 0])\n",
    "x_train, y_train = np.array(x_train), np.array(y_train)\n",
    "\n",
    "x_train = np.reshape(x_train, (x_train.shape[0],x_train.shape[1],1))"
   ]
  },
  {
   "cell_type": "code",
   "execution_count": null,
   "metadata": {},
   "outputs": [
    {
     "name": "stdout",
     "output_type": "stream",
     "text": [
      "WARNING:tensorflow:From /home/greg/anaconda3/envs/dev37/lib/python3.7/site-packages/tensorflow/python/framework/op_def_library.py:263: colocate_with (from tensorflow.python.framework.ops) is deprecated and will be removed in a future version.\n",
      "Instructions for updating:\n",
      "Colocations handled automatically by placer.\n",
      "WARNING:tensorflow:From /home/greg/anaconda3/envs/dev37/lib/python3.7/site-packages/tensorflow/python/ops/math_ops.py:3066: to_int32 (from tensorflow.python.ops.math_ops) is deprecated and will be removed in a future version.\n",
      "Instructions for updating:\n",
      "Use tf.cast instead.\n",
      "Epoch 1/1\n"
     ]
    }
   ],
   "source": [
    "# Create and fit the LSTM network\n",
    "model = Sequential()\n",
    "model.add(LSTM(units=50, return_sequences=True, input_shape=(x_train.shape[1],1)))\n",
    "model.add(LSTM(units=100))\n",
    "model.add(Dense(1))\n",
    "\n",
    "model.compile(loss='mean_squared_error', optimizer='adam')\n",
    "model.fit(x_train, y_train, epochs=1, batch_size=1, verbose=2)\n",
    "\n",
    "#predicting 246 values, using past 60 from the train data\n",
    "inputs = data[len(data) - len(df_te) - 60:].values\n",
    "inputs = inputs.reshape(-1, 1)\n",
    "inputs  = scaler.transform(inputs)\n",
    "\n",
    "X_test = []\n",
    "for i in range(60, inputs.shape[0]):\n",
    "    X_test.append(inputs[i-60:i, 0])\n",
    "X_test = np.array(X_test)\n",
    "\n",
    "X_test = np.reshape(X_test, (X_test.shape[0],X_test.shape[1], 1))\n",
    "closing_price = model.predict(X_test)\n",
    "closing_price = scaler.inverse_transform(closing_price)"
   ]
  },
  {
   "cell_type": "code",
   "execution_count": null,
   "metadata": {},
   "outputs": [],
   "source": [
    "# RMSE\n",
    "rmse = np.sqrt(np.mean(np.power((df_te - closing_price),2)))\n",
    "print(f'RMSE: {round(rmse, 3)}')"
   ]
  },
  {
   "cell_type": "code",
   "execution_count": null,
   "metadata": {},
   "outputs": [],
   "source": [
    "df_train = data[:n_tr].copy()\n",
    "df_test = data[n_tr:].copy()\n",
    "df_test.loc[:, 'Predictions'] = closing_price\n",
    "\n",
    "plt.figure(figsize=(15, 8))\n",
    "plt.plot(df_train['Close']);\n",
    "plt.plot(df_test[['Close','Predictions']]);"
   ]
  },
  {
   "cell_type": "markdown",
   "metadata": {},
   "source": [
    "The LSTM model can be tuned for various parameters such as changing the number of LSTM layers, adding dropout value or increasing the number of epochs. But are the predictions from LSTM enough to identify whether the stock price will increase or decrease? Certainly not!\n",
    "\n",
    "As I mentioned at the start of the article, stock price is affected by the news about the company and other factors like demonetization or merger/demerger of the companies. There are certain intangible factors as well which can often be impossible to predict beforehand."
   ]
  },
  {
   "cell_type": "code",
   "execution_count": 43,
   "metadata": {},
   "outputs": [
    {
     "data": {
      "text/plain": [
       "Index(['Close'], dtype='object')"
      ]
     },
     "execution_count": 43,
     "metadata": {},
     "output_type": "execute_result"
    }
   ],
   "source": [
    "df_train.columns"
   ]
  },
  {
   "cell_type": "code",
   "execution_count": null,
   "metadata": {},
   "outputs": [],
   "source": []
  }
 ],
 "metadata": {
  "kernelspec": {
   "display_name": "Python 3",
   "language": "python",
   "name": "python3"
  },
  "language_info": {
   "codemirror_mode": {
    "name": "ipython",
    "version": 3
   },
   "file_extension": ".py",
   "mimetype": "text/x-python",
   "name": "python",
   "nbconvert_exporter": "python",
   "pygments_lexer": "ipython3",
   "version": "3.7.3"
  }
 },
 "nbformat": 4,
 "nbformat_minor": 2
}
