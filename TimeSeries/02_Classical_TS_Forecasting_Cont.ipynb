{
 "cells": [
  {
   "cell_type": "markdown",
   "metadata": {},
   "source": [
    "# Classical Time Series (TS) Forecasting Cont.\n",
    "\n",
    "\n",
    "## Overview\n",
    "\n",
    "1. **Tests**\n",
    "    1. Granger’s Causality Test\n",
    "    2. Cointegration Test\n",
    "    \n",
    "\n",
    "2. **Classical Forecasting Methods**\n",
    "    * Seasonal Autoregressive Integrated Moving-Average with Exogenous Regressors (SARIMAX)\n",
    "    * Vector Autoregression (VAR)\n",
    "    * Vector Autoregression Moving-Average (VARMA)\n",
    "    * Vector Autoregression Moving-Average with Exogenous Regressors (VARMAX)\n",
    "    * Simple Exponential Smoothing (SES)\n",
    "    * Holt Winter’s Exponential Smoothing (HWES)"
   ]
  },
  {
   "cell_type": "markdown",
   "metadata": {},
   "source": [
    "## Tests\n",
    "\n",
    "### A. Granger’s Causality Test\n",
    "\n",
    "Let's use Granger's Causality Test to assess if each of the TS in the system influences each other. That is if it is possible to predict the series with past values of itself along with other series in the system. And we can test this relationship before even building the model.\n",
    "\n",
    "Granger’s causality tests the null hypothesis that the coefficients of past values in the regression equation is zero.\n",
    "\n",
    "That means that the past values of time series (X) do not cause the other series (Y). So if the p-value obtained from the test is lesser than the significance level of 0.05, then we can safely reject the null hypothesis.\n",
    "\n",
    "\n",
    "### B. Cointegration Test\n",
    "\n",
    "Cointegration test establishes the presence of a statistically significant connection between two or more time series.\n",
    "\n",
    "When you have two or more time series and there exists a linear combination of them that has an order of integration (d) less than that of the individual series, then the collection of series is said to be cointegrated. (The order of integration(d) is the number of differencing required to make a non-stationary time series stationary.)\n",
    "\n",
    "So when two or more time series are cointegrated it means they have a long run, statistically significant relationship."
   ]
  },
  {
   "cell_type": "markdown",
   "metadata": {},
   "source": [
    "### Load Basic Libraries"
   ]
  },
  {
   "cell_type": "code",
   "execution_count": 1,
   "metadata": {
    "scrolled": true
   },
   "outputs": [
    {
     "name": "stdout",
     "output_type": "stream",
     "text": [
      "CPython 3.7.3\n",
      "IPython 7.5.0\n",
      "\n",
      "numpy 1.16.4\n",
      "pandas 0.24.2\n",
      "skmultilearn unknown\n",
      "\n",
      "compiler   : GCC 7.3.0\n",
      "system     : Linux\n",
      "release    : 5.0.0-23-generic\n",
      "machine    : x86_64\n",
      "processor  : x86_64\n",
      "CPU cores  : 8\n",
      "interpreter: 64bit\n",
      "Git hash   : d86a0b67678743daf3973137ff2eebe908c9c138\n"
     ]
    }
   ],
   "source": [
    "%load_ext autoreload\n",
    "%autoreload 2\n",
    "%matplotlib inline\n",
    "%load_ext watermark\n",
    "%watermark -v -m -p numpy,pandas,skmultilearn -g\n",
    "\n",
    "import os\n",
    "import sys\n",
    "import re\n",
    "from tqdm import tqdm\n",
    "import yaml\n",
    "import watermark\n",
    "from math import floor\n",
    "from random import random\n",
    "from pprint import pprint as pp\n",
    "import numpy as np\n",
    "import pandas as pd\n",
    "import matplotlib as mpl\n",
    "import matplotlib.pyplot as plt\n",
    "import seaborn as sns\n",
    "import pandas_profiling\n",
    "from pandas.plotting import register_matplotlib_converters    # for pandas_profiling\n",
    "\n",
    "register_matplotlib_converters()                              # for pandas_profiling\n",
    "sys.path.append(os.pardir)"
   ]
  },
  {
   "cell_type": "markdown",
   "metadata": {},
   "source": [
    "### Constants"
   ]
  },
  {
   "cell_type": "code",
   "execution_count": 2,
   "metadata": {},
   "outputs": [],
   "source": [
    "INPUT_DATA = \"../data/raw/wage_and_inflation.csv\""
   ]
  },
  {
   "cell_type": "markdown",
   "metadata": {},
   "source": [
    "## Seasonal Autoregressive Integrated Moving-Average with Exogenous Regressors (SARIMAX)\n",
    "\n",
    "This is an extension of the SARIMA model that also includes the modeling of exogenous variables.\n",
    "\n",
    "Exogenous variables are also called covariates and can be thought of as parallel input sequences that have observations at the same time steps as the original series. The primary series may be referred to as endogenous data to contrast it from the exogenous sequence(s). The observations for exogenous variables are included in the model directly at each time step and are not modeled in the same way as the primary endogenous sequence (ex. as an AR, MA, etc. process).\n",
    "\n",
    "The SARIMAX method can also be used to model the subsumed models with exogenous variables, such as ARX, MAX, ARMAX, and ARIMAX by setting to zero the corresponding parameters.\n",
    "\n",
    "The method is suitable for univariate time series with trend and/or seasonal components and exogenous variables."
   ]
  },
  {
   "cell_type": "code",
   "execution_count": 3,
   "metadata": {},
   "outputs": [],
   "source": [
    "from statsmodels.tsa.statespace.sarimax import SARIMAX\n",
    "\n",
    "# create data\n",
    "data1 = [x + random() for x in range(1, 100)]\n",
    "data2 = [x + random() for x in range(101, 200)]\n",
    "\n",
    "# fit model\n",
    "model = SARIMAX(data1, exog=data2, order=(1, 1, 1), seasonal_order=(0, 0, 0, 0))\n",
    "model_fit = model.fit(disp=False)\n",
    "\n",
    "# make prediction\n",
    "exog2 = [200 + random()]\n",
    "predictions = model_fit.predict(len(data1), len(data1), exog=[exog2])"
   ]
  },
  {
   "cell_type": "markdown",
   "metadata": {},
   "source": [
    "### Vector Autoregression (VAR)\n",
    "The **VAR** method is the generalization of AR to multiple parallel time series (ex. multivariate time series). It is used when two or more time series influence each other. This method models the next step in each time series using an AR model. We refer to this model as VAR(p).\n",
    "\n",
    "1. You need atleast two time series (variables)\n",
    "2. The time series should influence each other.\n",
    "\n",
    "The method is suitable for multivariate time series without trend and seasonal components.\n",
    "\n",
    "The main difference with other Autoregressive models like AR, ARMA or ARIMA is that these other models are uni-directional, the predictors influence the Y and not vice-versa. Whereas Vector Auto Regression (VAR) is bi-directional, that is the variables influence each other.\n",
    "\n",
    "The AR(p) model equation looks like this:\n",
    "\\begin{equation*}\n",
    "Y_{t} ​​=​​\\alpha ​​+​​ \\beta_1​Y_{t-1} ​​+​​ \\beta_2​Y_{t-2} ​​+​​...​​+​​ \\beta_n​Y_{t-n}​​+​​ \\epsilon_t​\n",
    "\\end{equation*}\n",
    "\n",
    "In the VAR model each variable is modeled as a linear combination of past values of itself and the past values of other variables in the system. Since you have multiple time series that influence each other, it is modeled as a system of equations with one equation per variable (time series).\n",
    "\n",
    "\\begin{equation*}\n",
    "Y_{1,t} ​​=​​\\alpha_1 ​​+​​ \\beta_{11,1}​Y_{1,t-1} ​​+​​ \\beta_{12,1}​Y_{2,t-1} ​​+​​ \\epsilon_{1,t}​\n",
    "\\end{equation*}\n",
    "\n",
    "\\begin{equation*}\n",
    "Y_{2,t} ​​=​​\\alpha_2 ​​+​​ \\beta_{21,1}​Y_{1,t-1} ​​+​​ \\beta_{22,1}​Y_{2,t-1} ​​+​​ \\epsilon_{2,t}​\n",
    "\\end{equation*}\n",
    "\n",
    "Where Y{1,t-1} and Y{2,t-1} are the first lag of time series Y1 and Y2 respectively."
   ]
  },
  {
   "cell_type": "code",
   "execution_count": 4,
   "metadata": {},
   "outputs": [
    {
     "name": "stdout",
     "output_type": "stream",
     "text": [
      "VAR Model Prediction: [[100.17987637 100.66928399]]\n"
     ]
    }
   ],
   "source": [
    "from statsmodels.tsa.vector_ar.var_model import VAR\n",
    "\n",
    "data = list()\n",
    "for i in range(100):\n",
    "    v1 = i + random()\n",
    "    v2 = v1 + random()\n",
    "    row = [v1, v2]\n",
    "    data.append(row)\n",
    "    \n",
    "# fit model\n",
    "VAR_model = VAR(data)\n",
    "VAR_results = VAR_model.fit()\n",
    "# make prediction\n",
    "predictions = VAR_results.forecast(VAR_results.y, steps=1)\n",
    "print(\"VAR Model Prediction: %s\" % predictions)"
   ]
  },
  {
   "cell_type": "code",
   "execution_count": 5,
   "metadata": {},
   "outputs": [],
   "source": [
    "from statsmodels.tsa.api import VAR\n",
    "from statsmodels.tsa.stattools import adfuller\n",
    "from statsmodels.tools.eval_measures import rmse, aic\n",
    "\n",
    "df = pd.read_csv(INPUT_DATA, parse_dates=['date'], index_col='date')"
   ]
  },
  {
   "cell_type": "code",
   "execution_count": 6,
   "metadata": {},
   "outputs": [
    {
     "data": {
      "text/html": [
       "<div>\n",
       "<style scoped>\n",
       "    .dataframe tbody tr th:only-of-type {\n",
       "        vertical-align: middle;\n",
       "    }\n",
       "\n",
       "    .dataframe tbody tr th {\n",
       "        vertical-align: top;\n",
       "    }\n",
       "\n",
       "    .dataframe thead th {\n",
       "        text-align: right;\n",
       "    }\n",
       "</style>\n",
       "<table border=\"1\" class=\"dataframe\">\n",
       "  <thead>\n",
       "    <tr style=\"text-align: right;\">\n",
       "      <th></th>\n",
       "      <th>Real GNP</th>\n",
       "      <th>Potential Real GNP</th>\n",
       "      <th>Unit labor cost</th>\n",
       "      <th>gdfco</th>\n",
       "      <th>gdf</th>\n",
       "      <th>gdfim</th>\n",
       "      <th>gdfcf</th>\n",
       "      <th>gdfce</th>\n",
       "    </tr>\n",
       "    <tr>\n",
       "      <th>date</th>\n",
       "      <th></th>\n",
       "      <th></th>\n",
       "      <th></th>\n",
       "      <th></th>\n",
       "      <th></th>\n",
       "      <th></th>\n",
       "      <th></th>\n",
       "      <th></th>\n",
       "    </tr>\n",
       "  </thead>\n",
       "  <tbody>\n",
       "    <tr>\n",
       "      <th>1959-01-01</th>\n",
       "      <td>1606.4</td>\n",
       "      <td>1608.3</td>\n",
       "      <td>47.5</td>\n",
       "      <td>36.9</td>\n",
       "      <td>37.4</td>\n",
       "      <td>26.9</td>\n",
       "      <td>32.3</td>\n",
       "      <td>23.1</td>\n",
       "    </tr>\n",
       "    <tr>\n",
       "      <th>1959-04-01</th>\n",
       "      <td>1637.0</td>\n",
       "      <td>1622.2</td>\n",
       "      <td>47.5</td>\n",
       "      <td>37.4</td>\n",
       "      <td>37.5</td>\n",
       "      <td>27.0</td>\n",
       "      <td>32.2</td>\n",
       "      <td>23.4</td>\n",
       "    </tr>\n",
       "    <tr>\n",
       "      <th>1959-07-01</th>\n",
       "      <td>1629.5</td>\n",
       "      <td>1636.2</td>\n",
       "      <td>48.7</td>\n",
       "      <td>37.6</td>\n",
       "      <td>37.6</td>\n",
       "      <td>27.1</td>\n",
       "      <td>32.4</td>\n",
       "      <td>23.4</td>\n",
       "    </tr>\n",
       "    <tr>\n",
       "      <th>1959-10-01</th>\n",
       "      <td>1643.4</td>\n",
       "      <td>1650.3</td>\n",
       "      <td>48.8</td>\n",
       "      <td>37.7</td>\n",
       "      <td>37.8</td>\n",
       "      <td>27.1</td>\n",
       "      <td>32.5</td>\n",
       "      <td>23.8</td>\n",
       "    </tr>\n",
       "    <tr>\n",
       "      <th>1960-01-01</th>\n",
       "      <td>1671.6</td>\n",
       "      <td>1664.6</td>\n",
       "      <td>49.1</td>\n",
       "      <td>37.8</td>\n",
       "      <td>37.8</td>\n",
       "      <td>27.2</td>\n",
       "      <td>32.4</td>\n",
       "      <td>23.8</td>\n",
       "    </tr>\n",
       "  </tbody>\n",
       "</table>\n",
       "</div>"
      ],
      "text/plain": [
       "            Real GNP  Potential Real GNP  Unit labor cost  gdfco   gdf  gdfim  \\\n",
       "date                                                                            \n",
       "1959-01-01    1606.4              1608.3             47.5   36.9  37.4   26.9   \n",
       "1959-04-01    1637.0              1622.2             47.5   37.4  37.5   27.0   \n",
       "1959-07-01    1629.5              1636.2             48.7   37.6  37.6   27.1   \n",
       "1959-10-01    1643.4              1650.3             48.8   37.7  37.8   27.1   \n",
       "1960-01-01    1671.6              1664.6             49.1   37.8  37.8   27.2   \n",
       "\n",
       "            gdfcf  gdfce  \n",
       "date                      \n",
       "1959-01-01   32.3   23.1  \n",
       "1959-04-01   32.2   23.4  \n",
       "1959-07-01   32.4   23.4  \n",
       "1959-10-01   32.5   23.8  \n",
       "1960-01-01   32.4   23.8  "
      ]
     },
     "execution_count": 6,
     "metadata": {},
     "output_type": "execute_result"
    }
   ],
   "source": [
    "df.head()"
   ]
  },
  {
   "cell_type": "markdown",
   "metadata": {},
   "source": [
    "With:\n",
    "1. gdfco : Fixed weight deflator for personal consumption expenditure excluding food and energy.\n",
    "2. gdf   : Fixed weight GNP deflator.\n",
    "3. gdfim : Fixed weight import deflator.\n",
    "4. gdfcf : Fixed weight deflator for food in personal consumption expenditure.\n",
    "5. gdfce : Fixed weight deflator for energy in personal consumption expenditure."
   ]
  },
  {
   "cell_type": "code",
   "execution_count": 7,
   "metadata": {},
   "outputs": [
    {
     "name": "stdout",
     "output_type": "stream",
     "text": [
      "<class 'pandas.core.frame.DataFrame'>\n",
      "DatetimeIndex: 123 entries, 1959-01-01 to 1989-07-01\n",
      "Data columns (total 8 columns):\n",
      "Real GNP              123 non-null float64\n",
      "Potential Real GNP    123 non-null float64\n",
      "Unit labor cost       123 non-null float64\n",
      "gdfco                 123 non-null float64\n",
      "gdf                   123 non-null float64\n",
      "gdfim                 123 non-null float64\n",
      "gdfcf                 123 non-null float64\n",
      "gdfce                 123 non-null float64\n",
      "dtypes: float64(8)\n",
      "memory usage: 8.6 KB\n"
     ]
    }
   ],
   "source": [
    "df.info()"
   ]
  },
  {
   "cell_type": "code",
   "execution_count": 8,
   "metadata": {},
   "outputs": [
    {
     "data": {
      "text/html": [
       "<div>\n",
       "<style scoped>\n",
       "    .dataframe tbody tr th:only-of-type {\n",
       "        vertical-align: middle;\n",
       "    }\n",
       "\n",
       "    .dataframe tbody tr th {\n",
       "        vertical-align: top;\n",
       "    }\n",
       "\n",
       "    .dataframe thead th {\n",
       "        text-align: right;\n",
       "    }\n",
       "</style>\n",
       "<table border=\"1\" class=\"dataframe\">\n",
       "  <thead>\n",
       "    <tr style=\"text-align: right;\">\n",
       "      <th></th>\n",
       "      <th>Real GNP</th>\n",
       "      <th>Potential Real GNP</th>\n",
       "      <th>Unit labor cost</th>\n",
       "      <th>gdfco</th>\n",
       "      <th>gdf</th>\n",
       "      <th>gdfim</th>\n",
       "      <th>gdfcf</th>\n",
       "      <th>gdfce</th>\n",
       "    </tr>\n",
       "  </thead>\n",
       "  <tbody>\n",
       "    <tr>\n",
       "      <th>count</th>\n",
       "      <td>123.000000</td>\n",
       "      <td>123.000000</td>\n",
       "      <td>123.000000</td>\n",
       "      <td>123.000000</td>\n",
       "      <td>123.000000</td>\n",
       "      <td>123.000000</td>\n",
       "      <td>123.000000</td>\n",
       "      <td>123.00000</td>\n",
       "    </tr>\n",
       "    <tr>\n",
       "      <th>mean</th>\n",
       "      <td>2747.097561</td>\n",
       "      <td>2758.462602</td>\n",
       "      <td>98.286992</td>\n",
       "      <td>69.460163</td>\n",
       "      <td>68.497561</td>\n",
       "      <td>59.397561</td>\n",
       "      <td>66.262602</td>\n",
       "      <td>52.90813</td>\n",
       "    </tr>\n",
       "    <tr>\n",
       "      <th>std</th>\n",
       "      <td>702.442330</td>\n",
       "      <td>735.028679</td>\n",
       "      <td>47.743734</td>\n",
       "      <td>31.724996</td>\n",
       "      <td>30.188260</td>\n",
       "      <td>31.086507</td>\n",
       "      <td>31.640044</td>\n",
       "      <td>31.60064</td>\n",
       "    </tr>\n",
       "    <tr>\n",
       "      <th>min</th>\n",
       "      <td>1606.400000</td>\n",
       "      <td>1608.300000</td>\n",
       "      <td>47.500000</td>\n",
       "      <td>36.900000</td>\n",
       "      <td>37.400000</td>\n",
       "      <td>26.600000</td>\n",
       "      <td>32.200000</td>\n",
       "      <td>23.10000</td>\n",
       "    </tr>\n",
       "    <tr>\n",
       "      <th>25%</th>\n",
       "      <td>2223.750000</td>\n",
       "      <td>2095.150000</td>\n",
       "      <td>53.400000</td>\n",
       "      <td>41.000000</td>\n",
       "      <td>41.350000</td>\n",
       "      <td>29.250000</td>\n",
       "      <td>37.000000</td>\n",
       "      <td>24.95000</td>\n",
       "    </tr>\n",
       "    <tr>\n",
       "      <th>50%</th>\n",
       "      <td>2734.000000</td>\n",
       "      <td>2743.400000</td>\n",
       "      <td>81.500000</td>\n",
       "      <td>56.100000</td>\n",
       "      <td>56.400000</td>\n",
       "      <td>53.700000</td>\n",
       "      <td>58.500000</td>\n",
       "      <td>40.20000</td>\n",
       "    </tr>\n",
       "    <tr>\n",
       "      <th>75%</th>\n",
       "      <td>3213.200000</td>\n",
       "      <td>3388.000000</td>\n",
       "      <td>151.250000</td>\n",
       "      <td>97.250000</td>\n",
       "      <td>97.550000</td>\n",
       "      <td>95.750000</td>\n",
       "      <td>98.250000</td>\n",
       "      <td>91.15000</td>\n",
       "    </tr>\n",
       "    <tr>\n",
       "      <th>max</th>\n",
       "      <td>4162.900000</td>\n",
       "      <td>4068.400000</td>\n",
       "      <td>187.400000</td>\n",
       "      <td>137.200000</td>\n",
       "      <td>130.200000</td>\n",
       "      <td>111.100000</td>\n",
       "      <td>129.900000</td>\n",
       "      <td>104.50000</td>\n",
       "    </tr>\n",
       "  </tbody>\n",
       "</table>\n",
       "</div>"
      ],
      "text/plain": [
       "          Real GNP  Potential Real GNP  Unit labor cost       gdfco  \\\n",
       "count   123.000000          123.000000       123.000000  123.000000   \n",
       "mean   2747.097561         2758.462602        98.286992   69.460163   \n",
       "std     702.442330          735.028679        47.743734   31.724996   \n",
       "min    1606.400000         1608.300000        47.500000   36.900000   \n",
       "25%    2223.750000         2095.150000        53.400000   41.000000   \n",
       "50%    2734.000000         2743.400000        81.500000   56.100000   \n",
       "75%    3213.200000         3388.000000       151.250000   97.250000   \n",
       "max    4162.900000         4068.400000       187.400000  137.200000   \n",
       "\n",
       "              gdf       gdfim       gdfcf      gdfce  \n",
       "count  123.000000  123.000000  123.000000  123.00000  \n",
       "mean    68.497561   59.397561   66.262602   52.90813  \n",
       "std     30.188260   31.086507   31.640044   31.60064  \n",
       "min     37.400000   26.600000   32.200000   23.10000  \n",
       "25%     41.350000   29.250000   37.000000   24.95000  \n",
       "50%     56.400000   53.700000   58.500000   40.20000  \n",
       "75%     97.550000   95.750000   98.250000   91.15000  \n",
       "max    130.200000  111.100000  129.900000  104.50000  "
      ]
     },
     "execution_count": 8,
     "metadata": {},
     "output_type": "execute_result"
    }
   ],
   "source": [
    "df.describe()"
   ]
  },
  {
   "cell_type": "markdown",
   "metadata": {},
   "source": [
    "### TS Plot"
   ]
  },
  {
   "cell_type": "code",
   "execution_count": 9,
   "metadata": {},
   "outputs": [
    {
     "data": {
      "image/png": "[encoded data removed]",
      "text/plain": [
       "<Figure size 960x720 with 8 Axes>"
      ]
     },
     "metadata": {
      "needs_background": "light"
     },
     "output_type": "display_data"
    }
   ],
   "source": [
    "fig, axes = plt.subplots(nrows=4, ncols=2, dpi=120, figsize=(8,6))\n",
    "for i, ax in enumerate(axes.flatten()):\n",
    "    data = df[df.columns[i]]\n",
    "    ax.plot(data, color='red', linewidth=1)\n",
    "    # Decorations\n",
    "    ax.set_title(df.columns[i])\n",
    "    ax.xaxis.set_ticks_position('none')\n",
    "    ax.yaxis.set_ticks_position('none')\n",
    "    ax.spines[\"top\"].set_alpha(0)\n",
    "    ax.tick_params(labelsize=6)\n",
    "\n",
    "plt.tight_layout();"
   ]
  },
  {
   "cell_type": "markdown",
   "metadata": {},
   "source": [
    "The series have a fairly similar trend patterns over the years except for gdfce and gdfim, where a different pattern is noticed starting in 1980."
   ]
  },
  {
   "cell_type": "markdown",
   "metadata": {},
   "source": [
    "### ***Granger’s Causality Test***"
   ]
  },
  {
   "cell_type": "code",
   "execution_count": 10,
   "metadata": {},
   "outputs": [
    {
     "data": {
      "text/html": [
       "<div>\n",
       "<style scoped>\n",
       "    .dataframe tbody tr th:only-of-type {\n",
       "        vertical-align: middle;\n",
       "    }\n",
       "\n",
       "    .dataframe tbody tr th {\n",
       "        vertical-align: top;\n",
       "    }\n",
       "\n",
       "    .dataframe thead th {\n",
       "        text-align: right;\n",
       "    }\n",
       "</style>\n",
       "<table border=\"1\" class=\"dataframe\">\n",
       "  <thead>\n",
       "    <tr style=\"text-align: right;\">\n",
       "      <th></th>\n",
       "      <th>Real GNP_x</th>\n",
       "      <th>Potential Real GNP_x</th>\n",
       "      <th>Unit labor cost_x</th>\n",
       "      <th>gdfco_x</th>\n",
       "      <th>gdf_x</th>\n",
       "      <th>gdfim_x</th>\n",
       "      <th>gdfcf_x</th>\n",
       "      <th>gdfce_x</th>\n",
       "    </tr>\n",
       "  </thead>\n",
       "  <tbody>\n",
       "    <tr>\n",
       "      <th>Real GNP_y</th>\n",
       "      <td>1.0000</td>\n",
       "      <td>0.0003</td>\n",
       "      <td>0.0001</td>\n",
       "      <td>0.0212</td>\n",
       "      <td>0.0014</td>\n",
       "      <td>0.0620</td>\n",
       "      <td>0.0001</td>\n",
       "      <td>0.0071</td>\n",
       "    </tr>\n",
       "    <tr>\n",
       "      <th>Potential Real GNP_y</th>\n",
       "      <td>0.0000</td>\n",
       "      <td>1.0000</td>\n",
       "      <td>0.0000</td>\n",
       "      <td>0.0000</td>\n",
       "      <td>0.0000</td>\n",
       "      <td>0.0000</td>\n",
       "      <td>0.0000</td>\n",
       "      <td>0.0000</td>\n",
       "    </tr>\n",
       "    <tr>\n",
       "      <th>Unit labor cost_y</th>\n",
       "      <td>0.0000</td>\n",
       "      <td>0.0000</td>\n",
       "      <td>1.0000</td>\n",
       "      <td>0.0002</td>\n",
       "      <td>0.0000</td>\n",
       "      <td>0.0000</td>\n",
       "      <td>0.0000</td>\n",
       "      <td>0.0041</td>\n",
       "    </tr>\n",
       "    <tr>\n",
       "      <th>gdfco_y</th>\n",
       "      <td>0.0000</td>\n",
       "      <td>0.0000</td>\n",
       "      <td>0.0000</td>\n",
       "      <td>1.0000</td>\n",
       "      <td>0.0000</td>\n",
       "      <td>0.0000</td>\n",
       "      <td>0.0000</td>\n",
       "      <td>0.0000</td>\n",
       "    </tr>\n",
       "    <tr>\n",
       "      <th>gdf_y</th>\n",
       "      <td>0.0000</td>\n",
       "      <td>0.0000</td>\n",
       "      <td>0.0000</td>\n",
       "      <td>0.0000</td>\n",
       "      <td>1.0000</td>\n",
       "      <td>0.0000</td>\n",
       "      <td>0.0000</td>\n",
       "      <td>0.0000</td>\n",
       "    </tr>\n",
       "    <tr>\n",
       "      <th>gdfim_y</th>\n",
       "      <td>0.0011</td>\n",
       "      <td>0.0067</td>\n",
       "      <td>0.0014</td>\n",
       "      <td>0.0083</td>\n",
       "      <td>0.0011</td>\n",
       "      <td>1.0000</td>\n",
       "      <td>0.0004</td>\n",
       "      <td>0.0000</td>\n",
       "    </tr>\n",
       "    <tr>\n",
       "      <th>gdfcf_y</th>\n",
       "      <td>0.0000</td>\n",
       "      <td>0.0000</td>\n",
       "      <td>0.0008</td>\n",
       "      <td>0.0008</td>\n",
       "      <td>0.0000</td>\n",
       "      <td>0.0038</td>\n",
       "      <td>1.0000</td>\n",
       "      <td>0.0009</td>\n",
       "    </tr>\n",
       "    <tr>\n",
       "      <th>gdfce_y</th>\n",
       "      <td>0.0025</td>\n",
       "      <td>0.0485</td>\n",
       "      <td>0.0000</td>\n",
       "      <td>0.0002</td>\n",
       "      <td>0.0000</td>\n",
       "      <td>0.0000</td>\n",
       "      <td>0.0000</td>\n",
       "      <td>1.0000</td>\n",
       "    </tr>\n",
       "  </tbody>\n",
       "</table>\n",
       "</div>"
      ],
      "text/plain": [
       "                      Real GNP_x  Potential Real GNP_x  Unit labor cost_x  \\\n",
       "Real GNP_y                1.0000                0.0003             0.0001   \n",
       "Potential Real GNP_y      0.0000                1.0000             0.0000   \n",
       "Unit labor cost_y         0.0000                0.0000             1.0000   \n",
       "gdfco_y                   0.0000                0.0000             0.0000   \n",
       "gdf_y                     0.0000                0.0000             0.0000   \n",
       "gdfim_y                   0.0011                0.0067             0.0014   \n",
       "gdfcf_y                   0.0000                0.0000             0.0008   \n",
       "gdfce_y                   0.0025                0.0485             0.0000   \n",
       "\n",
       "                      gdfco_x   gdf_x  gdfim_x  gdfcf_x  gdfce_x  \n",
       "Real GNP_y             0.0212  0.0014   0.0620   0.0001   0.0071  \n",
       "Potential Real GNP_y   0.0000  0.0000   0.0000   0.0000   0.0000  \n",
       "Unit labor cost_y      0.0002  0.0000   0.0000   0.0000   0.0041  \n",
       "gdfco_y                1.0000  0.0000   0.0000   0.0000   0.0000  \n",
       "gdf_y                  0.0000  1.0000   0.0000   0.0000   0.0000  \n",
       "gdfim_y                0.0083  0.0011   1.0000   0.0004   0.0000  \n",
       "gdfcf_y                0.0008  0.0000   0.0038   1.0000   0.0009  \n",
       "gdfce_y                0.0002  0.0000   0.0000   0.0000   1.0000  "
      ]
     },
     "execution_count": 10,
     "metadata": {},
     "output_type": "execute_result"
    }
   ],
   "source": [
    "from statsmodels.tsa.stattools import grangercausalitytests\n",
    "test = 'ssr_chi2test'\n",
    "\n",
    "def grangers_causation_matrix(data, variables, test='ssr_chi2test', verbose=False):    \n",
    "    \"\"\"Check Granger Causality of all possible combinations of the Time series.\n",
    "    The rows are the response variable, columns are predictors. The values in the table \n",
    "    are the P-Values. P-Values lesser than the significance level (0.05), implies \n",
    "    the Null Hypothesis that the coefficients of the corresponding past values is \n",
    "    zero, that is, the X does not cause Y can be rejected.\n",
    "\n",
    "    data      : pandas dataframe containing the time series variables\n",
    "    variables : list containing names of the time series variables.\n",
    "    \"\"\"\n",
    "    df = pd.DataFrame(np.zeros((len(variables), len(variables))), columns=variables, index=variables)\n",
    "    for c in df.columns:\n",
    "        for r in df.index:\n",
    "            test_result = grangercausalitytests(data[[r, c]], maxlag=maxlag, verbose=False)\n",
    "            p_values = [round(test_result[i+1][0][test][1],4) for i in range(maxlag)]\n",
    "            if verbose: print(f'Y = {r}, X = {c}, P Values = {p_values}')\n",
    "            min_p_value = np.min(p_values)\n",
    "            df.loc[r, c] = min_p_value\n",
    "    df.columns = [var + '_x' for var in variables]\n",
    "    df.index = [var + '_y' for var in variables]\n",
    "    return df\n",
    "\n",
    "grangers_causation_matrix(df, variables = df.columns) "
   ]
  },
  {
   "cell_type": "markdown",
   "metadata": {},
   "source": [
    "For example if we take the value 0.0212 in (row 1, column 4), it refers to the p-value of gdfco_x causing Real GNP_y. Any given p-value where significance level is <0.05, then the corresponding X series (column) causes the Y (row), so we can reject the null hypothesis and conclude that there is causality."
   ]
  },
  {
   "cell_type": "markdown",
   "metadata": {},
   "source": [
    "### ***Cointegration Test***"
   ]
  },
  {
   "cell_type": "code",
   "execution_count": 13,
   "metadata": {},
   "outputs": [
    {
     "data": {
      "text/html": [
       "<div>\n",
       "<style scoped>\n",
       "    .dataframe tbody tr th:only-of-type {\n",
       "        vertical-align: middle;\n",
       "    }\n",
       "\n",
       "    .dataframe tbody tr th {\n",
       "        vertical-align: top;\n",
       "    }\n",
       "\n",
       "    .dataframe thead th {\n",
       "        text-align: right;\n",
       "    }\n",
       "</style>\n",
       "<table border=\"1\" class=\"dataframe\">\n",
       "  <thead>\n",
       "    <tr style=\"text-align: right;\">\n",
       "      <th></th>\n",
       "      <th>Test Stat</th>\n",
       "      <th>&gt; C(95%)</th>\n",
       "      <th>Significance</th>\n",
       "    </tr>\n",
       "    <tr>\n",
       "      <th>Name</th>\n",
       "      <th></th>\n",
       "      <th></th>\n",
       "      <th></th>\n",
       "    </tr>\n",
       "  </thead>\n",
       "  <tbody>\n",
       "    <tr>\n",
       "      <th>R_GNP</th>\n",
       "      <td>247.995468</td>\n",
       "      <td>143.6691</td>\n",
       "      <td>True</td>\n",
       "    </tr>\n",
       "    <tr>\n",
       "      <th>PR_GNP</th>\n",
       "      <td>183.117145</td>\n",
       "      <td>111.7797</td>\n",
       "      <td>True</td>\n",
       "    </tr>\n",
       "    <tr>\n",
       "      <th>ulc</th>\n",
       "      <td>130.014024</td>\n",
       "      <td>83.9383</td>\n",
       "      <td>True</td>\n",
       "    </tr>\n",
       "    <tr>\n",
       "      <th>gdfco</th>\n",
       "      <td>85.284827</td>\n",
       "      <td>60.0627</td>\n",
       "      <td>True</td>\n",
       "    </tr>\n",
       "    <tr>\n",
       "      <th>gdf</th>\n",
       "      <td>55.052297</td>\n",
       "      <td>40.1749</td>\n",
       "      <td>True</td>\n",
       "    </tr>\n",
       "    <tr>\n",
       "      <th>gdfim</th>\n",
       "      <td>31.588830</td>\n",
       "      <td>24.2761</td>\n",
       "      <td>True</td>\n",
       "    </tr>\n",
       "    <tr>\n",
       "      <th>gdfcf</th>\n",
       "      <td>14.057177</td>\n",
       "      <td>12.3212</td>\n",
       "      <td>True</td>\n",
       "    </tr>\n",
       "    <tr>\n",
       "      <th>gdfce</th>\n",
       "      <td>0.451320</td>\n",
       "      <td>4.1296</td>\n",
       "      <td>False</td>\n",
       "    </tr>\n",
       "  </tbody>\n",
       "</table>\n",
       "</div>"
      ],
      "text/plain": [
       "         Test Stat  > C(95%)  Significance\n",
       "Name                                      \n",
       "R_GNP   247.995468  143.6691          True\n",
       "PR_GNP  183.117145  111.7797          True\n",
       "ulc     130.014024   83.9383          True\n",
       "gdfco    85.284827   60.0627          True\n",
       "gdf      55.052297   40.1749          True\n",
       "gdfim    31.588830   24.2761          True\n",
       "gdfcf    14.057177   12.3212          True\n",
       "gdfce     0.451320    4.1296         False"
      ]
     },
     "execution_count": 13,
     "metadata": {},
     "output_type": "execute_result"
    }
   ],
   "source": [
    "from statsmodels.tsa.vector_ar.vecm import coint_johansen\n",
    "\n",
    "repl = {'Real GNP': 'R_GNP', \n",
    "        'Potential Real GNP': 'PR_GNP', \n",
    "        'Unit labor cost': 'ulc'}\n",
    "\n",
    "df.columns = [k if (k not in repl.keys()) else repl[k] for k in df.columns]\n",
    "\n",
    "def cointegration_test(df, alpha=0.05, verbose=True):\n",
    "    \"\"\"Perform Johanson's Cointegration Test and Report Summary\"\"\"\n",
    "    out = coint_johansen(df,-1,5)\n",
    "    d = {'0.90':0, '0.95':1, '0.99':2}\n",
    "    traces = out.lr1\n",
    "    cvts = out.cvt[:, d[str(1-alpha)]]\n",
    "\n",
    "    dfoutput = pd.DataFrame(zip(df.columns, traces, cvts, traces > cvts),\n",
    "                            columns=['Name', 'Test Stat', '> C(95%)', 'Significance']).set_index(\"Name\")\n",
    "    if verbose:\n",
    "        # Summary\n",
    "        print(dfoutput)\n",
    "        \n",
    "    return dfoutput\n",
    "\n",
    "cointegration_test(df, verbose=False)"
   ]
  },
  {
   "cell_type": "markdown",
   "metadata": {},
   "source": [
    "Split the data:"
   ]
  },
  {
   "cell_type": "code",
   "execution_count": 14,
   "metadata": {},
   "outputs": [
    {
     "name": "stdout",
     "output_type": "stream",
     "text": [
      "(118, 8)\n",
      "(5, 8)\n"
     ]
    }
   ],
   "source": [
    "keep = 5\n",
    "df_train, df_test = df[0:-keep], df[-keep:]\n",
    "\n",
    "# Check size\n",
    "print(df_train.shape)  # (118, 8)\n",
    "print(df_test.shape)  # (5, 8)"
   ]
  },
  {
   "cell_type": "markdown",
   "metadata": {},
   "source": [
    "#### Check for Stationarity and make TS Stationary\n",
    "\n",
    "As from the previous notebook we have some tests that can help:\n",
    "* Augmented Dickey-Fuller Test (ADF Test)\n",
    "* KPSS test\n",
    "* Philip-Perron test"
   ]
  },
  {
   "cell_type": "code",
   "execution_count": null,
   "metadata": {},
   "outputs": [],
   "source": []
  },
  {
   "cell_type": "code",
   "execution_count": null,
   "metadata": {},
   "outputs": [],
   "source": []
  },
  {
   "cell_type": "code",
   "execution_count": null,
   "metadata": {},
   "outputs": [],
   "source": []
  },
  {
   "cell_type": "markdown",
   "metadata": {},
   "source": [
    "### Vector Autoregression Moving-Average (VARMA)\n",
    "**VARMA** models the next step in each time series using the ARMA model. It is the generalization of ARMA to multiple parallel time series (ex. multivariate time series).\n",
    "\n",
    "The notation for the model involves specifying the order for the AR(p) and MA(q) models as parameters to a VARMA function, e.g. VARMA(p, q). A VARMA model can also be used to develop VAR or VMA models.\n",
    "\n",
    "The method is suitable for multivariate time series without trend and seasonal components."
   ]
  },
  {
   "cell_type": "code",
   "execution_count": 4,
   "metadata": {},
   "outputs": [
    {
     "name": "stderr",
     "output_type": "stream",
     "text": [
      "/home/greg/anaconda3/envs/dev37/lib/python3.7/site-packages/statsmodels/tsa/statespace/varmax.py:152: EstimationWarning: Estimation of VARMA(p,q) models is not generically robust, due especially to identification issues.\n",
      "  EstimationWarning)\n",
      "/home/greg/anaconda3/envs/dev37/lib/python3.7/site-packages/statsmodels/tsa/statespace/representation.py:375: FutureWarning: Using a non-tuple sequence for multidimensional indexing is deprecated; use `arr[tuple(seq)]` instead of `arr[seq]`. In the future this will be interpreted as an array index, `arr[np.array(seq)]`, which will result either in an error or a different result.\n",
      "  return matrix[[slice(None)]*(matrix.ndim-1) + [0]]\n"
     ]
    },
    {
     "name": "stdout",
     "output_type": "stream",
     "text": [
      "VARMA Model Prediction: [[0.50161989 1.03910855]]\n"
     ]
    },
    {
     "name": "stderr",
     "output_type": "stream",
     "text": [
      "/home/greg/anaconda3/envs/dev37/lib/python3.7/site-packages/statsmodels/base/model.py:508: ConvergenceWarning: Maximum Likelihood optimization failed to converge. Check mle_retvals\n",
      "  \"Check mle_retvals\", ConvergenceWarning)\n",
      "/home/greg/anaconda3/envs/dev37/lib/python3.7/site-packages/statsmodels/tsa/statespace/varmax.py:152: EstimationWarning: Estimation of VARMA(p,q) models is not generically robust, due especially to identification issues.\n",
      "  EstimationWarning)\n"
     ]
    }
   ],
   "source": [
    "from statsmodels.tsa.statespace.varmax import VARMAX\n",
    "\n",
    "data = list()\n",
    "for i in range(100):\n",
    "    v1 = random()\n",
    "    v2 = v1 + random()\n",
    "    row = (v1, v2)\n",
    "    data.append(row)\n",
    "# fit model\n",
    "VARMA_model = VARMAX(data, order=(1, 1))\n",
    "VARMA_results = VARMA_model.fit(disp=False)\n",
    "# make prediction\n",
    "predictions = VARMA_results.forecast()\n",
    "print(\"VARMA Model Prediction: %s\" % predictions)"
   ]
  },
  {
   "cell_type": "markdown",
   "metadata": {},
   "source": [
    "### Vector Autoregression Moving-Average with Exogenous Regressors (VARMAX)\n",
    "**VARMAX** is an extension of the VARMA model that also includes the modeling of exogenous variables. It is a multivariate version of the ARMAX method.\n",
    "\n",
    "Exogenous variables are also called covariates and can be thought of as parallel input sequences that have observations at the same time steps as the original series. The primary series(es) are referred to as endogenous data to contrast it from the exogenous sequence(s). The observations for exogenous variables are included in the model directly at each time step and are not modeled in the same way as the primary endogenous sequence (e.g. as an AR, MA, etc. process).\n",
    "\n",
    "The VARMAX method can also be used to model the subsumed models with exogenous variables, such as VARX and VMAX.\n",
    "\n",
    "The method is suitable for multivariate time series without trend and seasonal components with exogenous variables."
   ]
  },
  {
   "cell_type": "code",
   "execution_count": 5,
   "metadata": {},
   "outputs": [
    {
     "name": "stderr",
     "output_type": "stream",
     "text": [
      "/home/greg/anaconda3/envs/dev37/lib/python3.7/site-packages/statsmodels/tsa/statespace/varmax.py:152: EstimationWarning: Estimation of VARMA(p,q) models is not generically robust, due especially to identification issues.\n",
      "  EstimationWarning)\n"
     ]
    },
    {
     "name": "stdout",
     "output_type": "stream",
     "text": [
      "VARMAX Model Prediction: [[0.54121949 1.02204882]]\n"
     ]
    },
    {
     "name": "stderr",
     "output_type": "stream",
     "text": [
      "/home/greg/anaconda3/envs/dev37/lib/python3.7/site-packages/statsmodels/base/model.py:508: ConvergenceWarning: Maximum Likelihood optimization failed to converge. Check mle_retvals\n",
      "  \"Check mle_retvals\", ConvergenceWarning)\n",
      "/home/greg/anaconda3/envs/dev37/lib/python3.7/site-packages/statsmodels/tsa/statespace/varmax.py:152: EstimationWarning: Estimation of VARMA(p,q) models is not generically robust, due especially to identification issues.\n",
      "  EstimationWarning)\n"
     ]
    }
   ],
   "source": [
    "from statsmodels.tsa.statespace.varmax import VARMAX\n",
    "\n",
    "data = list()\n",
    "for i in range(100):\n",
    "    v1 = random()\n",
    "    v2 = v1 + random()\n",
    "    row = [v1, v2]\n",
    "    data.append(row)\n",
    "data_exog = [x + random() for x in range(100)]\n",
    "# fit model\n",
    "VARMAX_model = VARMAX(data, exog=data_exog, order=(1, 1))\n",
    "VARMAX_results = VARMAX_model.fit(disp=False)\n",
    "# make prediction\n",
    "data_exog2 = [[100]]\n",
    "predictions = VARMAX_results.forecast(exog=data_exog2)\n",
    "print(\"VARMAX Model Prediction: %s\" % predictions)"
   ]
  },
  {
   "cell_type": "markdown",
   "metadata": {},
   "source": [
    "### Simple Exponential Smoothing (SES)\n",
    "**SES** models the next time step as an exponentially weighted linear function of observations at prior time steps.\n",
    "\n",
    "The method is suitable for univariate time series without trend and seasonal components. We still have the seasonal component but let's apply it just to show what happens..."
   ]
  },
  {
   "cell_type": "code",
   "execution_count": 6,
   "metadata": {},
   "outputs": [
    {
     "name": "stdout",
     "output_type": "stream",
     "text": [
      "SES Model Prediction: [99.19452246]\n"
     ]
    }
   ],
   "source": [
    "from statsmodels.tsa.holtwinters import SimpleExpSmoothing\n",
    "\n",
    "data = [x + random() for x in range(1, 100)]\n",
    "# fit model\n",
    "SES_model = SimpleExpSmoothing(data)\n",
    "SES_results = SES_model.fit()\n",
    "# make prediction\n",
    "predictions = SES_results.predict(len(data), len(data))\n",
    "print(\"SES Model Prediction: %s\" % predictions)"
   ]
  },
  {
   "cell_type": "markdown",
   "metadata": {},
   "source": [
    "### Holt Winter’s Exponential Smoothing (HWES)\n",
    "**HWES** also called the Triple Exponential Smoothing method models the next time step as an exponentially weighted linear function of observations at prior time steps, taking trends and seasonality into account.\n",
    "\n",
    "The method is suitable for univariate time series with trend and/or seasonal components.\n",
    "\n",
    "Again, let's apply the method just to show the behaviour..."
   ]
  },
  {
   "cell_type": "code",
   "execution_count": 7,
   "metadata": {},
   "outputs": [
    {
     "name": "stdout",
     "output_type": "stream",
     "text": [
      "HWES Model Prediction: [99.79365766]\n"
     ]
    }
   ],
   "source": [
    "from statsmodels.tsa.holtwinters import ExponentialSmoothing\n",
    "\n",
    "data = [x + random() for x in range(1, 100)]\n",
    "HWES_model = ExponentialSmoothing(data)\n",
    "HWES_results = HWES_model.fit()\n",
    "\n",
    "# make prediction\n",
    "predictions = HWES_results.predict(len(data), len(data))\n",
    "print(\"HWES Model Prediction: %s\" % predictions)"
   ]
  },
  {
   "cell_type": "code",
   "execution_count": null,
   "metadata": {},
   "outputs": [],
   "source": []
  }
 ],
 "metadata": {
  "kernelspec": {
   "display_name": "Python 3",
   "language": "python",
   "name": "python3"
  },
  "language_info": {
   "codemirror_mode": {
    "name": "ipython",
    "version": 3
   },
   "file_extension": ".py",
   "mimetype": "text/x-python",
   "name": "python",
   "nbconvert_exporter": "python",
   "pygments_lexer": "ipython3",
   "version": "3.7.3"
  }
 },
 "nbformat": 4,
 "nbformat_minor": 2
}
